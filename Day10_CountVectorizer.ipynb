{
  "nbformat": 4,
  "nbformat_minor": 0,
  "metadata": {
    "colab": {
      "name": "Day10_CountVectorizer.ipynb",
      "provenance": [],
      "collapsed_sections": [],
      "toc_visible": true,
      "authorship_tag": "ABX9TyNN2Ib8thHVj/ozeXlSGgvR",
      "include_colab_link": true
    },
    "kernelspec": {
      "name": "python3",
      "display_name": "Python 3"
    }
  },
  "cells": [
    {
      "cell_type": "markdown",
      "metadata": {
        "id": "view-in-github",
        "colab_type": "text"
      },
      "source": [
        "<a href=\"https://colab.research.google.com/github/psbhargava/100daysofnlp/blob/master/Day10_CountVectorizer.ipynb\" target=\"_parent\"><img src=\"https://colab.research.google.com/assets/colab-badge.svg\" alt=\"Open In Colab\"/></a>"
      ]
    },
    {
      "cell_type": "code",
      "metadata": {
        "id": "9xMqWstXP9G6",
        "colab_type": "code",
        "colab": {}
      },
      "source": [
        "from sklearn.feature_extraction.text import CountVectorizer\n",
        "corpus = ['This is the first document.',\n",
        "    'This document is the second document.',\n",
        "    'And this is the third one.',\n",
        "    'Is this the first document?',]"
      ],
      "execution_count": 0,
      "outputs": []
    },
    {
      "cell_type": "code",
      "metadata": {
        "id": "cf_8U9qrP_xf",
        "colab_type": "code",
        "outputId": "04a28da0-34a5-4658-f5e1-7eb679a7223f",
        "colab": {
          "base_uri": "https://localhost:8080/",
          "height": 35
        }
      },
      "source": [
        "vectorizer = CountVectorizer()\n",
        "vector = vectorizer.fit_transform(corpus)\n",
        "print(vectorizer.get_feature_names())"
      ],
      "execution_count": 2,
      "outputs": [
        {
          "output_type": "stream",
          "text": [
            "['and', 'document', 'first', 'is', 'one', 'second', 'the', 'third', 'this']\n"
          ],
          "name": "stdout"
        }
      ]
    },
    {
      "cell_type": "code",
      "metadata": {
        "id": "7xgcsAshQMFf",
        "colab_type": "code",
        "outputId": "fa7081fd-23c7-44bb-97d4-a4461824af01",
        "colab": {
          "base_uri": "https://localhost:8080/",
          "height": 54
        }
      },
      "source": [
        "print('Vocabulary: ')\n",
        "print(vectorizer.vocabulary_)"
      ],
      "execution_count": 3,
      "outputs": [
        {
          "output_type": "stream",
          "text": [
            "Vocabulary: \n",
            "{'this': 8, 'is': 3, 'the': 6, 'first': 2, 'document': 1, 'second': 5, 'and': 0, 'third': 7, 'one': 4}\n"
          ],
          "name": "stdout"
        }
      ]
    },
    {
      "cell_type": "code",
      "metadata": {
        "id": "KXO9dnQiQDvA",
        "colab_type": "code",
        "outputId": "d50631da-0e3b-4697-d8e3-10ccb8077b3e",
        "colab": {
          "base_uri": "https://localhost:8080/",
          "height": 90
        }
      },
      "source": [
        "print(vector.toarray())"
      ],
      "execution_count": 4,
      "outputs": [
        {
          "output_type": "stream",
          "text": [
            "[[0 1 1 1 0 0 1 0 1]\n",
            " [0 2 0 1 0 1 1 0 1]\n",
            " [1 0 0 1 1 0 1 1 1]\n",
            " [0 1 1 1 0 0 1 0 1]]\n"
          ],
          "name": "stdout"
        }
      ]
    },
    {
      "cell_type": "code",
      "metadata": {
        "id": "eRooCwobzkh6",
        "colab_type": "code",
        "colab": {}
      },
      "source": [
        "text1 = \"I love my cat but the cat sat on my face\"\n",
        "text2 = \"I love my dog but the dog sat on my bed\""
      ],
      "execution_count": 0,
      "outputs": []
    },
    {
      "cell_type": "code",
      "metadata": {
        "id": "YCDT8D4MznEY",
        "colab_type": "code",
        "colab": {}
      },
      "source": [
        "words1 = text1.split(\" \")\n",
        "words2 = text2.split(\" \")"
      ],
      "execution_count": 0,
      "outputs": []
    },
    {
      "cell_type": "code",
      "metadata": {
        "id": "JJ0R_AGPzp2I",
        "colab_type": "code",
        "outputId": "5cb78598-1d27-46af-c856-4b91b1616e9d",
        "colab": {
          "base_uri": "https://localhost:8080/",
          "height": 35
        }
      },
      "source": [
        "corpus = set(words1).union(set(words2))\n",
        "print(corpus)"
      ],
      "execution_count": 7,
      "outputs": [
        {
          "output_type": "stream",
          "text": [
            "{'on', 'my', 'but', 'sat', 'dog', 'bed', 'the', 'I', 'cat', 'face', 'love'}\n"
          ],
          "name": "stdout"
        }
      ]
    },
    {
      "cell_type": "code",
      "metadata": {
        "id": "Xg1g13LRzrWH",
        "colab_type": "code",
        "colab": {}
      },
      "source": [
        "from sklearn.feature_extraction.text import CountVectorizer\n",
        "corpus = [ \"I love my cat but the cat sat on my face\",\n",
        "    \"I love my dog but the dog sat on my bed\" ]"
      ],
      "execution_count": 0,
      "outputs": []
    },
    {
      "cell_type": "code",
      "metadata": {
        "id": "1K4MT7U-z09Q",
        "colab_type": "code",
        "colab": {}
      },
      "source": [
        "vectorizer = CountVectorizer()\n",
        "X = vectorizer.fit_transform(corpus)\n",
        "feature_names = vectorizer.get_feature_names()\n",
        "corpus_index = [n for n in corpus]"
      ],
      "execution_count": 0,
      "outputs": []
    },
    {
      "cell_type": "code",
      "metadata": {
        "id": "rRcnPANwz3Vo",
        "colab_type": "code",
        "outputId": "de3010bc-867a-4cd6-d114-458bba79985d",
        "colab": {
          "base_uri": "https://localhost:8080/",
          "height": 254
        }
      },
      "source": [
        "import pandas as pd\n",
        "df = pd.DataFrame(X.T.todense(), index = feature_names, columns = corpus_index)\n",
        "df.style"
      ],
      "execution_count": 10,
      "outputs": [
        {
          "output_type": "execute_result",
          "data": {
            "text/html": [
              "<style  type=\"text/css\" >\n",
              "</style><table id=\"T_54339762_4f52_11ea_9528_0242ac1c0002\" ><thead>    <tr>        <th class=\"blank level0\" ></th>        <th class=\"col_heading level0 col0\" >I love my cat but the cat sat on my face</th>        <th class=\"col_heading level0 col1\" >I love my dog but the dog sat on my bed</th>    </tr></thead><tbody>\n",
              "                <tr>\n",
              "                        <th id=\"T_54339762_4f52_11ea_9528_0242ac1c0002level0_row0\" class=\"row_heading level0 row0\" >bed</th>\n",
              "                        <td id=\"T_54339762_4f52_11ea_9528_0242ac1c0002row0_col0\" class=\"data row0 col0\" >0</td>\n",
              "                        <td id=\"T_54339762_4f52_11ea_9528_0242ac1c0002row0_col1\" class=\"data row0 col1\" >1</td>\n",
              "            </tr>\n",
              "            <tr>\n",
              "                        <th id=\"T_54339762_4f52_11ea_9528_0242ac1c0002level0_row1\" class=\"row_heading level0 row1\" >but</th>\n",
              "                        <td id=\"T_54339762_4f52_11ea_9528_0242ac1c0002row1_col0\" class=\"data row1 col0\" >1</td>\n",
              "                        <td id=\"T_54339762_4f52_11ea_9528_0242ac1c0002row1_col1\" class=\"data row1 col1\" >1</td>\n",
              "            </tr>\n",
              "            <tr>\n",
              "                        <th id=\"T_54339762_4f52_11ea_9528_0242ac1c0002level0_row2\" class=\"row_heading level0 row2\" >cat</th>\n",
              "                        <td id=\"T_54339762_4f52_11ea_9528_0242ac1c0002row2_col0\" class=\"data row2 col0\" >2</td>\n",
              "                        <td id=\"T_54339762_4f52_11ea_9528_0242ac1c0002row2_col1\" class=\"data row2 col1\" >0</td>\n",
              "            </tr>\n",
              "            <tr>\n",
              "                        <th id=\"T_54339762_4f52_11ea_9528_0242ac1c0002level0_row3\" class=\"row_heading level0 row3\" >dog</th>\n",
              "                        <td id=\"T_54339762_4f52_11ea_9528_0242ac1c0002row3_col0\" class=\"data row3 col0\" >0</td>\n",
              "                        <td id=\"T_54339762_4f52_11ea_9528_0242ac1c0002row3_col1\" class=\"data row3 col1\" >2</td>\n",
              "            </tr>\n",
              "            <tr>\n",
              "                        <th id=\"T_54339762_4f52_11ea_9528_0242ac1c0002level0_row4\" class=\"row_heading level0 row4\" >face</th>\n",
              "                        <td id=\"T_54339762_4f52_11ea_9528_0242ac1c0002row4_col0\" class=\"data row4 col0\" >1</td>\n",
              "                        <td id=\"T_54339762_4f52_11ea_9528_0242ac1c0002row4_col1\" class=\"data row4 col1\" >0</td>\n",
              "            </tr>\n",
              "            <tr>\n",
              "                        <th id=\"T_54339762_4f52_11ea_9528_0242ac1c0002level0_row5\" class=\"row_heading level0 row5\" >love</th>\n",
              "                        <td id=\"T_54339762_4f52_11ea_9528_0242ac1c0002row5_col0\" class=\"data row5 col0\" >1</td>\n",
              "                        <td id=\"T_54339762_4f52_11ea_9528_0242ac1c0002row5_col1\" class=\"data row5 col1\" >1</td>\n",
              "            </tr>\n",
              "            <tr>\n",
              "                        <th id=\"T_54339762_4f52_11ea_9528_0242ac1c0002level0_row6\" class=\"row_heading level0 row6\" >my</th>\n",
              "                        <td id=\"T_54339762_4f52_11ea_9528_0242ac1c0002row6_col0\" class=\"data row6 col0\" >2</td>\n",
              "                        <td id=\"T_54339762_4f52_11ea_9528_0242ac1c0002row6_col1\" class=\"data row6 col1\" >2</td>\n",
              "            </tr>\n",
              "            <tr>\n",
              "                        <th id=\"T_54339762_4f52_11ea_9528_0242ac1c0002level0_row7\" class=\"row_heading level0 row7\" >on</th>\n",
              "                        <td id=\"T_54339762_4f52_11ea_9528_0242ac1c0002row7_col0\" class=\"data row7 col0\" >1</td>\n",
              "                        <td id=\"T_54339762_4f52_11ea_9528_0242ac1c0002row7_col1\" class=\"data row7 col1\" >1</td>\n",
              "            </tr>\n",
              "            <tr>\n",
              "                        <th id=\"T_54339762_4f52_11ea_9528_0242ac1c0002level0_row8\" class=\"row_heading level0 row8\" >sat</th>\n",
              "                        <td id=\"T_54339762_4f52_11ea_9528_0242ac1c0002row8_col0\" class=\"data row8 col0\" >1</td>\n",
              "                        <td id=\"T_54339762_4f52_11ea_9528_0242ac1c0002row8_col1\" class=\"data row8 col1\" >1</td>\n",
              "            </tr>\n",
              "            <tr>\n",
              "                        <th id=\"T_54339762_4f52_11ea_9528_0242ac1c0002level0_row9\" class=\"row_heading level0 row9\" >the</th>\n",
              "                        <td id=\"T_54339762_4f52_11ea_9528_0242ac1c0002row9_col0\" class=\"data row9 col0\" >1</td>\n",
              "                        <td id=\"T_54339762_4f52_11ea_9528_0242ac1c0002row9_col1\" class=\"data row9 col1\" >1</td>\n",
              "            </tr>\n",
              "    </tbody></table>"
            ],
            "text/plain": [
              "<pandas.io.formats.style.Styler at 0x7f324a94bcf8>"
            ]
          },
          "metadata": {
            "tags": []
          },
          "execution_count": 10
        }
      ]
    },
    {
      "cell_type": "code",
      "metadata": {
        "id": "ml6MFKwzz4XA",
        "colab_type": "code",
        "outputId": "f54452d3-9146-46a4-82b5-a8dd64d4c9d2",
        "colab": {
          "base_uri": "https://localhost:8080/",
          "height": 201
        }
      },
      "source": [
        "print(X.T.toarray())"
      ],
      "execution_count": 11,
      "outputs": [
        {
          "output_type": "stream",
          "text": [
            "[[0 1]\n",
            " [1 1]\n",
            " [2 0]\n",
            " [0 2]\n",
            " [1 0]\n",
            " [1 1]\n",
            " [2 2]\n",
            " [1 1]\n",
            " [1 1]\n",
            " [1 1]]\n"
          ],
          "name": "stdout"
        }
      ]
    }
  ]
}