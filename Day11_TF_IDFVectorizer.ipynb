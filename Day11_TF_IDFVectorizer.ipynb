{
  "nbformat": 4,
  "nbformat_minor": 0,
  "metadata": {
    "colab": {
      "name": "Day11_TF-IDFVectorizer.ipynb",
      "provenance": [],
      "collapsed_sections": [],
      "toc_visible": true,
      "authorship_tag": "ABX9TyMXySZ79vi2Uk71tPVE7tCh",
      "include_colab_link": true
    },
    "kernelspec": {
      "name": "python3",
      "display_name": "Python 3"
    }
  },
  "cells": [
    {
      "cell_type": "markdown",
      "metadata": {
        "id": "view-in-github",
        "colab_type": "text"
      },
      "source": [
        "<a href=\"https://colab.research.google.com/github/psbhargava/100daysofnlp/blob/master/Day11_TF_IDFVectorizer.ipynb\" target=\"_parent\"><img src=\"https://colab.research.google.com/assets/colab-badge.svg\" alt=\"Open In Colab\"/></a>"
      ]
    },
    {
      "cell_type": "code",
      "metadata": {
        "id": "NNePK1HqTXkx",
        "colab_type": "code",
        "colab": {}
      },
      "source": [
        "text1 = \"I love my cat but the cat sat on my face\"\n",
        "text2 = \"I love my dog but the dog sat on my bed\""
      ],
      "execution_count": 0,
      "outputs": []
    },
    {
      "cell_type": "markdown",
      "metadata": {
        "id": "Ixx07oIOxPgf",
        "colab_type": "text"
      },
      "source": [
        "## Word Tokenization"
      ]
    },
    {
      "cell_type": "code",
      "metadata": {
        "id": "ltQdLYGWxNe_",
        "colab_type": "code",
        "colab": {}
      },
      "source": [
        "words1 = text1.split(\" \")\n",
        "words2 = text2.split(\" \")"
      ],
      "execution_count": 0,
      "outputs": []
    },
    {
      "cell_type": "code",
      "metadata": {
        "id": "1jqcYaCLyHlp",
        "colab_type": "code",
        "outputId": "31b7009d-7974-4c67-9fd0-963ce974a8bb",
        "colab": {
          "base_uri": "https://localhost:8080/",
          "height": 54
        }
      },
      "source": [
        "print(words1)\n",
        "print(words2)"
      ],
      "execution_count": 0,
      "outputs": [
        {
          "output_type": "stream",
          "text": [
            "['I', 'love', 'my', 'cat', 'but', 'the', 'cat', 'sat', 'on', 'my', 'face']\n",
            "['I', 'love', 'my', 'dog', 'but', 'the', 'dog', 'sat', 'on', 'my', 'bed']\n"
          ],
          "name": "stdout"
        }
      ]
    },
    {
      "cell_type": "code",
      "metadata": {
        "id": "jubWWCd1xSRW",
        "colab_type": "code",
        "outputId": "89f8b87c-eb43-406a-e8e8-a2225ee01108",
        "colab": {
          "base_uri": "https://localhost:8080/",
          "height": 35
        }
      },
      "source": [
        "corpus = set(words1).union(set(words2))\n",
        "print(corpus)"
      ],
      "execution_count": 0,
      "outputs": [
        {
          "output_type": "stream",
          "text": [
            "{'the', 'on', 'face', 'I', 'but', 'cat', 'my', 'sat', 'bed', 'love', 'dog'}\n"
          ],
          "name": "stdout"
        }
      ]
    },
    {
      "cell_type": "markdown",
      "metadata": {
        "id": "EjhxZGHQxYSJ",
        "colab_type": "text"
      },
      "source": [
        "## TF-IDF Vectorization"
      ]
    },
    {
      "cell_type": "code",
      "metadata": {
        "id": "-sYUBOWxxVQH",
        "colab_type": "code",
        "colab": {}
      },
      "source": [
        "from sklearn.feature_extraction.text import TfidfVectorizer\n",
        "tfidf = TfidfVectorizer()"
      ],
      "execution_count": 0,
      "outputs": []
    },
    {
      "cell_type": "code",
      "metadata": {
        "id": "Wl0SOJ3txfQf",
        "colab_type": "code",
        "colab": {}
      },
      "source": [
        "corpus = [\"I love my cat but the cat sat on my face\", \"I love my dog but the dog sat on my bed\"]\n",
        "X = tfidf.fit_transform(corpus)\n",
        "feature_names = tfidf.get_feature_names()\n",
        "corpus_index = [n for n in corpus]"
      ],
      "execution_count": 0,
      "outputs": []
    },
    {
      "cell_type": "code",
      "metadata": {
        "id": "SsVoztwZx0EP",
        "colab_type": "code",
        "outputId": "892ff70a-68d4-4d0a-e047-2cae20cedab1",
        "colab": {
          "base_uri": "https://localhost:8080/",
          "height": 254
        }
      },
      "source": [
        "import pandas as pd\n",
        "df = pd.DataFrame(X.T.todense(), index = feature_names, columns = corpus_index)\n",
        "df.style"
      ],
      "execution_count": 0,
      "outputs": [
        {
          "output_type": "execute_result",
          "data": {
            "text/html": [
              "<style  type=\"text/css\" >\n",
              "</style><table id=\"T_9b8a37fc_48c1_11ea_a9ce_0242ac1c0002\" ><thead>    <tr>        <th class=\"blank level0\" ></th>        <th class=\"col_heading level0 col0\" >I love my cat but the cat sat on my face</th>        <th class=\"col_heading level0 col1\" >I love my dog but the dog sat on my bed</th>    </tr></thead><tbody>\n",
              "                <tr>\n",
              "                        <th id=\"T_9b8a37fc_48c1_11ea_a9ce_0242ac1c0002level0_row0\" class=\"row_heading level0 row0\" >bed</th>\n",
              "                        <td id=\"T_9b8a37fc_48c1_11ea_a9ce_0242ac1c0002row0_col0\" class=\"data row0 col0\" >0</td>\n",
              "                        <td id=\"T_9b8a37fc_48c1_11ea_a9ce_0242ac1c0002row0_col1\" class=\"data row0 col1\" >0.323487</td>\n",
              "            </tr>\n",
              "            <tr>\n",
              "                        <th id=\"T_9b8a37fc_48c1_11ea_a9ce_0242ac1c0002level0_row1\" class=\"row_heading level0 row1\" >but</th>\n",
              "                        <td id=\"T_9b8a37fc_48c1_11ea_a9ce_0242ac1c0002row1_col0\" class=\"data row1 col0\" >0.230164</td>\n",
              "                        <td id=\"T_9b8a37fc_48c1_11ea_a9ce_0242ac1c0002row1_col1\" class=\"data row1 col1\" >0.230164</td>\n",
              "            </tr>\n",
              "            <tr>\n",
              "                        <th id=\"T_9b8a37fc_48c1_11ea_a9ce_0242ac1c0002level0_row2\" class=\"row_heading level0 row2\" >cat</th>\n",
              "                        <td id=\"T_9b8a37fc_48c1_11ea_a9ce_0242ac1c0002row2_col0\" class=\"data row2 col0\" >0.646975</td>\n",
              "                        <td id=\"T_9b8a37fc_48c1_11ea_a9ce_0242ac1c0002row2_col1\" class=\"data row2 col1\" >0</td>\n",
              "            </tr>\n",
              "            <tr>\n",
              "                        <th id=\"T_9b8a37fc_48c1_11ea_a9ce_0242ac1c0002level0_row3\" class=\"row_heading level0 row3\" >dog</th>\n",
              "                        <td id=\"T_9b8a37fc_48c1_11ea_a9ce_0242ac1c0002row3_col0\" class=\"data row3 col0\" >0</td>\n",
              "                        <td id=\"T_9b8a37fc_48c1_11ea_a9ce_0242ac1c0002row3_col1\" class=\"data row3 col1\" >0.646975</td>\n",
              "            </tr>\n",
              "            <tr>\n",
              "                        <th id=\"T_9b8a37fc_48c1_11ea_a9ce_0242ac1c0002level0_row4\" class=\"row_heading level0 row4\" >face</th>\n",
              "                        <td id=\"T_9b8a37fc_48c1_11ea_a9ce_0242ac1c0002row4_col0\" class=\"data row4 col0\" >0.323487</td>\n",
              "                        <td id=\"T_9b8a37fc_48c1_11ea_a9ce_0242ac1c0002row4_col1\" class=\"data row4 col1\" >0</td>\n",
              "            </tr>\n",
              "            <tr>\n",
              "                        <th id=\"T_9b8a37fc_48c1_11ea_a9ce_0242ac1c0002level0_row5\" class=\"row_heading level0 row5\" >love</th>\n",
              "                        <td id=\"T_9b8a37fc_48c1_11ea_a9ce_0242ac1c0002row5_col0\" class=\"data row5 col0\" >0.230164</td>\n",
              "                        <td id=\"T_9b8a37fc_48c1_11ea_a9ce_0242ac1c0002row5_col1\" class=\"data row5 col1\" >0.230164</td>\n",
              "            </tr>\n",
              "            <tr>\n",
              "                        <th id=\"T_9b8a37fc_48c1_11ea_a9ce_0242ac1c0002level0_row6\" class=\"row_heading level0 row6\" >my</th>\n",
              "                        <td id=\"T_9b8a37fc_48c1_11ea_a9ce_0242ac1c0002row6_col0\" class=\"data row6 col0\" >0.460328</td>\n",
              "                        <td id=\"T_9b8a37fc_48c1_11ea_a9ce_0242ac1c0002row6_col1\" class=\"data row6 col1\" >0.460328</td>\n",
              "            </tr>\n",
              "            <tr>\n",
              "                        <th id=\"T_9b8a37fc_48c1_11ea_a9ce_0242ac1c0002level0_row7\" class=\"row_heading level0 row7\" >on</th>\n",
              "                        <td id=\"T_9b8a37fc_48c1_11ea_a9ce_0242ac1c0002row7_col0\" class=\"data row7 col0\" >0.230164</td>\n",
              "                        <td id=\"T_9b8a37fc_48c1_11ea_a9ce_0242ac1c0002row7_col1\" class=\"data row7 col1\" >0.230164</td>\n",
              "            </tr>\n",
              "            <tr>\n",
              "                        <th id=\"T_9b8a37fc_48c1_11ea_a9ce_0242ac1c0002level0_row8\" class=\"row_heading level0 row8\" >sat</th>\n",
              "                        <td id=\"T_9b8a37fc_48c1_11ea_a9ce_0242ac1c0002row8_col0\" class=\"data row8 col0\" >0.230164</td>\n",
              "                        <td id=\"T_9b8a37fc_48c1_11ea_a9ce_0242ac1c0002row8_col1\" class=\"data row8 col1\" >0.230164</td>\n",
              "            </tr>\n",
              "            <tr>\n",
              "                        <th id=\"T_9b8a37fc_48c1_11ea_a9ce_0242ac1c0002level0_row9\" class=\"row_heading level0 row9\" >the</th>\n",
              "                        <td id=\"T_9b8a37fc_48c1_11ea_a9ce_0242ac1c0002row9_col0\" class=\"data row9 col0\" >0.230164</td>\n",
              "                        <td id=\"T_9b8a37fc_48c1_11ea_a9ce_0242ac1c0002row9_col1\" class=\"data row9 col1\" >0.230164</td>\n",
              "            </tr>\n",
              "    </tbody></table>"
            ],
            "text/plain": [
              "<pandas.io.formats.style.Styler at 0x7f8d1e2da7b8>"
            ]
          },
          "metadata": {
            "tags": []
          },
          "execution_count": 10
        }
      ]
    }
  ]
}