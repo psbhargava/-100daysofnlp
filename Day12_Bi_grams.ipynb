{
  "nbformat": 4,
  "nbformat_minor": 0,
  "metadata": {
    "colab": {
      "name": "Day12_Bi-grams.ipynb",
      "provenance": [],
      "collapsed_sections": [],
      "toc_visible": true,
      "authorship_tag": "ABX9TyMaTeNEGpetEPFweSNc6Bnt",
      "include_colab_link": true
    },
    "kernelspec": {
      "name": "python3",
      "display_name": "Python 3"
    }
  },
  "cells": [
    {
      "cell_type": "markdown",
      "metadata": {
        "id": "view-in-github",
        "colab_type": "text"
      },
      "source": [
        "<a href=\"https://colab.research.google.com/github/psbhargava/100daysofnlp/blob/master/Day12_Bi_grams.ipynb\" target=\"_parent\"><img src=\"https://colab.research.google.com/assets/colab-badge.svg\" alt=\"Open In Colab\"/></a>"
      ]
    },
    {
      "cell_type": "markdown",
      "metadata": {
        "id": "Q-NBfljOTJU4",
        "colab_type": "text"
      },
      "source": [
        "## Import"
      ]
    },
    {
      "cell_type": "code",
      "metadata": {
        "id": "izD4Zvjk7hAt",
        "colab_type": "code",
        "outputId": "243af679-3c7f-4dfb-b84c-8e85b0d58117",
        "colab": {
          "base_uri": "https://localhost:8080/",
          "height": 55
        }
      },
      "source": [
        "from nltk import ngrams\n",
        "Sentences = \"Natural language processing (NLP) is a subfield of linguistics, computer science, information engineering, and artificial intelligence concerned with the interactions between computers and human (natural) languages, in particular how to program computers to process and analyze large amounts of natural language data.  \"\n",
        "Sentences"
      ],
      "execution_count": 1,
      "outputs": [
        {
          "output_type": "execute_result",
          "data": {
            "text/plain": [
              "'Natural language processing (NLP) is a subfield of linguistics, computer science, information engineering, and artificial intelligence concerned with the interactions between computers and human (natural) languages, in particular how to program computers to process and analyze large amounts of natural language data.  '"
            ]
          },
          "metadata": {
            "tags": []
          },
          "execution_count": 1
        }
      ]
    },
    {
      "cell_type": "markdown",
      "metadata": {
        "id": "G6UoobBk9bY9",
        "colab_type": "text"
      },
      "source": [
        "## Uni-gram (Word-Tokenization)"
      ]
    },
    {
      "cell_type": "code",
      "metadata": {
        "id": "5W1xOUs4DTlo",
        "colab_type": "code",
        "colab": {}
      },
      "source": [
        "from gensim.models import Phrases\n",
        "documents = ['Natural language processing (NLP) is a subfield of linguistics, computer science, information engineering, and artificial intelligence concerned with the interactions between computers and human (natural) languages', 'In particular how to program computers to process and analyze large amounts of natural language data.  ']"
      ],
      "execution_count": 0,
      "outputs": []
    },
    {
      "cell_type": "code",
      "metadata": {
        "id": "Q928NsIz7nwn",
        "colab_type": "code",
        "outputId": "a99edbc7-eaf4-4119-e4a8-1fe728caa0d1",
        "colab": {
          "base_uri": "https://localhost:8080/",
          "height": 825
        }
      },
      "source": [
        "sentence_stream = [doc.split(\" \") for doc in documents]\n",
        "sentence_stream"
      ],
      "execution_count": 3,
      "outputs": [
        {
          "output_type": "execute_result",
          "data": {
            "text/plain": [
              "[['Natural',\n",
              "  'language',\n",
              "  'processing',\n",
              "  '(NLP)',\n",
              "  'is',\n",
              "  'a',\n",
              "  'subfield',\n",
              "  'of',\n",
              "  'linguistics,',\n",
              "  'computer',\n",
              "  'science,',\n",
              "  'information',\n",
              "  'engineering,',\n",
              "  'and',\n",
              "  'artificial',\n",
              "  'intelligence',\n",
              "  'concerned',\n",
              "  'with',\n",
              "  'the',\n",
              "  'interactions',\n",
              "  'between',\n",
              "  'computers',\n",
              "  'and',\n",
              "  'human',\n",
              "  '(natural)',\n",
              "  'languages'],\n",
              " ['In',\n",
              "  'particular',\n",
              "  'how',\n",
              "  'to',\n",
              "  'program',\n",
              "  'computers',\n",
              "  'to',\n",
              "  'process',\n",
              "  'and',\n",
              "  'analyze',\n",
              "  'large',\n",
              "  'amounts',\n",
              "  'of',\n",
              "  'natural',\n",
              "  'language',\n",
              "  'data.',\n",
              "  '',\n",
              "  '']]"
            ]
          },
          "metadata": {
            "tags": []
          },
          "execution_count": 3
        }
      ]
    },
    {
      "cell_type": "markdown",
      "metadata": {
        "id": "XJ3eFY7W9ic3",
        "colab_type": "text"
      },
      "source": [
        "## Bi-grams"
      ]
    },
    {
      "cell_type": "code",
      "metadata": {
        "id": "tcundPda8o6c",
        "colab_type": "code",
        "colab": {}
      },
      "source": [
        "from nltk import ngrams\n",
        "bigram = list(ngrams(Sentences.lower().split(),2))"
      ],
      "execution_count": 0,
      "outputs": []
    },
    {
      "cell_type": "code",
      "metadata": {
        "id": "A0PS8ZYa8wgf",
        "colab_type": "code",
        "outputId": "ec0a3da8-36b7-4894-ef01-56f4f8c8ebee",
        "colab": {
          "base_uri": "https://localhost:8080/",
          "height": 770
        }
      },
      "source": [
        "bigram[0:50]"
      ],
      "execution_count": 5,
      "outputs": [
        {
          "output_type": "execute_result",
          "data": {
            "text/plain": [
              "[('natural', 'language'),\n",
              " ('language', 'processing'),\n",
              " ('processing', '(nlp)'),\n",
              " ('(nlp)', 'is'),\n",
              " ('is', 'a'),\n",
              " ('a', 'subfield'),\n",
              " ('subfield', 'of'),\n",
              " ('of', 'linguistics,'),\n",
              " ('linguistics,', 'computer'),\n",
              " ('computer', 'science,'),\n",
              " ('science,', 'information'),\n",
              " ('information', 'engineering,'),\n",
              " ('engineering,', 'and'),\n",
              " ('and', 'artificial'),\n",
              " ('artificial', 'intelligence'),\n",
              " ('intelligence', 'concerned'),\n",
              " ('concerned', 'with'),\n",
              " ('with', 'the'),\n",
              " ('the', 'interactions'),\n",
              " ('interactions', 'between'),\n",
              " ('between', 'computers'),\n",
              " ('computers', 'and'),\n",
              " ('and', 'human'),\n",
              " ('human', '(natural)'),\n",
              " ('(natural)', 'languages,'),\n",
              " ('languages,', 'in'),\n",
              " ('in', 'particular'),\n",
              " ('particular', 'how'),\n",
              " ('how', 'to'),\n",
              " ('to', 'program'),\n",
              " ('program', 'computers'),\n",
              " ('computers', 'to'),\n",
              " ('to', 'process'),\n",
              " ('process', 'and'),\n",
              " ('and', 'analyze'),\n",
              " ('analyze', 'large'),\n",
              " ('large', 'amounts'),\n",
              " ('amounts', 'of'),\n",
              " ('of', 'natural'),\n",
              " ('natural', 'language'),\n",
              " ('language', 'data.')]"
            ]
          },
          "metadata": {
            "tags": []
          },
          "execution_count": 5
        }
      ]
    }
  ]
}