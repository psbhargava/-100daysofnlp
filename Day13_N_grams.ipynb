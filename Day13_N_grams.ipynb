{
  "nbformat": 4,
  "nbformat_minor": 0,
  "metadata": {
    "colab": {
      "name": "Day13_N-grams.ipynb",
      "provenance": [],
      "collapsed_sections": [],
      "toc_visible": true,
      "authorship_tag": "ABX9TyO08rr7VjYp4me7oFkF9gjm",
      "include_colab_link": true
    },
    "kernelspec": {
      "name": "python3",
      "display_name": "Python 3"
    }
  },
  "cells": [
    {
      "cell_type": "markdown",
      "metadata": {
        "id": "view-in-github",
        "colab_type": "text"
      },
      "source": [
        "<a href=\"https://colab.research.google.com/github/psbhargava/100daysofnlp/blob/master/Day13_N_grams.ipynb\" target=\"_parent\"><img src=\"https://colab.research.google.com/assets/colab-badge.svg\" alt=\"Open In Colab\"/></a>"
      ]
    },
    {
      "cell_type": "code",
      "metadata": {
        "id": "9HXB90qn98MD",
        "colab_type": "code",
        "outputId": "63e4c765-d4c7-4211-fcf6-a03ca1b94605",
        "colab": {
          "base_uri": "https://localhost:8080/",
          "height": 55
        }
      },
      "source": [
        "from nltk import ngrams\n",
        "Sentences = \"Natural language processing (NLP) is a subfield of linguistics, computer science, information engineering, and artificial intelligence concerned with the interactions between computers and human (natural) languages, in particular how to program computers to process and analyze large amounts of natural language data.  \"\n",
        "Sentences"
      ],
      "execution_count": 0,
      "outputs": [
        {
          "output_type": "execute_result",
          "data": {
            "text/plain": [
              "'Natural language processing (NLP) is a subfield of linguistics, computer science, information engineering, and artificial intelligence concerned with the interactions between computers and human (natural) languages, in particular how to program computers to process and analyze large amounts of natural language data.  '"
            ]
          },
          "metadata": {
            "tags": []
          },
          "execution_count": 22
        }
      ]
    },
    {
      "cell_type": "markdown",
      "metadata": {
        "id": "wpthb9X8Aktd",
        "colab_type": "text"
      },
      "source": [
        "## Tri-gram"
      ]
    },
    {
      "cell_type": "code",
      "metadata": {
        "id": "BASnuW9p-5Z7",
        "colab_type": "code",
        "colab": {}
      },
      "source": [
        "trigram = list(ngrams(Sentences.lower().split(),3))"
      ],
      "execution_count": 0,
      "outputs": []
    },
    {
      "cell_type": "code",
      "metadata": {
        "id": "TviojIaz_GP1",
        "colab_type": "code",
        "outputId": "884cb792-8789-4af6-968a-55a2a218d4c9",
        "colab": {
          "base_uri": "https://localhost:8080/",
          "height": 568
        }
      },
      "source": [
        "trigram[0:30]"
      ],
      "execution_count": 0,
      "outputs": [
        {
          "output_type": "execute_result",
          "data": {
            "text/plain": [
              "[('natural', 'language', 'processing'),\n",
              " ('language', 'processing', '(nlp)'),\n",
              " ('processing', '(nlp)', 'is'),\n",
              " ('(nlp)', 'is', 'a'),\n",
              " ('is', 'a', 'subfield'),\n",
              " ('a', 'subfield', 'of'),\n",
              " ('subfield', 'of', 'linguistics,'),\n",
              " ('of', 'linguistics,', 'computer'),\n",
              " ('linguistics,', 'computer', 'science,'),\n",
              " ('computer', 'science,', 'information'),\n",
              " ('science,', 'information', 'engineering,'),\n",
              " ('information', 'engineering,', 'and'),\n",
              " ('engineering,', 'and', 'artificial'),\n",
              " ('and', 'artificial', 'intelligence'),\n",
              " ('artificial', 'intelligence', 'concerned'),\n",
              " ('intelligence', 'concerned', 'with'),\n",
              " ('concerned', 'with', 'the'),\n",
              " ('with', 'the', 'interactions'),\n",
              " ('the', 'interactions', 'between'),\n",
              " ('interactions', 'between', 'computers'),\n",
              " ('between', 'computers', 'and'),\n",
              " ('computers', 'and', 'human'),\n",
              " ('and', 'human', '(natural)'),\n",
              " ('human', '(natural)', 'languages,'),\n",
              " ('(natural)', 'languages,', 'in'),\n",
              " ('languages,', 'in', 'particular'),\n",
              " ('in', 'particular', 'how'),\n",
              " ('particular', 'how', 'to'),\n",
              " ('how', 'to', 'program'),\n",
              " ('to', 'program', 'computers')]"
            ]
          },
          "metadata": {
            "tags": []
          },
          "execution_count": 24
        }
      ]
    },
    {
      "cell_type": "markdown",
      "metadata": {
        "id": "LU48IlwCAoRj",
        "colab_type": "text"
      },
      "source": [
        "## Four-gram"
      ]
    },
    {
      "cell_type": "code",
      "metadata": {
        "id": "f4zLEPqK_LfZ",
        "colab_type": "code",
        "colab": {}
      },
      "source": [
        "fourgram=list(ngrams(Sentences.lower().split(),4))"
      ],
      "execution_count": 0,
      "outputs": []
    },
    {
      "cell_type": "code",
      "metadata": {
        "id": "nnz_rZuL_M09",
        "colab_type": "code",
        "outputId": "329b9683-d502-4ef5-b02a-157dbb588f4b",
        "colab": {
          "base_uri": "https://localhost:8080/",
          "height": 568
        }
      },
      "source": [
        "fourgram[0:30]"
      ],
      "execution_count": 0,
      "outputs": [
        {
          "output_type": "execute_result",
          "data": {
            "text/plain": [
              "[('natural', 'language', 'processing', '(nlp)'),\n",
              " ('language', 'processing', '(nlp)', 'is'),\n",
              " ('processing', '(nlp)', 'is', 'a'),\n",
              " ('(nlp)', 'is', 'a', 'subfield'),\n",
              " ('is', 'a', 'subfield', 'of'),\n",
              " ('a', 'subfield', 'of', 'linguistics,'),\n",
              " ('subfield', 'of', 'linguistics,', 'computer'),\n",
              " ('of', 'linguistics,', 'computer', 'science,'),\n",
              " ('linguistics,', 'computer', 'science,', 'information'),\n",
              " ('computer', 'science,', 'information', 'engineering,'),\n",
              " ('science,', 'information', 'engineering,', 'and'),\n",
              " ('information', 'engineering,', 'and', 'artificial'),\n",
              " ('engineering,', 'and', 'artificial', 'intelligence'),\n",
              " ('and', 'artificial', 'intelligence', 'concerned'),\n",
              " ('artificial', 'intelligence', 'concerned', 'with'),\n",
              " ('intelligence', 'concerned', 'with', 'the'),\n",
              " ('concerned', 'with', 'the', 'interactions'),\n",
              " ('with', 'the', 'interactions', 'between'),\n",
              " ('the', 'interactions', 'between', 'computers'),\n",
              " ('interactions', 'between', 'computers', 'and'),\n",
              " ('between', 'computers', 'and', 'human'),\n",
              " ('computers', 'and', 'human', '(natural)'),\n",
              " ('and', 'human', '(natural)', 'languages,'),\n",
              " ('human', '(natural)', 'languages,', 'in'),\n",
              " ('(natural)', 'languages,', 'in', 'particular'),\n",
              " ('languages,', 'in', 'particular', 'how'),\n",
              " ('in', 'particular', 'how', 'to'),\n",
              " ('particular', 'how', 'to', 'program'),\n",
              " ('how', 'to', 'program', 'computers'),\n",
              " ('to', 'program', 'computers', 'to')]"
            ]
          },
          "metadata": {
            "tags": []
          },
          "execution_count": 26
        }
      ]
    },
    {
      "cell_type": "code",
      "metadata": {
        "id": "i_mUhpUsBMX4",
        "colab_type": "code",
        "colab": {}
      },
      "source": [
        ""
      ],
      "execution_count": 0,
      "outputs": []
    }
  ]
}