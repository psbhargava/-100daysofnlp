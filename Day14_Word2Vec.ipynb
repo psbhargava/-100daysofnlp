{
  "nbformat": 4,
  "nbformat_minor": 0,
  "metadata": {
    "colab": {
      "name": "Day14_Word2Vec.ipynb",
      "provenance": [],
      "collapsed_sections": [],
      "toc_visible": true,
      "authorship_tag": "ABX9TyMRr79mexF4rzp9NsuzEVGf",
      "include_colab_link": true
    },
    "kernelspec": {
      "name": "python3",
      "display_name": "Python 3"
    }
  },
  "cells": [
    {
      "cell_type": "markdown",
      "metadata": {
        "id": "view-in-github",
        "colab_type": "text"
      },
      "source": [
        "<a href=\"https://colab.research.google.com/github/psbhargava/100daysofnlp/blob/master/Day14_Word2Vec.ipynb\" target=\"_parent\"><img src=\"https://colab.research.google.com/assets/colab-badge.svg\" alt=\"Open In Colab\"/></a>"
      ]
    },
    {
      "cell_type": "code",
      "metadata": {
        "id": "A_bijGb_D1vW",
        "colab_type": "code",
        "colab": {}
      },
      "source": [
        "# define training data\n",
        "sentences = [['this', 'is', 'the', 'first', 'sentence', 'for', 'word2vec'],\n",
        "\t\t\t['this', 'is', 'the', 'second', 'sentence'],\n",
        "\t\t\t['yet', 'another', 'sentence'],\n",
        "\t\t\t['one', 'more', 'sentence'],\n",
        "\t\t\t['and', 'the', 'final', 'sentence']]"
      ],
      "execution_count": 0,
      "outputs": []
    },
    {
      "cell_type": "code",
      "metadata": {
        "id": "y7Q1-TQS8PEb",
        "colab_type": "code",
        "colab": {}
      },
      "source": [
        "from gensim.models import Word2Vec\n",
        "model = Word2Vec(sentences, min_count=1) # train model"
      ],
      "execution_count": 0,
      "outputs": []
    },
    {
      "cell_type": "code",
      "metadata": {
        "id": "1Sbum2fU8SdX",
        "colab_type": "code",
        "outputId": "685c96ff-53ae-4a41-ea7e-788cd8add7b7",
        "colab": {
          "base_uri": "https://localhost:8080/",
          "height": 35
        }
      },
      "source": [
        "# summarize the loaded model\n",
        "print(model)"
      ],
      "execution_count": 0,
      "outputs": [
        {
          "output_type": "stream",
          "text": [
            "Word2Vec(vocab=14, size=100, alpha=0.025)\n"
          ],
          "name": "stdout"
        }
      ]
    },
    {
      "cell_type": "code",
      "metadata": {
        "id": "0AML1SOO8UNS",
        "colab_type": "code",
        "outputId": "520fa0be-4204-4dd1-b706-d3eee49af2f6",
        "colab": {
          "base_uri": "https://localhost:8080/",
          "height": 35
        }
      },
      "source": [
        "# summarize vocabulary\n",
        "words = list(model.wv.vocab)\n",
        "print(words)"
      ],
      "execution_count": 0,
      "outputs": [
        {
          "output_type": "stream",
          "text": [
            "['this', 'is', 'the', 'first', 'sentence', 'for', 'word2vec', 'second', 'yet', 'another', 'one', 'more', 'and', 'final']\n"
          ],
          "name": "stdout"
        }
      ]
    },
    {
      "cell_type": "code",
      "metadata": {
        "id": "-bXMinnM8WJv",
        "colab_type": "code",
        "outputId": "dc9c04d3-fbb3-4608-b638-d075700cdc97",
        "colab": {
          "base_uri": "https://localhost:8080/",
          "height": 533
        }
      },
      "source": [
        "# access vector for one word\n",
        "print(model['sentence'])"
      ],
      "execution_count": 0,
      "outputs": [
        {
          "output_type": "stream",
          "text": [
            "[ 2.1366184e-03 -4.1324343e-03 -6.2521045e-05 -1.6760809e-03\n",
            " -5.0030957e-04 -6.5541908e-04  2.2194281e-03  3.9528809e-03\n",
            " -1.2971775e-03 -2.1565650e-03  5.4968050e-04 -1.7515767e-03\n",
            "  1.2728563e-03  4.6993662e-03  2.2138830e-03  2.4682335e-03\n",
            "  2.9587073e-03 -9.9813100e-04  4.5758779e-03  7.2935823e-04\n",
            " -4.9572475e-03  4.5254393e-03  1.5911898e-03 -3.6130270e-03\n",
            "  2.5124722e-03  2.7862294e-03 -1.8273500e-03 -2.3426125e-03\n",
            " -3.4320571e-03 -1.6467511e-03  3.8340827e-03 -5.7623489e-04\n",
            " -1.3754464e-03 -2.5287326e-03 -2.5651350e-03  2.3468188e-03\n",
            " -4.3329960e-03 -1.4523505e-03  4.6146046e-03 -4.5538838e-03\n",
            " -3.2808324e-03  3.4824407e-03  1.9842197e-04  1.7564938e-03\n",
            " -2.9603166e-03  1.7065322e-03  2.5188890e-03  3.7364149e-03\n",
            "  2.8679268e-03  4.9685221e-03  1.0207026e-03  4.5050327e-03\n",
            "  2.1589992e-03  1.6602960e-03 -2.9325059e-03 -4.8396084e-03\n",
            " -4.6232590e-04 -5.2831532e-04  3.3556535e-03 -4.5902273e-04\n",
            "  2.5136566e-03 -9.2764216e-04 -3.4132316e-03 -4.6646106e-03\n",
            "  2.2021653e-03 -2.0268532e-03  4.0020957e-03  2.9337944e-03\n",
            "  2.8924418e-03 -1.3103888e-04 -2.7050674e-03  4.0743491e-04\n",
            " -3.4760225e-03 -1.9220035e-03  1.1672606e-03  3.6350715e-03\n",
            " -8.5280789e-04 -3.3987989e-03 -1.2654151e-03 -1.6677309e-03\n",
            "  1.1199819e-03 -3.0593397e-03  1.7956982e-03  1.8884304e-03\n",
            " -3.6339064e-03  3.0061298e-03  4.7912677e-03 -2.2664685e-03\n",
            " -4.6842843e-03  3.3041753e-03 -1.3649261e-04 -1.7968081e-03\n",
            " -4.5135204e-04  3.9584967e-03  4.9285288e-03  4.9760303e-04\n",
            "  1.4717008e-03 -3.8770773e-03  2.2423775e-04  4.0048789e-03]\n"
          ],
          "name": "stdout"
        },
        {
          "output_type": "stream",
          "text": [
            "/usr/local/lib/python3.6/dist-packages/ipykernel_launcher.py:1: DeprecationWarning: Call to deprecated `__getitem__` (Method will be removed in 4.0.0, use self.wv.__getitem__() instead).\n",
            "  \"\"\"Entry point for launching an IPython kernel.\n"
          ],
          "name": "stderr"
        }
      ]
    },
    {
      "cell_type": "code",
      "metadata": {
        "id": "LVKA0B2n8ZII",
        "colab_type": "code",
        "outputId": "cd89707f-cb58-465d-b2e3-b97ecc9ad608",
        "colab": {
          "base_uri": "https://localhost:8080/",
          "height": 74
        }
      },
      "source": [
        "# save model\n",
        "model.save('model.bin')"
      ],
      "execution_count": 0,
      "outputs": [
        {
          "output_type": "stream",
          "text": [
            "/usr/local/lib/python3.6/dist-packages/smart_open/smart_open_lib.py:402: UserWarning: This function is deprecated, use smart_open.open instead. See the migration notes for details: https://github.com/RaRe-Technologies/smart_open/blob/master/README.rst#migrating-to-the-new-open-function\n",
            "  'See the migration notes for details: %s' % _MIGRATION_NOTES_URL\n"
          ],
          "name": "stderr"
        }
      ]
    },
    {
      "cell_type": "code",
      "metadata": {
        "id": "o8mWnOfB8bSn",
        "colab_type": "code",
        "outputId": "0e225756-10f1-4a9d-b9a1-63bf2db8cbc1",
        "colab": {
          "base_uri": "https://localhost:8080/",
          "height": 92
        }
      },
      "source": [
        "# load model\n",
        "new_model = Word2Vec.load('model.bin')\n",
        "print(new_model)"
      ],
      "execution_count": 0,
      "outputs": [
        {
          "output_type": "stream",
          "text": [
            "Word2Vec(vocab=14, size=100, alpha=0.025)\n"
          ],
          "name": "stdout"
        },
        {
          "output_type": "stream",
          "text": [
            "/usr/local/lib/python3.6/dist-packages/smart_open/smart_open_lib.py:402: UserWarning: This function is deprecated, use smart_open.open instead. See the migration notes for details: https://github.com/RaRe-Technologies/smart_open/blob/master/README.rst#migrating-to-the-new-open-function\n",
            "  'See the migration notes for details: %s' % _MIGRATION_NOTES_URL\n"
          ],
          "name": "stderr"
        }
      ]
    },
    {
      "cell_type": "markdown",
      "metadata": {
        "id": "9VRRitXr8rqq",
        "colab_type": "text"
      },
      "source": [
        "## Plot Word Vectors Using PCA"
      ]
    },
    {
      "cell_type": "code",
      "metadata": {
        "id": "RVBE9Hm68cTw",
        "colab_type": "code",
        "outputId": "1a0eafca-e426-4a00-f16f-7efac163b008",
        "colab": {
          "base_uri": "https://localhost:8080/",
          "height": 74
        }
      },
      "source": [
        "X = model[model.wv.vocab]"
      ],
      "execution_count": 0,
      "outputs": [
        {
          "output_type": "stream",
          "text": [
            "/usr/local/lib/python3.6/dist-packages/ipykernel_launcher.py:1: DeprecationWarning: Call to deprecated `__getitem__` (Method will be removed in 4.0.0, use self.wv.__getitem__() instead).\n",
            "  \"\"\"Entry point for launching an IPython kernel.\n"
          ],
          "name": "stderr"
        }
      ]
    },
    {
      "cell_type": "code",
      "metadata": {
        "id": "oONvvsN58wfX",
        "colab_type": "code",
        "colab": {}
      },
      "source": [
        "from sklearn.decomposition import PCA\n",
        "pca = PCA(n_components=2)\n",
        "result = pca.fit_transform(X)"
      ],
      "execution_count": 0,
      "outputs": []
    },
    {
      "cell_type": "code",
      "metadata": {
        "id": "n69arDj08yUf",
        "colab_type": "code",
        "outputId": "96e83ea2-4712-44e0-c6c5-8ec69bf8e3de",
        "colab": {
          "base_uri": "https://localhost:8080/",
          "height": 283
        }
      },
      "source": [
        "import matplotlib.pyplot as plt\n",
        "plt.scatter(result[:, 0], result[:, 1])"
      ],
      "execution_count": 0,
      "outputs": [
        {
          "output_type": "execute_result",
          "data": {
            "text/plain": [
              "<matplotlib.collections.PathCollection at 0x7fddee74d400>"
            ]
          },
          "metadata": {
            "tags": []
          },
          "execution_count": 24
        },
        {
          "output_type": "display_data",
          "data": {
            "image/png": "[encoded data removed]",
            "text/plain": [
              "<Figure size 432x288 with 1 Axes>"
            ]
          },
          "metadata": {
            "tags": []
          }
        }
      ]
    },
    {
      "cell_type": "code",
      "metadata": {
        "id": "TlTb1PJ-9Khf",
        "colab_type": "code",
        "outputId": "2218269f-f881-443e-9ea5-4e81947a4ba5",
        "colab": {
          "base_uri": "https://localhost:8080/",
          "height": 269
        }
      },
      "source": [
        "words = list(model.wv.vocab)\n",
        "for i, word in enumerate(words):\n",
        "\tplt.annotate(word, xy=(result[i, 0], result[i, 1]))"
      ],
      "execution_count": 0,
      "outputs": [
        {
          "output_type": "display_data",
          "data": {
            "image/png": "[encoded data removed]",
            "text/plain": [
              "<Figure size 432x288 with 1 Axes>"
            ]
          },
          "metadata": {
            "tags": []
          }
        }
      ]
    },
    {
      "cell_type": "code",
      "metadata": {
        "id": "DCrcA0oN9QK3",
        "colab_type": "code",
        "outputId": "c0b9e280-ab35-4d59-9659-208b3fc72655",
        "colab": {
          "base_uri": "https://localhost:8080/",
          "height": 322
        }
      },
      "source": [
        "from gensim.models import Word2Vec\n",
        "from sklearn.decomposition import PCA\n",
        "from matplotlib import pyplot\n",
        "# define training data\n",
        "sentences = [['this', 'is', 'the', 'first', 'sentence', 'for', 'word2vec'],\n",
        "\t\t\t['this', 'is', 'the', 'second', 'sentence'],\n",
        "\t\t\t['yet', 'another', 'sentence'],\n",
        "\t\t\t['one', 'more', 'sentence'],\n",
        "\t\t\t['and', 'the', 'final', 'sentence']]\n",
        "# train model\n",
        "model = Word2Vec(sentences, min_count=1)\n",
        "# fit a 2d PCA model to the vectors\n",
        "X = model[model.wv.vocab]\n",
        "pca = PCA(n_components=2)\n",
        "result = pca.fit_transform(X)\n",
        "# create a scatter plot of the projection\n",
        "pyplot.scatter(result[:, 0], result[:, 1])\n",
        "words = list(model.wv.vocab)\n",
        "for i, word in enumerate(words):\n",
        "\tpyplot.annotate(word, xy=(result[i, 0], result[i, 1]))\n",
        "pyplot.show()"
      ],
      "execution_count": 0,
      "outputs": [
        {
          "output_type": "stream",
          "text": [
            "/usr/local/lib/python3.6/dist-packages/ipykernel_launcher.py:13: DeprecationWarning: Call to deprecated `__getitem__` (Method will be removed in 4.0.0, use self.wv.__getitem__() instead).\n",
            "  del sys.path[0]\n"
          ],
          "name": "stderr"
        },
        {
          "output_type": "display_data",
          "data": {
            "image/png": "[encoded data removed]",
            "text/plain": [
              "<Figure size 432x288 with 1 Axes>"
            ]
          },
          "metadata": {
            "tags": []
          }
        }
      ]
    },
    {
      "cell_type": "code",
      "metadata": {
        "id": "8mBy3Xg59egf",
        "colab_type": "code",
        "colab": {}
      },
      "source": [
        ""
      ],
      "execution_count": 0,
      "outputs": []
    }
  ]
}