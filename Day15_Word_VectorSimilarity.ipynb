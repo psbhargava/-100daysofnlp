{
  "nbformat": 4,
  "nbformat_minor": 0,
  "metadata": {
    "colab": {
      "name": "Day15_Word/VectorSimilarity.ipynb",
      "provenance": [],
      "collapsed_sections": [],
      "toc_visible": true,
      "mount_file_id": "1wu2dS8lEdaLLnDEoiUOL7EmZWRvMeHp1",
      "authorship_tag": "ABX9TyO0FvooLg3nk8quD/MZuQEM",
      "include_colab_link": true
    },
    "kernelspec": {
      "name": "python3",
      "display_name": "Python 3"
    }
  },
  "cells": [
    {
      "cell_type": "markdown",
      "metadata": {
        "id": "view-in-github",
        "colab_type": "text"
      },
      "source": [
        "<a href=\"https://colab.research.google.com/github/psbhargava/100daysofnlp/blob/master/Day15_Word_VectorSimilarity.ipynb\" target=\"_parent\"><img src=\"https://colab.research.google.com/assets/colab-badge.svg\" alt=\"Open In Colab\"/></a>"
      ]
    },
    {
      "cell_type": "markdown",
      "metadata": {
        "id": "mCtpxHSqzUz5",
        "colab_type": "text"
      },
      "source": [
        "## Mahabharata "
      ]
    },
    {
      "cell_type": "code",
      "metadata": {
        "id": "fFCduAN1zVx_",
        "colab_type": "code",
        "outputId": "11f5a533-091b-4edc-ca4b-005f4b51b2d0",
        "colab": {
          "base_uri": "https://localhost:8080/",
          "height": 72
        }
      },
      "source": [
        " import gensim \n",
        "from gensim.models import Word2Vec \n",
        "from nltk.tokenize import sent_tokenize, word_tokenize\n",
        "import nltk\n",
        "nltk.download('punkt')"
      ],
      "execution_count": 0,
      "outputs": [
        {
          "output_type": "stream",
          "text": [
            "[nltk_data] Downloading package punkt to /root/nltk_data...\n",
            "[nltk_data]   Package punkt is already up-to-date!\n"
          ],
          "name": "stdout"
        },
        {
          "output_type": "execute_result",
          "data": {
            "text/plain": [
              "True"
            ]
          },
          "metadata": {
            "tags": []
          },
          "execution_count": 1
        }
      ]
    },
    {
      "cell_type": "code",
      "metadata": {
        "id": "CF-GBHVw8Qs5",
        "colab_type": "code",
        "colab": {}
      },
      "source": [
        "import warnings \n",
        "warnings.filterwarnings(action = 'ignore')"
      ],
      "execution_count": 0,
      "outputs": []
    },
    {
      "cell_type": "markdown",
      "metadata": {
        "id": "0tmZgr01-HYu",
        "colab_type": "text"
      },
      "source": [
        "## Load the Mahabharata full text"
      ]
    },
    {
      "cell_type": "code",
      "metadata": {
        "id": "b0a2MTkAzufz",
        "colab_type": "code",
        "colab": {}
      },
      "source": [
        "raw = open(\"/content/drive/My Drive/100daysofNLP/nlp/mb.txt\", \"r\") \n",
        "s = raw.read() "
      ],
      "execution_count": 0,
      "outputs": []
    },
    {
      "cell_type": "code",
      "metadata": {
        "id": "GaNLm02_797l",
        "colab_type": "code",
        "colab": {}
      },
      "source": [
        "# Replaces escape character with space \n",
        "f = s.replace(\"\\n\", \" \") "
      ],
      "execution_count": 0,
      "outputs": []
    },
    {
      "cell_type": "markdown",
      "metadata": {
        "id": "C0pGuhTT-LeD",
        "colab_type": "text"
      },
      "source": [
        "## Tokenization"
      ]
    },
    {
      "cell_type": "code",
      "metadata": {
        "id": "WsuZvq8A7_6s",
        "colab_type": "code",
        "colab": {}
      },
      "source": [
        "data = [] \n",
        "for i in sent_tokenize(f): \n",
        "    temp = [] \n",
        "    # tokenize the sentence into words \n",
        "    for j in word_tokenize(i): \n",
        "        temp.append(j.lower()) \n",
        "  \n",
        "    data.append(temp) "
      ],
      "execution_count": 0,
      "outputs": []
    },
    {
      "cell_type": "markdown",
      "metadata": {
        "id": "mb_8OLvJ-PYR",
        "colab_type": "text"
      },
      "source": [
        "## Word2Vec"
      ]
    },
    {
      "cell_type": "code",
      "metadata": {
        "id": "pU5hchV-8B5M",
        "colab_type": "code",
        "colab": {}
      },
      "source": [
        " model = gensim.models.Word2Vec(data, min_count = 1, size = 100, window = 5) "
      ],
      "execution_count": 0,
      "outputs": []
    },
    {
      "cell_type": "markdown",
      "metadata": {
        "id": "PZeujp51-XwK",
        "colab_type": "text"
      },
      "source": [
        "## Most Similar"
      ]
    },
    {
      "cell_type": "code",
      "metadata": {
        "id": "BseZCav183k8",
        "colab_type": "code",
        "outputId": "ba6eca11-2229-48e9-e5d4-5ea2786fe2ab",
        "colab": {
          "base_uri": "https://localhost:8080/",
          "height": 201
        }
      },
      "source": [
        "model.most_similar('krishna')"
      ],
      "execution_count": 0,
      "outputs": [
        {
          "output_type": "execute_result",
          "data": {
            "text/plain": [
              "[('kesava', 0.8503202199935913),\n",
              " ('vasudeva', 0.8045976161956787),\n",
              " ('dhananjaya', 0.7897400259971619),\n",
              " ('govinda', 0.7778682708740234),\n",
              " ('shalya', 0.7647485733032227),\n",
              " ('janardana', 0.7593930959701538),\n",
              " ('rama', 0.7559260725975037),\n",
              " ('keshava', 0.7484471797943115),\n",
              " ('phalguna', 0.7473239898681641),\n",
              " ('partha', 0.7437350749969482)]"
            ]
          },
          "metadata": {
            "tags": []
          },
          "execution_count": 7
        }
      ]
    },
    {
      "cell_type": "code",
      "metadata": {
        "id": "Al_8_9K89Xoy",
        "colab_type": "code",
        "outputId": "da4e3156-acfc-4924-a77c-0a1da18ecf59",
        "colab": {
          "base_uri": "https://localhost:8080/",
          "height": 201
        }
      },
      "source": [
        "model.most_similar('arjuna')"
      ],
      "execution_count": 0,
      "outputs": [
        {
          "output_type": "execute_result",
          "data": {
            "text/plain": [
              "[('dhananjaya', 0.8622701168060303),\n",
              " ('bhima', 0.8565627932548523),\n",
              " ('karna', 0.8543262481689453),\n",
              " ('partha', 0.8216930627822876),\n",
              " ('bhimasena', 0.8064666390419006),\n",
              " ('phalguna', 0.8013620972633362),\n",
              " ('satyaki', 0.785146951675415),\n",
              " ('drona', 0.7711181640625),\n",
              " ('vrikodara', 0.7672431468963623),\n",
              " ('ghatotkacha', 0.744547963142395)]"
            ]
          },
          "metadata": {
            "tags": []
          },
          "execution_count": 8
        }
      ]
    },
    {
      "cell_type": "markdown",
      "metadata": {
        "id": "ravkLUz0-bKT",
        "colab_type": "text"
      },
      "source": [
        "## Cosine Similarity"
      ]
    },
    {
      "cell_type": "code",
      "metadata": {
        "id": "c1lscacf8DYY",
        "colab_type": "code",
        "outputId": "f671180e-7ad5-4f55-f074-9b0ff18e0372",
        "colab": {
          "base_uri": "https://localhost:8080/",
          "height": 35
        }
      },
      "source": [
        "print(\"Cosine similarity between 'Krishna' \" + \"and 'Kesava' - CBOW : \",\n",
        "                      model.similarity('krishna', 'kesava')) "
      ],
      "execution_count": 0,
      "outputs": [
        {
          "output_type": "stream",
          "text": [
            "Cosine similarity between 'Krishna' and 'Kesava' - CBOW :  0.85032016\n"
          ],
          "name": "stdout"
        }
      ]
    },
    {
      "cell_type": "code",
      "metadata": {
        "id": "E231lqne8FLI",
        "colab_type": "code",
        "outputId": "075708d2-4db8-4d70-d823-d5107e54a6d6",
        "colab": {
          "base_uri": "https://localhost:8080/",
          "height": 35
        }
      },
      "source": [
        "print(\"Cosine similarity between 'Krishna' \" + \"and 'Drona' - CBOW : \", \n",
        "                        model.similarity('krishna', 'drona'))"
      ],
      "execution_count": 0,
      "outputs": [
        {
          "output_type": "stream",
          "text": [
            "Cosine similarity between 'Krishna' and 'Drona' - CBOW :  0.51754737\n"
          ],
          "name": "stdout"
        }
      ]
    }
  ]
}