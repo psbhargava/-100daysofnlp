{
  "nbformat": 4,
  "nbformat_minor": 0,
  "metadata": {
    "colab": {
      "name": "Day16_Regex.ipynb",
      "provenance": [],
      "collapsed_sections": [],
      "toc_visible": true,
      "authorship_tag": "ABX9TyNGuShNI5tEQ0LnngRAKoi9",
      "include_colab_link": true
    },
    "kernelspec": {
      "name": "python3",
      "display_name": "Python 3"
    }
  },
  "cells": [
    {
      "cell_type": "markdown",
      "metadata": {
        "id": "view-in-github",
        "colab_type": "text"
      },
      "source": [
        "<a href=\"https://colab.research.google.com/github/psbhargava/100daysofnlp/blob/master/Day16_Regex.ipynb\" target=\"_parent\"><img src=\"https://colab.research.google.com/assets/colab-badge.svg\" alt=\"Open In Colab\"/></a>"
      ]
    },
    {
      "cell_type": "code",
      "metadata": {
        "id": "ZWPkbKJV6keO",
        "colab_type": "code",
        "outputId": "0b379758-4678-4705-82a0-d7fbabd62a0b",
        "colab": {
          "base_uri": "https://localhost:8080/",
          "height": 35
        }
      },
      "source": [
        "import re\n",
        "re.match('abc', 'abcdef')"
      ],
      "execution_count": 0,
      "outputs": [
        {
          "output_type": "execute_result",
          "data": {
            "text/plain": [
              "<_sre.SRE_Match object; span=(0, 3), match='abc'>"
            ]
          },
          "metadata": {
            "tags": []
          },
          "execution_count": 1
        }
      ]
    },
    {
      "cell_type": "code",
      "metadata": {
        "id": "1ihPe1CL-JaF",
        "colab_type": "code",
        "outputId": "f3dc867a-b802-4b93-c4b5-7954e297b695",
        "colab": {
          "base_uri": "https://localhost:8080/",
          "height": 35
        }
      },
      "source": [
        "word_regex = '\\w+'\n",
        "re.match(word_regex, 'hi there!') "
      ],
      "execution_count": 0,
      "outputs": [
        {
          "output_type": "execute_result",
          "data": {
            "text/plain": [
              "<_sre.SRE_Match object; span=(0, 2), match='hi'>"
            ]
          },
          "metadata": {
            "tags": []
          },
          "execution_count": 2
        }
      ]
    },
    {
      "cell_type": "markdown",
      "metadata": {
        "id": "9LtV5GPVDLtk",
        "colab_type": "text"
      },
      "source": [
        "## Regex Tokenization"
      ]
    },
    {
      "cell_type": "code",
      "metadata": {
        "id": "CtfJBvc3-OOd",
        "colab_type": "code",
        "colab": {}
      },
      "source": [
        "from nltk.tokenize import RegexpTokenizer \n",
        "tokenizer = RegexpTokenizer(\"[\\w']+\") "
      ],
      "execution_count": 0,
      "outputs": []
    },
    {
      "cell_type": "code",
      "metadata": {
        "id": "ohmW2L_P_KCE",
        "colab_type": "code",
        "outputId": "44d0bdfe-ac45-472d-aa42-b9f364b44739",
        "colab": {
          "base_uri": "https://localhost:8080/",
          "height": 35
        }
      },
      "source": [
        "text = \"Let's see how it's working.\"\n",
        "tokenizer.tokenize(text) "
      ],
      "execution_count": 0,
      "outputs": [
        {
          "output_type": "execute_result",
          "data": {
            "text/plain": [
              "[\"Let's\", 'see', 'how', \"it's\", 'working']"
            ]
          },
          "metadata": {
            "tags": []
          },
          "execution_count": 4
        }
      ]
    },
    {
      "cell_type": "code",
      "metadata": {
        "id": "BY9IKs1C_LlF",
        "colab_type": "code",
        "outputId": "545e7fd4-e339-49e3-918a-936b064a69d4",
        "colab": {
          "base_uri": "https://localhost:8080/",
          "height": 35
        }
      },
      "source": [
        "from nltk.tokenize import regexp_tokenize \n",
        "\n",
        "text = \"Let's see how it's working.\"\n",
        "regexp_tokenize(text, \"[\\w']+\") "
      ],
      "execution_count": 0,
      "outputs": [
        {
          "output_type": "execute_result",
          "data": {
            "text/plain": [
              "[\"Let's\", 'see', 'how', \"it's\", 'working']"
            ]
          },
          "metadata": {
            "tags": []
          },
          "execution_count": 5
        }
      ]
    },
    {
      "cell_type": "code",
      "metadata": {
        "id": "yaMWvLZK_QLF",
        "colab_type": "code",
        "outputId": "7b9d6fde-33a0-4a1a-e912-03320e7a3b9d",
        "colab": {
          "base_uri": "https://localhost:8080/",
          "height": 237
        }
      },
      "source": [
        "## regular expressions\n",
        "text1 = '\"ethics are built.. but I love you IITG @aakash loves @jinky\" ##jiggs'\n",
        "text2 = text1.split(' ')\n",
        "text2"
      ],
      "execution_count": 0,
      "outputs": [
        {
          "output_type": "execute_result",
          "data": {
            "text/plain": [
              "['\"ethics',\n",
              " 'are',\n",
              " 'built..',\n",
              " 'but',\n",
              " 'I',\n",
              " 'love',\n",
              " 'you',\n",
              " 'IITG',\n",
              " '@aakash',\n",
              " 'loves',\n",
              " '@jinky\"',\n",
              " '##jiggs']"
            ]
          },
          "metadata": {
            "tags": []
          },
          "execution_count": 6
        }
      ]
    },
    {
      "cell_type": "code",
      "metadata": {
        "id": "cjbZT18j_6z9",
        "colab_type": "code",
        "outputId": "574bf90d-3499-4371-bec2-b7f29a6e5d40",
        "colab": {
          "base_uri": "https://localhost:8080/",
          "height": 72
        }
      },
      "source": [
        "print([w for w in text2 if w.startswith('@')]) \n",
        "print([w for w in text2 if re.search('@[A-Za-z0-9_]+' ,w)])\n",
        "print([w for w in text2 if re.search('@\\w+' ,w)]) "
      ],
      "execution_count": 0,
      "outputs": [
        {
          "output_type": "stream",
          "text": [
            "['@aakash', '@jinky\"']\n",
            "['@aakash', '@jinky\"']\n",
            "['@aakash', '@jinky\"']\n"
          ],
          "name": "stdout"
        }
      ]
    },
    {
      "cell_type": "code",
      "metadata": {
        "id": "IS4Jece9B_Fc",
        "colab_type": "code",
        "outputId": "b1236101-5ef4-4bbb-868b-92471ea8d131",
        "colab": {
          "base_uri": "https://localhost:8080/",
          "height": 35
        }
      },
      "source": [
        "## finding specific characters\n",
        "text3 = 'ouagadougou'\n",
        "re.findall(r'[^aeiou]' , text3)"
      ],
      "execution_count": 0,
      "outputs": [
        {
          "output_type": "execute_result",
          "data": {
            "text/plain": [
              "['g', 'd', 'g']"
            ]
          },
          "metadata": {
            "tags": []
          },
          "execution_count": 8
        }
      ]
    },
    {
      "cell_type": "markdown",
      "metadata": {
        "id": "Q2zZBOkADDkz",
        "colab_type": "text"
      },
      "source": [
        "## regex for dates"
      ]
    },
    {
      "cell_type": "code",
      "metadata": {
        "id": "7qyVKevTCCmL",
        "colab_type": "code",
        "outputId": "77ddfd72-1e65-43a8-d533-ac3f5cdb5295",
        "colab": {
          "base_uri": "https://localhost:8080/",
          "height": 72
        }
      },
      "source": [
        "datestr = '23-10-2002\\n23/10/2002\\n23/10/02\\n10/23/2002\\n23 Oct 2002\\n23 October 2002\\nOct 23, 2002\\nOctober 23, 2002\\n'\n",
        "print(re.findall(r'\\d{2}[/-]\\d{2}[/-]\\d{4}' , datestr))\n",
        "print(re.findall(r'\\d{2} (Jan|Feb|Mar|Apr|May|Jun|Jul|Aug|Sep|Oct|Nov|Dec) \\d{4}' , datestr))\n",
        "re.findall(r'\\d{2} (?:Jan|Feb|Mar|Apr|May|Jun|Jul|Aug|Sep|Oct|Nov|Dec)[a-z]* \\d{4}' , datestr)\n",
        "print(re.findall(r'(?:\\d{2} )?(?:Jan|Feb|Mar|Apr|May|Jun|Jul|Aug|Sep|Oct|Nov|Dec)[a-z]* (?:\\d{2}, )?\\d{4}' , datestr))"
      ],
      "execution_count": 0,
      "outputs": [
        {
          "output_type": "stream",
          "text": [
            "['23-10-2002', '23/10/2002', '10/23/2002']\n",
            "['Oct']\n",
            "['23 Oct 2002', '23 October 2002', 'Oct 23, 2002', 'October 23, 2002']\n"
          ],
          "name": "stdout"
        }
      ]
    },
    {
      "cell_type": "markdown",
      "metadata": {
        "id": "VqQ40_0LDHpw",
        "colab_type": "text"
      },
      "source": [
        "## regex with pandas and named groups"
      ]
    },
    {
      "cell_type": "code",
      "metadata": {
        "id": "6OFjNtbOCItd",
        "colab_type": "code",
        "colab": {}
      },
      "source": [
        "import pandas as pd\n",
        "sentences = ['monday: I sleep at 2:00am.',\n",
        "             'tuesday: I sleep at 2:30am',\n",
        "             'wednesday: I sleep at 3:00am.',\n",
        "             'thursday: I sleep at 4:00am in the morning.']"
      ],
      "execution_count": 0,
      "outputs": []
    },
    {
      "cell_type": "code",
      "metadata": {
        "id": "fo6-r4zEC_m9",
        "colab_type": "code",
        "outputId": "bd92dc64-cd8b-4f21-fe84-c8aacaa6d9d4",
        "colab": {
          "base_uri": "https://localhost:8080/",
          "height": 175
        }
      },
      "source": [
        "df = pd.DataFrame(sentences , columns = ['text'])\n",
        "df.head()"
      ],
      "execution_count": 0,
      "outputs": [
        {
          "output_type": "execute_result",
          "data": {
            "text/html": [
              "<div>\n",
              "<style scoped>\n",
              "    .dataframe tbody tr th:only-of-type {\n",
              "        vertical-align: middle;\n",
              "    }\n",
              "\n",
              "    .dataframe tbody tr th {\n",
              "        vertical-align: top;\n",
              "    }\n",
              "\n",
              "    .dataframe thead th {\n",
              "        text-align: right;\n",
              "    }\n",
              "</style>\n",
              "<table border=\"1\" class=\"dataframe\">\n",
              "  <thead>\n",
              "    <tr style=\"text-align: right;\">\n",
              "      <th></th>\n",
              "      <th>text</th>\n",
              "    </tr>\n",
              "  </thead>\n",
              "  <tbody>\n",
              "    <tr>\n",
              "      <th>0</th>\n",
              "      <td>monday: I sleep at 2:00am.</td>\n",
              "    </tr>\n",
              "    <tr>\n",
              "      <th>1</th>\n",
              "      <td>tuesday: I sleep at 2:30am</td>\n",
              "    </tr>\n",
              "    <tr>\n",
              "      <th>2</th>\n",
              "      <td>wednesday: I sleep at 3:00am.</td>\n",
              "    </tr>\n",
              "    <tr>\n",
              "      <th>3</th>\n",
              "      <td>thursday: I sleep at 4:00am in the morning.</td>\n",
              "    </tr>\n",
              "  </tbody>\n",
              "</table>\n",
              "</div>"
            ],
            "text/plain": [
              "                                          text\n",
              "0                   monday: I sleep at 2:00am.\n",
              "1                   tuesday: I sleep at 2:30am\n",
              "2                wednesday: I sleep at 3:00am.\n",
              "3  thursday: I sleep at 4:00am in the morning."
            ]
          },
          "metadata": {
            "tags": []
          },
          "execution_count": 11
        }
      ]
    },
    {
      "cell_type": "code",
      "metadata": {
        "id": "UNHbsoxbCXNj",
        "colab_type": "code",
        "outputId": "b05e8878-db9a-4afb-fdd4-cd2b46c3179e",
        "colab": {
          "base_uri": "https://localhost:8080/",
          "height": 109
        }
      },
      "source": [
        "print(df['text'].str.split().str.len())"
      ],
      "execution_count": 0,
      "outputs": [
        {
          "output_type": "stream",
          "text": [
            "0    5\n",
            "1    5\n",
            "2    5\n",
            "3    8\n",
            "Name: text, dtype: int64\n"
          ],
          "name": "stdout"
        }
      ]
    },
    {
      "cell_type": "code",
      "metadata": {
        "id": "05YZ5qb4Cq6f",
        "colab_type": "code",
        "outputId": "b9670483-c7a2-424a-ecec-0b16565c2a6e",
        "colab": {
          "base_uri": "https://localhost:8080/",
          "height": 109
        }
      },
      "source": [
        "print(df['text'].str.contains('sleep'))"
      ],
      "execution_count": 0,
      "outputs": [
        {
          "output_type": "stream",
          "text": [
            "0    True\n",
            "1    True\n",
            "2    True\n",
            "3    True\n",
            "Name: text, dtype: bool\n"
          ],
          "name": "stdout"
        }
      ]
    },
    {
      "cell_type": "code",
      "metadata": {
        "id": "lE39LWvyCsmM",
        "colab_type": "code",
        "outputId": "d3d4c24f-b6e3-4b6b-809d-907bf5b520c8",
        "colab": {
          "base_uri": "https://localhost:8080/",
          "height": 109
        }
      },
      "source": [
        "print(df['text'].str.findall(r'\\d'))"
      ],
      "execution_count": 0,
      "outputs": [
        {
          "output_type": "stream",
          "text": [
            "0    [2, 0, 0]\n",
            "1    [2, 3, 0]\n",
            "2    [3, 0, 0]\n",
            "3    [4, 0, 0]\n",
            "Name: text, dtype: object\n"
          ],
          "name": "stdout"
        }
      ]
    },
    {
      "cell_type": "code",
      "metadata": {
        "id": "kRfCg9arCuPU",
        "colab_type": "code",
        "outputId": "f6bad714-a282-4878-f959-5b5b5a3cb076",
        "colab": {
          "base_uri": "https://localhost:8080/",
          "height": 109
        }
      },
      "source": [
        "print(df['text'].str.count(r'\\d'))"
      ],
      "execution_count": 0,
      "outputs": [
        {
          "output_type": "stream",
          "text": [
            "0    3\n",
            "1    3\n",
            "2    3\n",
            "3    3\n",
            "Name: text, dtype: int64\n"
          ],
          "name": "stdout"
        }
      ]
    },
    {
      "cell_type": "code",
      "metadata": {
        "id": "SeAy7veJCv2E",
        "colab_type": "code",
        "outputId": "39058145-b4fd-4ede-c37f-198f8fe4abfa",
        "colab": {
          "base_uri": "https://localhost:8080/",
          "height": 109
        }
      },
      "source": [
        "print(df['text'].str.findall(r'(\\d):(\\d\\d)'))"
      ],
      "execution_count": 0,
      "outputs": [
        {
          "output_type": "stream",
          "text": [
            "0    [(2, 00)]\n",
            "1    [(2, 30)]\n",
            "2    [(3, 00)]\n",
            "3    [(4, 00)]\n",
            "Name: text, dtype: object\n"
          ],
          "name": "stdout"
        }
      ]
    },
    {
      "cell_type": "code",
      "metadata": {
        "id": "fQhHZieeCxqj",
        "colab_type": "code",
        "outputId": "924d4a4b-0403-41df-bc70-23c32fc2693e",
        "colab": {
          "base_uri": "https://localhost:8080/",
          "height": 109
        }
      },
      "source": [
        "print(df['text'].str.replace(r'\\w+day\\b' , '???'))"
      ],
      "execution_count": 0,
      "outputs": [
        {
          "output_type": "stream",
          "text": [
            "0                   ???: I sleep at 2:00am.\n",
            "1                    ???: I sleep at 2:30am\n",
            "2                   ???: I sleep at 3:00am.\n",
            "3    ???: I sleep at 4:00am in the morning.\n",
            "Name: text, dtype: object\n"
          ],
          "name": "stdout"
        }
      ]
    },
    {
      "cell_type": "code",
      "metadata": {
        "id": "aDVqxPOhCzTU",
        "colab_type": "code",
        "outputId": "5edc6351-9608-4a92-be89-bcdb3433e0ab",
        "colab": {
          "base_uri": "https://localhost:8080/",
          "height": 109
        }
      },
      "source": [
        "print(df['text'].str.replace(r'(\\w+day)' , lambda x: x.groups()[0][:3]    ))"
      ],
      "execution_count": 0,
      "outputs": [
        {
          "output_type": "stream",
          "text": [
            "0                   mon: I sleep at 2:00am.\n",
            "1                    tue: I sleep at 2:30am\n",
            "2                   wed: I sleep at 3:00am.\n",
            "3    thu: I sleep at 4:00am in the morning.\n",
            "Name: text, dtype: object\n"
          ],
          "name": "stdout"
        }
      ]
    },
    {
      "cell_type": "code",
      "metadata": {
        "id": "-zoNagCUC06s",
        "colab_type": "code",
        "outputId": "49e4a2be-1ad7-4e15-d69e-14554a1f9904",
        "colab": {
          "base_uri": "https://localhost:8080/",
          "height": 109
        }
      },
      "source": [
        "print(df['text'].str.extract(r'(\\d?\\d):(\\d\\d) ?([ap]m)'))"
      ],
      "execution_count": 0,
      "outputs": [
        {
          "output_type": "stream",
          "text": [
            "   0   1   2\n",
            "0  2  00  am\n",
            "1  2  30  am\n",
            "2  3  00  am\n",
            "3  4  00  am\n"
          ],
          "name": "stdout"
        }
      ]
    },
    {
      "cell_type": "code",
      "metadata": {
        "id": "1Epkzn3mC2h8",
        "colab_type": "code",
        "outputId": "f7fea094-0aa9-4461-f3d5-9f5709c7aebe",
        "colab": {
          "base_uri": "https://localhost:8080/",
          "height": 127
        }
      },
      "source": [
        "print(df['text'].str.extractall(r'(\\d?\\d):(\\d\\d) ?([ap]m)'))"
      ],
      "execution_count": 0,
      "outputs": [
        {
          "output_type": "stream",
          "text": [
            "         0   1   2\n",
            "  match           \n",
            "0 0      2  00  am\n",
            "1 0      2  30  am\n",
            "2 0      3  00  am\n",
            "3 0      4  00  am\n"
          ],
          "name": "stdout"
        }
      ]
    },
    {
      "cell_type": "code",
      "metadata": {
        "id": "5SiqiMW2C4M8",
        "colab_type": "code",
        "outputId": "40fd9bfa-a850-46b7-c885-4239088fb28f",
        "colab": {
          "base_uri": "https://localhost:8080/",
          "height": 127
        }
      },
      "source": [
        "print(df['text'].str.extractall(r'(?P<time>(?P<hour>\\d?\\d):(?P<minute>\\d\\d) ?(?P<period>[ap]m))'))"
      ],
      "execution_count": 0,
      "outputs": [
        {
          "output_type": "stream",
          "text": [
            "           time hour minute period\n",
            "  match                           \n",
            "0 0      2:00am    2     00     am\n",
            "1 0      2:30am    2     30     am\n",
            "2 0      3:00am    3     00     am\n",
            "3 0      4:00am    4     00     am\n"
          ],
          "name": "stdout"
        }
      ]
    }
  ]
}