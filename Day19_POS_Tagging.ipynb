{
  "nbformat": 4,
  "nbformat_minor": 0,
  "metadata": {
    "kernelspec": {
      "display_name": "Python 3",
      "language": "python",
      "name": "python3"
    },
    "language_info": {
      "codemirror_mode": {
        "name": "ipython",
        "version": 3
      },
      "file_extension": ".py",
      "mimetype": "text/x-python",
      "name": "python",
      "nbconvert_exporter": "python",
      "pygments_lexer": "ipython3",
      "version": "3.6.7"
    },
    "colab": {
      "name": "Day19_POS-Tagging.ipynb",
      "provenance": [],
      "collapsed_sections": [],
      "toc_visible": true,
      "include_colab_link": true
    }
  },
  "cells": [
    {
      "cell_type": "markdown",
      "metadata": {
        "id": "view-in-github",
        "colab_type": "text"
      },
      "source": [
        "<a href=\"https://colab.research.google.com/github/psbhargava/100daysofnlp/blob/master/Day19_POS_Tagging.ipynb\" target=\"_parent\"><img src=\"https://colab.research.google.com/assets/colab-badge.svg\" alt=\"Open In Colab\"/></a>"
      ]
    },
    {
      "cell_type": "markdown",
      "metadata": {
        "id": "Wp1s9bxPYXXE",
        "colab_type": "text"
      },
      "source": [
        "![alt text](https://camo.githubusercontent.com/58a797e6b747395c86acb8cdfc59006d5b2c1b23/68747470733a2f2f7261772e67697468756275736572636f6e74656e742e636f6d2f6a616c616a7468616e616b692f504f532d7461672d776f726b73686f702f6d61737465722f696d67732f496d6167655f315f322e6a7067)"
      ]
    },
    {
      "cell_type": "code",
      "metadata": {
        "id": "OKoUOaS9IcXX",
        "colab_type": "code",
        "outputId": "4d6e8d9d-e933-468b-e450-b4e965deb70f",
        "colab": {
          "base_uri": "https://localhost:8080/",
          "height": 90
        }
      },
      "source": [
        "import nltk\n",
        "nltk.download('averaged_perceptron_tagger')\n",
        "from nltk import word_tokenize\n",
        "import pprint"
      ],
      "execution_count": 0,
      "outputs": [
        {
          "output_type": "stream",
          "text": [
            "[nltk_data] Downloading package averaged_perceptron_tagger to\n",
            "[nltk_data]     /root/nltk_data...\n",
            "[nltk_data]   Package averaged_perceptron_tagger is already up-to-\n",
            "[nltk_data]       date!\n"
          ],
          "name": "stdout"
        }
      ]
    },
    {
      "cell_type": "code",
      "metadata": {
        "id": "fKuuNUuMY2ji",
        "colab_type": "code",
        "outputId": "074cc830-c3b2-4a25-a5a3-16f28c83010a",
        "colab": {
          "base_uri": "https://localhost:8080/",
          "height": 54
        }
      },
      "source": [
        "nltk.download('brown')\n",
        "from nltk.corpus import brown"
      ],
      "execution_count": 0,
      "outputs": [
        {
          "output_type": "stream",
          "text": [
            "[nltk_data] Downloading package brown to /root/nltk_data...\n",
            "[nltk_data]   Package brown is already up-to-date!\n"
          ],
          "name": "stdout"
        }
      ]
    },
    {
      "cell_type": "code",
      "metadata": {
        "id": "plqqcPQ9X0Xb",
        "colab_type": "code",
        "outputId": "7fe63527-e4c2-45b2-ed23-1f5573f878e0",
        "colab": {
          "base_uri": "https://localhost:8080/",
          "height": 35
        }
      },
      "source": [
        "raw_text = nltk.Text(brown.words('ca01'))\n",
        "print(raw_text)"
      ],
      "execution_count": 0,
      "outputs": [
        {
          "output_type": "stream",
          "text": [
            "<Text: The Fulton County Grand Jury said Friday an...>\n"
          ],
          "name": "stdout"
        }
      ]
    },
    {
      "cell_type": "code",
      "metadata": {
        "id": "z76lc5nyY0AL",
        "colab_type": "code",
        "outputId": "d5154a6a-6030-42e8-a26b-21c0dd7d5caa",
        "colab": {
          "base_uri": "https://localhost:8080/",
          "height": 55
        }
      },
      "source": [
        "token = brown.words()\n",
        "print(token[0:20])"
      ],
      "execution_count": 0,
      "outputs": [
        {
          "output_type": "stream",
          "text": [
            "['The', 'Fulton', 'County', 'Grand', 'Jury', 'said', 'Friday', 'an', 'investigation', 'of', \"Atlanta's\", 'recent', 'primary', 'election', 'produced', '``', 'no', 'evidence', \"''\", 'that']\n"
          ],
          "name": "stdout"
        }
      ]
    },
    {
      "cell_type": "code",
      "metadata": {
        "id": "naVxGoMdY6UL",
        "colab_type": "code",
        "outputId": "451e447e-f850-4a4d-ed6f-4c6ccc5cfa80",
        "colab": {
          "base_uri": "https://localhost:8080/",
          "height": 384
        }
      },
      "source": [
        "pos_words = nltk.pos_tag(token)\n",
        "pprint.pprint(pos_words[0:20])"
      ],
      "execution_count": 0,
      "outputs": [
        {
          "output_type": "stream",
          "text": [
            "[('The', 'DT'),\n",
            " ('Fulton', 'NNP'),\n",
            " ('County', 'NNP'),\n",
            " ('Grand', 'NNP'),\n",
            " ('Jury', 'NNP'),\n",
            " ('said', 'VBD'),\n",
            " ('Friday', 'NNP'),\n",
            " ('an', 'DT'),\n",
            " ('investigation', 'NN'),\n",
            " ('of', 'IN'),\n",
            " (\"Atlanta's\", 'NNP'),\n",
            " ('recent', 'JJ'),\n",
            " ('primary', 'JJ'),\n",
            " ('election', 'NN'),\n",
            " ('produced', 'VBD'),\n",
            " ('``', '``'),\n",
            " ('no', 'DT'),\n",
            " ('evidence', 'NN'),\n",
            " (\"''\", \"''\"),\n",
            " ('that', 'IN')]\n"
          ],
          "name": "stdout"
        }
      ]
    },
    {
      "cell_type": "code",
      "metadata": {
        "id": "xdGlbIhaY737",
        "colab_type": "code",
        "outputId": "08878507-bdec-4e10-8d4e-7de38bc7443b",
        "colab": {
          "base_uri": "https://localhost:8080/",
          "height": 476
        }
      },
      "source": [
        "tagged_sentences_brown_corpus = nltk.corpus.brown.tagged_sents()\n",
        "pprint.pprint(tagged_sentences_brown_corpus[0])"
      ],
      "execution_count": 0,
      "outputs": [
        {
          "output_type": "stream",
          "text": [
            "[('The', 'AT'),\n",
            " ('Fulton', 'NP-TL'),\n",
            " ('County', 'NN-TL'),\n",
            " ('Grand', 'JJ-TL'),\n",
            " ('Jury', 'NN-TL'),\n",
            " ('said', 'VBD'),\n",
            " ('Friday', 'NR'),\n",
            " ('an', 'AT'),\n",
            " ('investigation', 'NN'),\n",
            " ('of', 'IN'),\n",
            " (\"Atlanta's\", 'NP$'),\n",
            " ('recent', 'JJ'),\n",
            " ('primary', 'NN'),\n",
            " ('election', 'NN'),\n",
            " ('produced', 'VBD'),\n",
            " ('``', '``'),\n",
            " ('no', 'AT'),\n",
            " ('evidence', 'NN'),\n",
            " (\"''\", \"''\"),\n",
            " ('that', 'CS'),\n",
            " ('any', 'DTI'),\n",
            " ('irregularities', 'NNS'),\n",
            " ('took', 'VBD'),\n",
            " ('place', 'NN'),\n",
            " ('.', '.')]\n"
          ],
          "name": "stdout"
        }
      ]
    }
  ]
}