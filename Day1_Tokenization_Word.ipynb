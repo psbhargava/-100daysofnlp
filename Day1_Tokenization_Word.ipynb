{
  "nbformat": 4,
  "nbformat_minor": 0,
  "metadata": {
    "colab": {
      "name": "Day1_Tokenization:Word.ipynb",
      "provenance": [],
      "collapsed_sections": [],
      "toc_visible": true,
      "authorship_tag": "ABX9TyPq+hN9SWUtgNQeR7O8zOaA",
      "include_colab_link": true
    },
    "kernelspec": {
      "name": "python3",
      "display_name": "Python 3"
    },
    "accelerator": "GPU"
  },
  "cells": [
    {
      "cell_type": "markdown",
      "metadata": {
        "id": "view-in-github",
        "colab_type": "text"
      },
      "source": [
        "<a href=\"https://colab.research.google.com/github/psbhargava/100daysofnlp/blob/master/Day1_Tokenization_Word.ipynb\" target=\"_parent\"><img src=\"https://colab.research.google.com/assets/colab-badge.svg\" alt=\"Open In Colab\"/></a>"
      ]
    },
    {
      "cell_type": "code",
      "metadata": {
        "id": "STUWZAIV3dAr",
        "colab_type": "code",
        "colab": {}
      },
      "source": [
        "import spacy \n",
        "#nlp = spacy.load(\"en\") \n",
        "nlp = spacy.load('en_core_web_sm', disable=['parser', 'ner'])"
      ],
      "execution_count": 0,
      "outputs": []
    },
    {
      "cell_type": "code",
      "metadata": {
        "id": "RhndAH0w3z-d",
        "colab_type": "code",
        "colab": {}
      },
      "source": [
        "doc = nlp(\"The big grey dog ate all of the chocolate, but fortunately he wasn't sick!\")"
      ],
      "execution_count": 0,
      "outputs": []
    },
    {
      "cell_type": "code",
      "metadata": {
        "id": "NJg4qbSK3319",
        "colab_type": "code",
        "outputId": "fe46ae2c-6c8d-4090-c8f9-fce2e1af50a0",
        "colab": {
          "base_uri": "https://localhost:8080/",
          "height": 274
        }
      },
      "source": [
        "doc.text.split()"
      ],
      "execution_count": 0,
      "outputs": [
        {
          "output_type": "execute_result",
          "data": {
            "text/plain": [
              "['The',\n",
              " 'big',\n",
              " 'grey',\n",
              " 'dog',\n",
              " 'ate',\n",
              " 'all',\n",
              " 'of',\n",
              " 'the',\n",
              " 'chocolate,',\n",
              " 'but',\n",
              " 'fortunately',\n",
              " 'he',\n",
              " \"wasn't\",\n",
              " 'sick!']"
            ]
          },
          "metadata": {
            "tags": []
          },
          "execution_count": 3
        }
      ]
    },
    {
      "cell_type": "code",
      "metadata": {
        "id": "AdnRql7935Vs",
        "colab_type": "code",
        "outputId": "6be10b54-4f8c-4929-9d47-c1241f823e05",
        "colab": {
          "base_uri": "https://localhost:8080/",
          "height": 329
        }
      },
      "source": [
        "[token.orth_ for token in doc]"
      ],
      "execution_count": 0,
      "outputs": [
        {
          "output_type": "execute_result",
          "data": {
            "text/plain": [
              "['The',\n",
              " 'big',\n",
              " 'grey',\n",
              " 'dog',\n",
              " 'ate',\n",
              " 'all',\n",
              " 'of',\n",
              " 'the',\n",
              " 'chocolate',\n",
              " ',',\n",
              " 'but',\n",
              " 'fortunately',\n",
              " 'he',\n",
              " 'was',\n",
              " \"n't\",\n",
              " 'sick',\n",
              " '!']"
            ]
          },
          "metadata": {
            "tags": []
          },
          "execution_count": 4
        }
      ]
    },
    {
      "cell_type": "code",
      "metadata": {
        "id": "w_CSG0Sr3-Ev",
        "colab_type": "code",
        "outputId": "115747d8-b761-4600-92e1-627184501645",
        "colab": {
          "base_uri": "https://localhost:8080/",
          "height": 329
        }
      },
      "source": [
        "[(token, token.orth_, token.orth) for token in doc]"
      ],
      "execution_count": 0,
      "outputs": [
        {
          "output_type": "execute_result",
          "data": {
            "text/plain": [
              "[(The, 'The', 5059648917813135842),\n",
              " (big, 'big', 15511632813958231649),\n",
              " (grey, 'grey', 10475807793332549289),\n",
              " (dog, 'dog', 7562983679033046312),\n",
              " (ate, 'ate', 10806788082624814911),\n",
              " (all, 'all', 13409319323822384369),\n",
              " (of, 'of', 886050111519832510),\n",
              " (the, 'the', 7425985699627899538),\n",
              " (chocolate, 'chocolate', 10946593968795032542),\n",
              " (,, ',', 2593208677638477497),\n",
              " (but, 'but', 14560795576765492085),\n",
              " (fortunately, 'fortunately', 13851269277375979931),\n",
              " (he, 'he', 1655312771067108281),\n",
              " (was, 'was', 9921686513378912864),\n",
              " (n't, \"n't\", 2043519015752540944),\n",
              " (sick, 'sick', 14841597609857081305),\n",
              " (!, '!', 17494803046312582752)]"
            ]
          },
          "metadata": {
            "tags": []
          },
          "execution_count": 5
        }
      ]
    },
    {
      "cell_type": "code",
      "metadata": {
        "id": "o6_ESWcA4A-E",
        "colab_type": "code",
        "outputId": "64f438e7-b1f5-4dcd-f136-4791b2f5d717",
        "colab": {
          "base_uri": "https://localhost:8080/",
          "height": 293
        }
      },
      "source": [
        "[token.orth_ for token in doc if not token.is_punct | token.is_space]"
      ],
      "execution_count": 0,
      "outputs": [
        {
          "output_type": "execute_result",
          "data": {
            "text/plain": [
              "['The',\n",
              " 'big',\n",
              " 'grey',\n",
              " 'dog',\n",
              " 'ate',\n",
              " 'all',\n",
              " 'of',\n",
              " 'the',\n",
              " 'chocolate',\n",
              " 'but',\n",
              " 'fortunately',\n",
              " 'he',\n",
              " 'was',\n",
              " \"n't\",\n",
              " 'sick']"
            ]
          },
          "metadata": {
            "tags": []
          },
          "execution_count": 6
        }
      ]
    }
  ]
}