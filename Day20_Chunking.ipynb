{
  "nbformat": 4,
  "nbformat_minor": 0,
  "metadata": {
    "colab": {
      "name": "Day20_Chunking.ipynb",
      "provenance": [],
      "collapsed_sections": [],
      "toc_visible": true,
      "authorship_tag": "ABX9TyPzg5l0J2tlZRZkTbrv/7+g",
      "include_colab_link": true
    },
    "kernelspec": {
      "name": "python3",
      "display_name": "Python 3"
    }
  },
  "cells": [
    {
      "cell_type": "markdown",
      "metadata": {
        "id": "view-in-github",
        "colab_type": "text"
      },
      "source": [
        "<a href=\"https://colab.research.google.com/github/psbhargava/100daysofnlp/blob/master/Day20_Chunking.ipynb\" target=\"_parent\"><img src=\"https://colab.research.google.com/assets/colab-badge.svg\" alt=\"Open In Colab\"/></a>"
      ]
    },
    {
      "cell_type": "code",
      "metadata": {
        "id": "2tjTdwcRdsSs",
        "colab_type": "code",
        "outputId": "2d400bd7-c891-4ec4-989d-19e97d039af7",
        "colab": {
          "base_uri": "https://localhost:8080/",
          "height": 127
        }
      },
      "source": [
        "import nltk\n",
        "nltk.download('punkt')\n",
        "nltk.download('averaged_perceptron_tagger')\n",
        "from nltk import word_tokenize\n",
        "import pprint"
      ],
      "execution_count": 0,
      "outputs": [
        {
          "output_type": "stream",
          "text": [
            "[nltk_data] Downloading package punkt to /root/nltk_data...\n",
            "[nltk_data]   Package punkt is already up-to-date!\n",
            "[nltk_data] Downloading package averaged_perceptron_tagger to\n",
            "[nltk_data]     /root/nltk_data...\n",
            "[nltk_data]   Package averaged_perceptron_tagger is already up-to-\n",
            "[nltk_data]       date!\n"
          ],
          "name": "stdout"
        }
      ]
    },
    {
      "cell_type": "code",
      "metadata": {
        "id": "VopNq8A1dwzg",
        "colab_type": "code",
        "outputId": "b4c4c41f-b109-44b2-a426-d194eea3004e",
        "colab": {
          "base_uri": "https://localhost:8080/",
          "height": 54
        }
      },
      "source": [
        "nltk.download('brown')\n",
        "from nltk.corpus import brown"
      ],
      "execution_count": 0,
      "outputs": [
        {
          "output_type": "stream",
          "text": [
            "[nltk_data] Downloading package brown to /root/nltk_data...\n",
            "[nltk_data]   Package brown is already up-to-date!\n"
          ],
          "name": "stdout"
        }
      ]
    },
    {
      "cell_type": "code",
      "metadata": {
        "id": "2LkPa1SbdyY3",
        "colab_type": "code",
        "outputId": "dc274499-73d3-49c1-fd45-c52617c88ba0",
        "colab": {
          "base_uri": "https://localhost:8080/",
          "height": 35
        }
      },
      "source": [
        "raw_text = 'the little yellow dog barked at the cat'\n",
        "print(raw_text)"
      ],
      "execution_count": 0,
      "outputs": [
        {
          "output_type": "stream",
          "text": [
            "the little yellow dog barked at the cat\n"
          ],
          "name": "stdout"
        }
      ]
    },
    {
      "cell_type": "code",
      "metadata": {
        "id": "OERG-hZld0gA",
        "colab_type": "code",
        "outputId": "b8bbd3ec-409a-48ba-fdee-5d4a696b1d06",
        "colab": {
          "base_uri": "https://localhost:8080/",
          "height": 35
        }
      },
      "source": [
        "token = nltk.word_tokenize(raw_text)\n",
        "print(token)"
      ],
      "execution_count": 0,
      "outputs": [
        {
          "output_type": "stream",
          "text": [
            "['the', 'little', 'yellow', 'dog', 'barked', 'at', 'the', 'cat']\n"
          ],
          "name": "stdout"
        }
      ]
    },
    {
      "cell_type": "code",
      "metadata": {
        "id": "QIWMgzwId2ev",
        "colab_type": "code",
        "outputId": "19c99c24-009a-4543-8696-89fb7daa62b9",
        "colab": {
          "base_uri": "https://localhost:8080/",
          "height": 164
        }
      },
      "source": [
        "pos_words = nltk.pos_tag(token)\n",
        "pprint.pprint(pos_words)"
      ],
      "execution_count": 0,
      "outputs": [
        {
          "output_type": "stream",
          "text": [
            "[('the', 'DT'),\n",
            " ('little', 'JJ'),\n",
            " ('yellow', 'JJ'),\n",
            " ('dog', 'NN'),\n",
            " ('barked', 'VBD'),\n",
            " ('at', 'IN'),\n",
            " ('the', 'DT'),\n",
            " ('cat', 'NN')]\n"
          ],
          "name": "stdout"
        }
      ]
    },
    {
      "cell_type": "code",
      "metadata": {
        "id": "0w2Nn7XBd4sI",
        "colab_type": "code",
        "colab": {}
      },
      "source": [
        "#Define your grammar using regular expressions\n",
        "grammar = ('''\n",
        "    NP: {<DT>?<JJ>*<NN>} # NP\n",
        "    ''')"
      ],
      "execution_count": 0,
      "outputs": []
    },
    {
      "cell_type": "code",
      "metadata": {
        "id": "Fj9gjVjReQDp",
        "colab_type": "code",
        "outputId": "85b56f57-3e0d-4bb3-bd32-e25db9817347",
        "colab": {
          "base_uri": "https://localhost:8080/",
          "height": 164
        }
      },
      "source": [
        "chunkParser = nltk.RegexpParser(grammar)\n",
        "pos_words"
      ],
      "execution_count": 0,
      "outputs": [
        {
          "output_type": "execute_result",
          "data": {
            "text/plain": [
              "[('the', 'DT'),\n",
              " ('little', 'JJ'),\n",
              " ('yellow', 'JJ'),\n",
              " ('dog', 'NN'),\n",
              " ('barked', 'VBD'),\n",
              " ('at', 'IN'),\n",
              " ('the', 'DT'),\n",
              " ('cat', 'NN')]"
            ]
          },
          "metadata": {
            "tags": []
          },
          "execution_count": 7
        }
      ]
    },
    {
      "cell_type": "code",
      "metadata": {
        "id": "VhcqJ0jueQ1Y",
        "colab_type": "code",
        "colab": {}
      },
      "source": [
        "tree = chunkParser.parse(pos_words)"
      ],
      "execution_count": 0,
      "outputs": []
    },
    {
      "cell_type": "code",
      "metadata": {
        "id": "h04loiUYeVja",
        "colab_type": "code",
        "outputId": "33063fdc-25be-411b-9338-6268c64e6c22",
        "colab": {
          "base_uri": "https://localhost:8080/",
          "height": 146
        }
      },
      "source": [
        "for subtree in tree.subtrees():\n",
        "    print(subtree)"
      ],
      "execution_count": 0,
      "outputs": [
        {
          "output_type": "stream",
          "text": [
            "(S\n",
            "  (NP the/DT little/JJ yellow/JJ dog/NN)\n",
            "  barked/VBD\n",
            "  at/IN\n",
            "  (NP the/DT cat/NN))\n",
            "(NP the/DT little/JJ yellow/JJ dog/NN)\n",
            "(NP the/DT cat/NN)\n"
          ],
          "name": "stdout"
        }
      ]
    },
    {
      "cell_type": "code",
      "metadata": {
        "id": "ec4OP9H8eYC3",
        "colab_type": "code",
        "outputId": "7006b5d2-fe2f-436c-a42e-490064f075fc",
        "colab": {
          "base_uri": "https://localhost:8080/",
          "height": 109
        }
      },
      "source": [
        "print(tree)"
      ],
      "execution_count": 0,
      "outputs": [
        {
          "output_type": "stream",
          "text": [
            "(S\n",
            "  (NP the/DT little/JJ yellow/JJ dog/NN)\n",
            "  barked/VBD\n",
            "  at/IN\n",
            "  (NP the/DT cat/NN))\n"
          ],
          "name": "stdout"
        }
      ]
    },
    {
      "cell_type": "code",
      "metadata": {
        "id": "IqhmUOpbuUQw",
        "colab_type": "code",
        "colab": {}
      },
      "source": [
        ""
      ],
      "execution_count": 0,
      "outputs": []
    }
  ]
}