{
  "nbformat": 4,
  "nbformat_minor": 0,
  "metadata": {
    "colab": {
      "name": "Day21_ LatentSemanticAnalysis(LSA).ipynb",
      "provenance": [],
      "collapsed_sections": [],
      "toc_visible": true,
      "authorship_tag": "ABX9TyMd8cymp5gzUUXEOM9DWFdN",
      "include_colab_link": true
    },
    "kernelspec": {
      "name": "python3",
      "display_name": "Python 3"
    }
  },
  "cells": [
    {
      "cell_type": "markdown",
      "metadata": {
        "id": "view-in-github",
        "colab_type": "text"
      },
      "source": [
        "<a href=\"https://colab.research.google.com/github/psbhargava/100daysofnlp/blob/master/Day21__LatentSemanticAnalysis(LSA).ipynb\" target=\"_parent\"><img src=\"https://colab.research.google.com/assets/colab-badge.svg\" alt=\"Open In Colab\"/></a>"
      ]
    },
    {
      "cell_type": "markdown",
      "metadata": {
        "id": "diHQs8AEJqK0",
        "colab_type": "text"
      },
      "source": [
        "https://medium.com/acing-ai/what-is-latent-semantic-analysis-lsa-4d3e2d18417a"
      ]
    },
    {
      "cell_type": "code",
      "metadata": {
        "id": "1x9LUQUvDUPS",
        "colab_type": "code",
        "colab": {}
      },
      "source": [
        "from gensim import corpora, models, similarities"
      ],
      "execution_count": 0,
      "outputs": []
    },
    {
      "cell_type": "code",
      "metadata": {
        "id": "BkQSMkCBDd2s",
        "colab_type": "code",
        "colab": {}
      },
      "source": [
        "documents = [\"Human machine interface for lab computer applications\",\n",
        "             \"A survey of user opinion of computer system response time\",\n",
        "             \"The EPS user interface management system\",\n",
        "             \"System and human system engineering testing of EPS\",\n",
        "             \"Relation of user perceived response time to error measurement\",\n",
        "             \"The generation of random binary unordered trees\",\n",
        "             \"The intersection graph of paths in trees\",\n",
        "             \"Graph minors IV Widths of trees and well quasi ordering\",\n",
        "             \"Graph minors A survey\"]"
      ],
      "execution_count": 0,
      "outputs": []
    },
    {
      "cell_type": "code",
      "metadata": {
        "id": "PxEcq2BCDgBx",
        "colab_type": "code",
        "outputId": "d2a78307-ea2f-42af-f4a6-c5d989b0e03f",
        "colab": {
          "base_uri": "https://localhost:8080/",
          "height": 182
        }
      },
      "source": [
        "import pprint\n",
        "pprint.pprint(documents)"
      ],
      "execution_count": 0,
      "outputs": [
        {
          "output_type": "stream",
          "text": [
            "['Human machine interface for lab computer applications',\n",
            " 'A survey of user opinion of computer system response time',\n",
            " 'The EPS user interface management system',\n",
            " 'System and human system engineering testing of EPS',\n",
            " 'Relation of user perceived response time to error measurement',\n",
            " 'The generation of random binary unordered trees',\n",
            " 'The intersection graph of paths in trees',\n",
            " 'Graph minors IV Widths of trees and well quasi ordering',\n",
            " 'Graph minors A survey']\n"
          ],
          "name": "stdout"
        }
      ]
    },
    {
      "cell_type": "code",
      "metadata": {
        "id": "NmJ9c47BDhwR",
        "colab_type": "code",
        "colab": {}
      },
      "source": [
        "# remove common words and tokenize them\n",
        "stoplist = set('for a of the and to in'.split())"
      ],
      "execution_count": 0,
      "outputs": []
    },
    {
      "cell_type": "code",
      "metadata": {
        "id": "1HO8KcT4DppI",
        "colab_type": "code",
        "colab": {}
      },
      "source": [
        "texts = [[word for word in document.lower().split() if word not in stoplist] for document in documents]"
      ],
      "execution_count": 0,
      "outputs": []
    },
    {
      "cell_type": "code",
      "metadata": {
        "id": "LzpZy_PuDtqx",
        "colab_type": "code",
        "outputId": "fc68db1f-a93f-4e0f-dc91-c770ef3a74d3",
        "colab": {
          "base_uri": "https://localhost:8080/",
          "height": 182
        }
      },
      "source": [
        "pprint.pprint(texts)"
      ],
      "execution_count": 0,
      "outputs": [
        {
          "output_type": "stream",
          "text": [
            "[['human', 'machine', 'interface', 'lab', 'computer', 'applications'],\n",
            " ['survey', 'user', 'opinion', 'computer', 'system', 'response', 'time'],\n",
            " ['eps', 'user', 'interface', 'management', 'system'],\n",
            " ['system', 'human', 'system', 'engineering', 'testing', 'eps'],\n",
            " ['relation', 'user', 'perceived', 'response', 'time', 'error', 'measurement'],\n",
            " ['generation', 'random', 'binary', 'unordered', 'trees'],\n",
            " ['intersection', 'graph', 'paths', 'trees'],\n",
            " ['graph', 'minors', 'iv', 'widths', 'trees', 'well', 'quasi', 'ordering'],\n",
            " ['graph', 'minors', 'survey']]\n"
          ],
          "name": "stdout"
        }
      ]
    },
    {
      "cell_type": "code",
      "metadata": {
        "id": "p_KO7j6WDwOA",
        "colab_type": "code",
        "outputId": "1bc49339-4ecc-49b9-f36d-c3bc24a65296",
        "colab": {
          "base_uri": "https://localhost:8080/",
          "height": 55
        }
      },
      "source": [
        "# remove words those appear only once\n",
        "all_tokens = sum(texts, [])\n",
        "print(all_tokens)"
      ],
      "execution_count": 0,
      "outputs": [
        {
          "output_type": "stream",
          "text": [
            "['human', 'machine', 'interface', 'lab', 'computer', 'applications', 'survey', 'user', 'opinion', 'computer', 'system', 'response', 'time', 'eps', 'user', 'interface', 'management', 'system', 'system', 'human', 'system', 'engineering', 'testing', 'eps', 'relation', 'user', 'perceived', 'response', 'time', 'error', 'measurement', 'generation', 'random', 'binary', 'unordered', 'trees', 'intersection', 'graph', 'paths', 'trees', 'graph', 'minors', 'iv', 'widths', 'trees', 'well', 'quasi', 'ordering', 'graph', 'minors', 'survey']\n"
          ],
          "name": "stdout"
        }
      ]
    },
    {
      "cell_type": "code",
      "metadata": {
        "id": "iOr5ON_fD0yz",
        "colab_type": "code",
        "outputId": "b5c05439-ccdc-4315-f251-ab46c4c61b1c",
        "colab": {
          "base_uri": "https://localhost:8080/",
          "height": 55
        }
      },
      "source": [
        "tokens_once = set(word for word in set(all_tokens) if all_tokens.count(word) == 1)\n",
        "print(tokens_once)"
      ],
      "execution_count": 0,
      "outputs": [
        {
          "output_type": "stream",
          "text": [
            "{'generation', 'engineering', 'well', 'quasi', 'relation', 'random', 'iv', 'ordering', 'intersection', 'error', 'machine', 'unordered', 'management', 'lab', 'binary', 'applications', 'opinion', 'perceived', 'widths', 'measurement', 'paths', 'testing'}\n"
          ],
          "name": "stdout"
        }
      ]
    },
    {
      "cell_type": "code",
      "metadata": {
        "id": "akPR8b7xD6lq",
        "colab_type": "code",
        "outputId": "1388e9ff-1f6b-4e66-ce13-72281df0f5a0",
        "colab": {
          "base_uri": "https://localhost:8080/",
          "height": 182
        }
      },
      "source": [
        "texts = [[word for word in text if word not in tokens_once] for text in texts]\n",
        "pprint.pprint(texts)"
      ],
      "execution_count": 0,
      "outputs": [
        {
          "output_type": "stream",
          "text": [
            "[['human', 'interface', 'computer'],\n",
            " ['survey', 'user', 'computer', 'system', 'response', 'time'],\n",
            " ['eps', 'user', 'interface', 'system'],\n",
            " ['system', 'human', 'system', 'eps'],\n",
            " ['user', 'response', 'time'],\n",
            " ['trees'],\n",
            " ['graph', 'trees'],\n",
            " ['graph', 'minors', 'trees'],\n",
            " ['graph', 'minors', 'survey']]\n"
          ],
          "name": "stdout"
        }
      ]
    },
    {
      "cell_type": "code",
      "metadata": {
        "id": "BnP_E-K4D-CC",
        "colab_type": "code",
        "outputId": "8f72561a-713b-4ada-b685-ae115b5b9f1a",
        "colab": {
          "base_uri": "https://localhost:8080/",
          "height": 35
        }
      },
      "source": [
        "dictionary = corpora.Dictionary(texts)\n",
        "print(dictionary)"
      ],
      "execution_count": 0,
      "outputs": [
        {
          "output_type": "stream",
          "text": [
            "Dictionary(12 unique tokens: ['computer', 'human', 'interface', 'response', 'survey']...)\n"
          ],
          "name": "stdout"
        }
      ]
    },
    {
      "cell_type": "code",
      "metadata": {
        "id": "x6aPLw_NEh3K",
        "colab_type": "code",
        "colab": {}
      },
      "source": [
        "#dictionary.save('deerwester.dict')  # save as binary file at the dictionary at local directory\n",
        "\n",
        "#dictionary.save_as_text('deerwester_text.dict')  # save as text file at the local directory"
      ],
      "execution_count": 0,
      "outputs": []
    },
    {
      "cell_type": "code",
      "metadata": {
        "id": "n78yGSEzEBvK",
        "colab_type": "code",
        "outputId": "6027f9ce-11be-4cc4-e1ac-c36b17ec92f0",
        "colab": {
          "base_uri": "https://localhost:8080/",
          "height": 55
        }
      },
      "source": [
        "print(dictionary.token2id)"
      ],
      "execution_count": 0,
      "outputs": [
        {
          "output_type": "stream",
          "text": [
            "{'computer': 0, 'human': 1, 'interface': 2, 'response': 3, 'survey': 4, 'system': 5, 'time': 6, 'user': 7, 'eps': 8, 'trees': 9, 'graph': 10, 'minors': 11}\n"
          ],
          "name": "stdout"
        }
      ]
    },
    {
      "cell_type": "code",
      "metadata": {
        "id": "O3jzYco6EIch",
        "colab_type": "code",
        "outputId": "a8c65cc2-4455-4ca7-b620-03494fbeaef8",
        "colab": {
          "base_uri": "https://localhost:8080/",
          "height": 35
        }
      },
      "source": [
        "# temporary data to see role of below function\n",
        "new_doc = \"Human computer interaction\" \n",
        "\n",
        "new_vec = dictionary.doc2bow(new_doc.lower().split()) # return \"word-ID : Frequency of appearance\"\"\n",
        "print(new_vec)"
      ],
      "execution_count": 0,
      "outputs": [
        {
          "output_type": "stream",
          "text": [
            "[(0, 1), (1, 1)]\n"
          ],
          "name": "stdout"
        }
      ]
    },
    {
      "cell_type": "code",
      "metadata": {
        "id": "YaApyl23EPfK",
        "colab_type": "code",
        "outputId": "0ba96205-8a97-49cb-8c23-f64cee4a1411",
        "colab": {
          "base_uri": "https://localhost:8080/",
          "height": 55
        }
      },
      "source": [
        "corpus = [dictionary.doc2bow(text) for text in texts]\n",
        "print(corpus)"
      ],
      "execution_count": 0,
      "outputs": [
        {
          "output_type": "stream",
          "text": [
            "[[(0, 1), (1, 1), (2, 1)], [(0, 1), (3, 1), (4, 1), (5, 1), (6, 1), (7, 1)], [(2, 1), (5, 1), (7, 1), (8, 1)], [(1, 1), (5, 2), (8, 1)], [(3, 1), (6, 1), (7, 1)], [(9, 1)], [(9, 1), (10, 1)], [(9, 1), (10, 1), (11, 1)], [(4, 1), (10, 1), (11, 1)]]\n"
          ],
          "name": "stdout"
        }
      ]
    },
    {
      "cell_type": "code",
      "metadata": {
        "id": "ahyii6-IEXho",
        "colab_type": "code",
        "colab": {}
      },
      "source": [
        "#corpora.MmCorpus.serialize('deerwester.mm', corpus) # save corpus at local directory\n",
        "\n",
        "#corpus = corpora.MmCorpus('deerwester.mm') # try to load the saved corpus from local\n",
        "\n",
        "#print(list(corpus)) # to show corpus which was read above, need to print(list( ))"
      ],
      "execution_count": 0,
      "outputs": []
    },
    {
      "cell_type": "code",
      "metadata": {
        "id": "BAEiIu4mEszg",
        "colab_type": "code",
        "colab": {}
      },
      "source": [
        "#dictionary = corpora.Dictionary.load('deerwester.dict') # try to load saved dic.from local\n",
        "\n",
        "#print(dictionary)"
      ],
      "execution_count": 0,
      "outputs": []
    },
    {
      "cell_type": "code",
      "metadata": {
        "id": "-4tMuQKKE4cg",
        "colab_type": "code",
        "outputId": "5fd7c04a-cc58-4e89-832e-686be4e82b88",
        "colab": {
          "base_uri": "https://localhost:8080/",
          "height": 35
        }
      },
      "source": [
        "tfidf = models.TfidfModel(corpus) # step 1 -- initialize a model\n",
        "\n",
        "print(tfidf)"
      ],
      "execution_count": 0,
      "outputs": [
        {
          "output_type": "stream",
          "text": [
            "TfidfModel(num_docs=9, num_nnz=28)\n"
          ],
          "name": "stdout"
        }
      ]
    },
    {
      "cell_type": "code",
      "metadata": {
        "id": "Fs8VX_ibE6-Q",
        "colab_type": "code",
        "outputId": "c1f7cc69-e7c2-4b47-fa72-55141fbf24b4",
        "colab": {
          "base_uri": "https://localhost:8080/",
          "height": 35
        }
      },
      "source": [
        "corpus_tfidf = tfidf[corpus]  # map corpus object into tfidf space\n",
        "\n",
        "print(corpus_tfidf)"
      ],
      "execution_count": 0,
      "outputs": [
        {
          "output_type": "stream",
          "text": [
            "<gensim.interfaces.TransformedCorpus object at 0x7fc15ab64940>\n"
          ],
          "name": "stdout"
        }
      ]
    },
    {
      "cell_type": "code",
      "metadata": {
        "id": "6RzWwe3zE9io",
        "colab_type": "code",
        "outputId": "9dcd1e4f-e2cc-42bc-b708-c94c18a337b1",
        "colab": {
          "base_uri": "https://localhost:8080/",
          "height": 202
        }
      },
      "source": [
        "for doc in corpus_tfidf: # show tfidf-space mapped words\n",
        "    print(doc)"
      ],
      "execution_count": 0,
      "outputs": [
        {
          "output_type": "stream",
          "text": [
            "[(0, 0.5773502691896257), (1, 0.5773502691896257), (2, 0.5773502691896257)]\n",
            "[(0, 0.44424552527467476), (3, 0.44424552527467476), (4, 0.44424552527467476), (5, 0.3244870206138555), (6, 0.44424552527467476), (7, 0.3244870206138555)]\n",
            "[(2, 0.5710059809418182), (5, 0.4170757362022777), (7, 0.4170757362022777), (8, 0.5710059809418182)]\n",
            "[(1, 0.49182558987264147), (5, 0.7184811607083769), (8, 0.49182558987264147)]\n",
            "[(3, 0.6282580468670046), (6, 0.6282580468670046), (7, 0.45889394536615247)]\n",
            "[(9, 1.0)]\n",
            "[(9, 0.7071067811865475), (10, 0.7071067811865475)]\n",
            "[(9, 0.5080429008916749), (10, 0.5080429008916749), (11, 0.695546419520037)]\n",
            "[(4, 0.6282580468670046), (10, 0.45889394536615247), (11, 0.6282580468670046)]\n"
          ],
          "name": "stdout"
        }
      ]
    },
    {
      "cell_type": "code",
      "metadata": {
        "id": "anPc-8XbE_zA",
        "colab_type": "code",
        "outputId": "87da7efa-19a6-4d4b-c3d4-4ba5567689d3",
        "colab": {
          "base_uri": "https://localhost:8080/",
          "height": 35
        }
      },
      "source": [
        "lsi = models.LsiModel(corpus_tfidf, id2word=dictionary, num_topics=2) # initialize LSI \n",
        "print(lsi)"
      ],
      "execution_count": 0,
      "outputs": [
        {
          "output_type": "stream",
          "text": [
            "LsiModel(num_terms=12, num_topics=2, decay=1.0, chunksize=20000)\n"
          ],
          "name": "stdout"
        }
      ]
    },
    {
      "cell_type": "code",
      "metadata": {
        "id": "7m2usLLIFCyA",
        "colab_type": "code",
        "outputId": "4f77d734-e6cf-47ed-c052-54be7656062d",
        "colab": {
          "base_uri": "https://localhost:8080/",
          "height": 35
        }
      },
      "source": [
        "corpus_lsi = lsi[corpus_tfidf] # create a double wrapper over the original corpus\n",
        "print(corpus_lsi)"
      ],
      "execution_count": 0,
      "outputs": [
        {
          "output_type": "stream",
          "text": [
            "<gensim.interfaces.TransformedCorpus object at 0x7fc15ab6e208>\n"
          ],
          "name": "stdout"
        }
      ]
    },
    {
      "cell_type": "code",
      "metadata": {
        "id": "Lpb6Ih8FFEQn",
        "colab_type": "code",
        "outputId": "8e840654-b3a8-43c4-b80a-1f45788ee537",
        "colab": {
          "base_uri": "https://localhost:8080/",
          "height": 55
        }
      },
      "source": [
        "topic = lsi.print_topics(2)\n",
        "print(topic)"
      ],
      "execution_count": 0,
      "outputs": [
        {
          "output_type": "stream",
          "text": [
            "[(0, '0.703*\"trees\" + 0.538*\"graph\" + 0.402*\"minors\" + 0.187*\"survey\" + 0.061*\"system\" + 0.060*\"time\" + 0.060*\"response\" + 0.058*\"user\" + 0.049*\"computer\" + 0.035*\"interface\"'), (1, '-0.460*\"system\" + -0.373*\"user\" + -0.332*\"eps\" + -0.328*\"interface\" + -0.320*\"time\" + -0.320*\"response\" + -0.293*\"computer\" + -0.280*\"human\" + -0.171*\"survey\" + 0.161*\"trees\"')]\n"
          ],
          "name": "stdout"
        }
      ]
    },
    {
      "cell_type": "code",
      "metadata": {
        "id": "vssRHrawFHaR",
        "colab_type": "code",
        "outputId": "41672293-5b60-4902-a72a-496ee46834d9",
        "colab": {
          "base_uri": "https://localhost:8080/",
          "height": 182
        }
      },
      "source": [
        "for doc in corpus_lsi:\n",
        "    print(doc)"
      ],
      "execution_count": 0,
      "outputs": [
        {
          "output_type": "stream",
          "text": [
            "[(0, 0.0660078339609041), (1, -0.5200703306361842)]\n",
            "[(0, 0.19667592859142552), (1, -0.7609563167700051)]\n",
            "[(0, 0.08992639972446531), (1, -0.7241860626752507)]\n",
            "[(0, 0.07585847652178265), (1, -0.6320551586003424)]\n",
            "[(0, 0.1015029918498016), (1, -0.5737308483002962)]\n",
            "[(0, 0.7032108939378312), (1, 0.1611518021402591)]\n",
            "[(0, 0.8774787673119832), (1, 0.16758906864659517)]\n",
            "[(0, 0.9098624686818577), (1, 0.14086553628719106)]\n",
            "[(0, 0.6165825350569281), (1, -0.05392907566389348)]\n"
          ],
          "name": "stdout"
        }
      ]
    },
    {
      "cell_type": "code",
      "metadata": {
        "id": "oPsKwAMNFJpm",
        "colab_type": "code",
        "colab": {}
      },
      "source": [
        "#lsi.save('model.lsi')  # save output model at local directory\n",
        "\n",
        "#lsi = models.LsiModel.load('model.lsi') # try to load above saved model\n",
        "#print(lsi)"
      ],
      "execution_count": 0,
      "outputs": []
    },
    {
      "cell_type": "code",
      "metadata": {
        "id": "sUVkUhVuFNrv",
        "colab_type": "code",
        "outputId": "a6a08464-bb91-4a7a-fb26-220128dbbcb6",
        "colab": {
          "base_uri": "https://localhost:8080/",
          "height": 35
        }
      },
      "source": [
        "doc = \"Human computer interaction\"  # give new document to calculate similarity degree with already obtained topics\n",
        "\n",
        "vec_bow = dictionary.doc2bow(doc.lower().split())  # put newly obtained document to existing dictionary object\n",
        "print(vec_bow)  # show result of above"
      ],
      "execution_count": 0,
      "outputs": [
        {
          "output_type": "stream",
          "text": [
            "[(0, 1), (1, 1)]\n"
          ],
          "name": "stdout"
        }
      ]
    },
    {
      "cell_type": "code",
      "metadata": {
        "id": "UhL5TIfPFQVP",
        "colab_type": "code",
        "outputId": "1b05fbe9-4220-4ad6-f2c6-77ce999d8254",
        "colab": {
          "base_uri": "https://localhost:8080/",
          "height": 35
        }
      },
      "source": [
        "vec_lsi = lsi[vec_bow] # convert new document (henceforth, call it \"query\") to LSI space\n",
        "print(vec_lsi)"
      ],
      "execution_count": 0,
      "outputs": [
        {
          "output_type": "stream",
          "text": [
            "[(0, 0.07910475117444908), (1, -0.5732835243079395)]\n"
          ],
          "name": "stdout"
        }
      ]
    },
    {
      "cell_type": "code",
      "metadata": {
        "id": "5KTZWMhAFSMG",
        "colab_type": "code",
        "outputId": "5fb0c1b8-4988-4201-bedc-ac0120cdee82",
        "colab": {
          "base_uri": "https://localhost:8080/",
          "height": 92
        }
      },
      "source": [
        "index = similarities.MatrixSimilarity(lsi[corpus]) # transform corpus to LSI space and indexize it\n",
        "print(index)"
      ],
      "execution_count": 0,
      "outputs": [
        {
          "output_type": "stream",
          "text": [
            "MatrixSimilarity<9 docs, 2 features>\n"
          ],
          "name": "stdout"
        },
        {
          "output_type": "stream",
          "text": [
            "/usr/local/lib/python3.6/dist-packages/gensim/matutils.py:737: FutureWarning: Conversion of the second argument of issubdtype from `int` to `np.signedinteger` is deprecated. In future, it will be treated as `np.int64 == np.dtype(int).type`.\n",
            "  if np.issubdtype(vec.dtype, np.int):\n"
          ],
          "name": "stderr"
        }
      ]
    },
    {
      "cell_type": "code",
      "metadata": {
        "id": "ESat0dCdFTom",
        "colab_type": "code",
        "colab": {}
      },
      "source": [
        "#index.save('deerwester.index') # save index object at local directory\n",
        "\n",
        "#index = similarities.MatrixSimilarity.load('deerwester.index')\n",
        "#print(index)"
      ],
      "execution_count": 0,
      "outputs": []
    },
    {
      "cell_type": "code",
      "metadata": {
        "id": "HdyD8QB8FX0n",
        "colab_type": "code",
        "outputId": "13dba156-35eb-4b96-983c-60885cb516ba",
        "colab": {
          "base_uri": "https://localhost:8080/",
          "height": 54
        }
      },
      "source": [
        "sims = index[vec_lsi] # calculate degree of similarity of the query to existing corpus\n",
        "print(sims)"
      ],
      "execution_count": 0,
      "outputs": [
        {
          "output_type": "stream",
          "text": [
            "[ 0.9999408   0.9946708   0.9999428   0.999879    0.99935204 -0.08804217\n",
            " -0.0515742  -0.02366471  0.1938726 ]\n"
          ],
          "name": "stdout"
        }
      ]
    },
    {
      "cell_type": "code",
      "metadata": {
        "id": "3Lm1n1bMFaAX",
        "colab_type": "code",
        "outputId": "47260978-66c7-455a-ad6a-41b005974380",
        "colab": {
          "base_uri": "https://localhost:8080/",
          "height": 182
        }
      },
      "source": [
        "pprint.pprint(list(enumerate(sims))) # output (document_number , document similarity)"
      ],
      "execution_count": 0,
      "outputs": [
        {
          "output_type": "stream",
          "text": [
            "[(0, 0.9999408),\n",
            " (1, 0.9946708),\n",
            " (2, 0.9999428),\n",
            " (3, 0.999879),\n",
            " (4, 0.99935204),\n",
            " (5, -0.08804217),\n",
            " (6, -0.0515742),\n",
            " (7, -0.023664713),\n",
            " (8, 0.1938726)]\n"
          ],
          "name": "stdout"
        }
      ]
    },
    {
      "cell_type": "code",
      "metadata": {
        "id": "7Lc9z66MFb7f",
        "colab_type": "code",
        "outputId": "0b87b28b-61f3-4d11-d939-d72edfdf33d7",
        "colab": {
          "base_uri": "https://localhost:8080/",
          "height": 182
        }
      },
      "source": [
        "sims = sorted(enumerate(sims), key=lambda item: -item[1])  # sort output object as per similarity ( largest similarity document comes first )\n",
        "pprint.pprint(sims)"
      ],
      "execution_count": 0,
      "outputs": [
        {
          "output_type": "stream",
          "text": [
            "[(2, 0.9999428),\n",
            " (0, 0.9999408),\n",
            " (3, 0.999879),\n",
            " (4, 0.99935204),\n",
            " (1, 0.9946708),\n",
            " (8, 0.1938726),\n",
            " (7, -0.023664713),\n",
            " (6, -0.0515742),\n",
            " (5, -0.08804217)]\n"
          ],
          "name": "stdout"
        }
      ]
    },
    {
      "cell_type": "code",
      "metadata": {
        "id": "lzeLNsX1FeQf",
        "colab_type": "code",
        "colab": {}
      },
      "source": [
        ""
      ],
      "execution_count": 0,
      "outputs": []
    }
  ]
}