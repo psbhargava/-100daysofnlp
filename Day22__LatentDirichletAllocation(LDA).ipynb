{
  "nbformat": 4,
  "nbformat_minor": 0,
  "metadata": {
    "colab": {
      "name": "Day22_ LatentDirichletAllocation(LDA).ipynb",
      "provenance": [],
      "collapsed_sections": [],
      "toc_visible": true,
      "include_colab_link": true
    },
    "kernelspec": {
      "name": "python3",
      "display_name": "Python 3"
    },
    "accelerator": "GPU"
  },
  "cells": [
    {
      "cell_type": "markdown",
      "metadata": {
        "id": "view-in-github",
        "colab_type": "text"
      },
      "source": [
        "<a href=\"https://colab.research.google.com/github/psbhargava/100daysofnlp/blob/master/Day22__LatentDirichletAllocation(LDA).ipynb\" target=\"_parent\"><img src=\"https://colab.research.google.com/assets/colab-badge.svg\" alt=\"Open In Colab\"/></a>"
      ]
    },
    {
      "cell_type": "markdown",
      "metadata": {
        "id": "TNl9NC7QPxOl",
        "colab_type": "text"
      },
      "source": [
        "## Kaggle into Colab"
      ]
    },
    {
      "cell_type": "code",
      "metadata": {
        "id": "Ucx5Qz87Hd7D",
        "colab_type": "code",
        "colab": {}
      },
      "source": [
        " ! pip install -q kaggle"
      ],
      "execution_count": 0,
      "outputs": []
    },
    {
      "cell_type": "code",
      "metadata": {
        "id": "cLDbwBfvHe0a",
        "colab_type": "code",
        "outputId": "74bfc4d0-ea68-44ab-b523-d58754515c9f",
        "colab": {
          "resources": {
            "http://localhost:8080/nbextensions/google.colab/files.js": {
              "data": "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",
              "ok": true,
              "headers": [
                [
                  "content-type",
                  "application/javascript"
                ]
              ],
              "status": 200,
              "status_text": ""
            }
          },
          "base_uri": "https://localhost:8080/",
          "height": 91
        }
      },
      "source": [
        "from google.colab import files\n",
        "files.upload()"
      ],
      "execution_count": 3,
      "outputs": [
        {
          "output_type": "display_data",
          "data": {
            "text/html": [
              "\n",
              "     <input type=\"file\" id=\"files-05a0926a-e550-4c4f-b3d6-ab5560de7d3c\" name=\"files[]\" multiple disabled />\n",
              "     <output id=\"result-05a0926a-e550-4c4f-b3d6-ab5560de7d3c\">\n",
              "      Upload widget is only available when the cell has been executed in the\n",
              "      current browser session. Please rerun this cell to enable.\n",
              "      </output>\n",
              "      <script src=\"/nbextensions/google.colab/files.js\"></script> "
            ],
            "text/plain": [
              "<IPython.core.display.HTML object>"
            ]
          },
          "metadata": {
            "tags": []
          }
        },
        {
          "output_type": "stream",
          "text": [
            "Saving kaggle.json to kaggle.json\n"
          ],
          "name": "stdout"
        },
        {
          "output_type": "execute_result",
          "data": {
            "text/plain": [
              "{'kaggle.json': b'{\"username\":\"bhargava39\",\"key\":\"0c336f601392a0b82010a59803c2da13\"}'}"
            ]
          },
          "metadata": {
            "tags": []
          },
          "execution_count": 3
        }
      ]
    },
    {
      "cell_type": "code",
      "metadata": {
        "id": "UmtvNCLfHesd",
        "colab_type": "code",
        "colab": {}
      },
      "source": [
        "! mkdir ~/.kaggle\n",
        "! cp kaggle.json ~/.kaggle/"
      ],
      "execution_count": 0,
      "outputs": []
    },
    {
      "cell_type": "code",
      "metadata": {
        "id": "xHmwb_bKLhBO",
        "colab_type": "code",
        "colab": {}
      },
      "source": [
        "! chmod 600 ~/.kaggle/kaggle.json"
      ],
      "execution_count": 0,
      "outputs": []
    },
    {
      "cell_type": "markdown",
      "metadata": {
        "id": "TCJIIFIpPuj-",
        "colab_type": "text"
      },
      "source": [
        "## The Data"
      ]
    },
    {
      "cell_type": "code",
      "metadata": {
        "id": "Ks3FR9b9CG2Q",
        "colab_type": "code",
        "outputId": "c2b85651-8b87-4485-c9ce-f4cf7a8e052f",
        "colab": {
          "base_uri": "https://localhost:8080/",
          "height": 68
        }
      },
      "source": [
        "! kaggle datasets download -d therohk/million-headlines"
      ],
      "execution_count": 6,
      "outputs": [
        {
          "output_type": "stream",
          "text": [
            "Downloading million-headlines.zip to /content\n",
            " 84% 17.0M/20.2M [00:00<00:00, 21.6MB/s]\n",
            "100% 20.2M/20.2M [00:00<00:00, 29.7MB/s]\n"
          ],
          "name": "stdout"
        }
      ]
    },
    {
      "cell_type": "code",
      "metadata": {
        "id": "XsMiPLhPPS_h",
        "colab_type": "code",
        "outputId": "2691740d-e673-41c1-dd36-3ebfd4a7301e",
        "colab": {
          "base_uri": "https://localhost:8080/",
          "height": 51
        }
      },
      "source": [
        "! unzip /content/million-headlines.zip"
      ],
      "execution_count": 7,
      "outputs": [
        {
          "output_type": "stream",
          "text": [
            "Archive:  /content/million-headlines.zip\n",
            "  inflating: abcnews-date-text.csv   \n"
          ],
          "name": "stdout"
        }
      ]
    },
    {
      "cell_type": "code",
      "metadata": {
        "id": "yHm4ZVFvQG1o",
        "colab_type": "code",
        "colab": {}
      },
      "source": [
        "import numpy as np\n",
        "import pandas as pd\n",
        "\n",
        "np.random.seed(2018)"
      ],
      "execution_count": 0,
      "outputs": []
    },
    {
      "cell_type": "code",
      "metadata": {
        "id": "ph32-yWdPOxE",
        "colab_type": "code",
        "colab": {}
      },
      "source": [
        "data = pd.read_csv('abcnews-date-text.csv', error_bad_lines=False);\n",
        "data_text = data[['headline_text']]\n",
        "data_text['index'] = data_text.index\n",
        "documents = data_text"
      ],
      "execution_count": 0,
      "outputs": []
    },
    {
      "cell_type": "code",
      "metadata": {
        "id": "XqWvOeADPRNa",
        "colab_type": "code",
        "outputId": "ecee4bae-9ed0-4e06-d89d-633848ee3872",
        "colab": {
          "base_uri": "https://localhost:8080/",
          "height": 34
        }
      },
      "source": [
        "len(documents)"
      ],
      "execution_count": 10,
      "outputs": [
        {
          "output_type": "execute_result",
          "data": {
            "text/plain": [
              "1186018"
            ]
          },
          "metadata": {
            "tags": []
          },
          "execution_count": 10
        }
      ]
    },
    {
      "cell_type": "code",
      "metadata": {
        "id": "7Lb_Tnv0Szql",
        "colab_type": "code",
        "colab": {
          "base_uri": "https://localhost:8080/",
          "height": 204
        },
        "outputId": "82b3a261-b087-4dae-c44f-31df694dd8c1"
      },
      "source": [
        "documents[:5]"
      ],
      "execution_count": 11,
      "outputs": [
        {
          "output_type": "execute_result",
          "data": {
            "text/html": [
              "<div>\n",
              "<style scoped>\n",
              "    .dataframe tbody tr th:only-of-type {\n",
              "        vertical-align: middle;\n",
              "    }\n",
              "\n",
              "    .dataframe tbody tr th {\n",
              "        vertical-align: top;\n",
              "    }\n",
              "\n",
              "    .dataframe thead th {\n",
              "        text-align: right;\n",
              "    }\n",
              "</style>\n",
              "<table border=\"1\" class=\"dataframe\">\n",
              "  <thead>\n",
              "    <tr style=\"text-align: right;\">\n",
              "      <th></th>\n",
              "      <th>headline_text</th>\n",
              "      <th>index</th>\n",
              "    </tr>\n",
              "  </thead>\n",
              "  <tbody>\n",
              "    <tr>\n",
              "      <th>0</th>\n",
              "      <td>aba decides against community broadcasting lic...</td>\n",
              "      <td>0</td>\n",
              "    </tr>\n",
              "    <tr>\n",
              "      <th>1</th>\n",
              "      <td>act fire witnesses must be aware of defamation</td>\n",
              "      <td>1</td>\n",
              "    </tr>\n",
              "    <tr>\n",
              "      <th>2</th>\n",
              "      <td>a g calls for infrastructure protection summit</td>\n",
              "      <td>2</td>\n",
              "    </tr>\n",
              "    <tr>\n",
              "      <th>3</th>\n",
              "      <td>air nz staff in aust strike for pay rise</td>\n",
              "      <td>3</td>\n",
              "    </tr>\n",
              "    <tr>\n",
              "      <th>4</th>\n",
              "      <td>air nz strike to affect australian travellers</td>\n",
              "      <td>4</td>\n",
              "    </tr>\n",
              "  </tbody>\n",
              "</table>\n",
              "</div>"
            ],
            "text/plain": [
              "                                       headline_text  index\n",
              "0  aba decides against community broadcasting lic...      0\n",
              "1     act fire witnesses must be aware of defamation      1\n",
              "2     a g calls for infrastructure protection summit      2\n",
              "3           air nz staff in aust strike for pay rise      3\n",
              "4      air nz strike to affect australian travellers      4"
            ]
          },
          "metadata": {
            "tags": []
          },
          "execution_count": 11
        }
      ]
    },
    {
      "cell_type": "markdown",
      "metadata": {
        "id": "Nhkw4EBVPqsn",
        "colab_type": "text"
      },
      "source": [
        "## Data Pre-processing"
      ]
    },
    {
      "cell_type": "code",
      "metadata": {
        "id": "0pHiStkmPnjq",
        "colab_type": "code",
        "colab": {}
      },
      "source": [
        "import gensim\n",
        "from gensim.utils import simple_preprocess\n",
        "from gensim.parsing.preprocessing import STOPWORDS\n",
        "from nltk.stem import WordNetLemmatizer, SnowballStemmer\n",
        "from nltk.stem.porter import *\n",
        "\n",
        "np.random.seed(2018)"
      ],
      "execution_count": 0,
      "outputs": []
    },
    {
      "cell_type": "code",
      "metadata": {
        "id": "TG1LPK8pP7nm",
        "colab_type": "code",
        "outputId": "143faa3f-52eb-4895-9fa6-af2b183b64b7",
        "colab": {
          "base_uri": "https://localhost:8080/",
          "height": 68
        }
      },
      "source": [
        "import nltk\n",
        "nltk.download('wordnet')"
      ],
      "execution_count": 13,
      "outputs": [
        {
          "output_type": "stream",
          "text": [
            "[nltk_data] Downloading package wordnet to /root/nltk_data...\n",
            "[nltk_data]   Unzipping corpora/wordnet.zip.\n"
          ],
          "name": "stdout"
        },
        {
          "output_type": "execute_result",
          "data": {
            "text/plain": [
              "True"
            ]
          },
          "metadata": {
            "tags": []
          },
          "execution_count": 13
        }
      ]
    },
    {
      "cell_type": "code",
      "metadata": {
        "id": "fZ3Ck19_S8Wm",
        "colab_type": "code",
        "colab": {
          "base_uri": "https://localhost:8080/",
          "height": 34
        },
        "outputId": "1f76aac2-751c-43da-d482-184c3032c060"
      },
      "source": [
        "print(WordNetLemmatizer().lemmatize('went', pos='v'))"
      ],
      "execution_count": 14,
      "outputs": [
        {
          "output_type": "stream",
          "text": [
            "go\n"
          ],
          "name": "stdout"
        }
      ]
    },
    {
      "cell_type": "code",
      "metadata": {
        "id": "v3VgwXjRS_Au",
        "colab_type": "code",
        "colab": {
          "base_uri": "https://localhost:8080/",
          "height": 638
        },
        "outputId": "41fbaccc-bc9d-46e7-c009-64494dab4148"
      },
      "source": [
        "stemmer = SnowballStemmer('english')\n",
        "original_words = ['caresses', 'flies', 'dies', 'mules', 'denied','died', 'agreed', 'owned', \n",
        "           'humbled', 'sized','meeting', 'stating', 'siezing', 'itemization','sensational', \n",
        "           'traditional', 'reference', 'colonizer','plotted']\n",
        "           \n",
        "singles = [stemmer.stem(plural) for plural in original_words]\n",
        "pd.DataFrame(data = {'original word': original_words, 'stemmed': singles})"
      ],
      "execution_count": 15,
      "outputs": [
        {
          "output_type": "execute_result",
          "data": {
            "text/html": [
              "<div>\n",
              "<style scoped>\n",
              "    .dataframe tbody tr th:only-of-type {\n",
              "        vertical-align: middle;\n",
              "    }\n",
              "\n",
              "    .dataframe tbody tr th {\n",
              "        vertical-align: top;\n",
              "    }\n",
              "\n",
              "    .dataframe thead th {\n",
              "        text-align: right;\n",
              "    }\n",
              "</style>\n",
              "<table border=\"1\" class=\"dataframe\">\n",
              "  <thead>\n",
              "    <tr style=\"text-align: right;\">\n",
              "      <th></th>\n",
              "      <th>original word</th>\n",
              "      <th>stemmed</th>\n",
              "    </tr>\n",
              "  </thead>\n",
              "  <tbody>\n",
              "    <tr>\n",
              "      <th>0</th>\n",
              "      <td>caresses</td>\n",
              "      <td>caress</td>\n",
              "    </tr>\n",
              "    <tr>\n",
              "      <th>1</th>\n",
              "      <td>flies</td>\n",
              "      <td>fli</td>\n",
              "    </tr>\n",
              "    <tr>\n",
              "      <th>2</th>\n",
              "      <td>dies</td>\n",
              "      <td>die</td>\n",
              "    </tr>\n",
              "    <tr>\n",
              "      <th>3</th>\n",
              "      <td>mules</td>\n",
              "      <td>mule</td>\n",
              "    </tr>\n",
              "    <tr>\n",
              "      <th>4</th>\n",
              "      <td>denied</td>\n",
              "      <td>deni</td>\n",
              "    </tr>\n",
              "    <tr>\n",
              "      <th>5</th>\n",
              "      <td>died</td>\n",
              "      <td>die</td>\n",
              "    </tr>\n",
              "    <tr>\n",
              "      <th>6</th>\n",
              "      <td>agreed</td>\n",
              "      <td>agre</td>\n",
              "    </tr>\n",
              "    <tr>\n",
              "      <th>7</th>\n",
              "      <td>owned</td>\n",
              "      <td>own</td>\n",
              "    </tr>\n",
              "    <tr>\n",
              "      <th>8</th>\n",
              "      <td>humbled</td>\n",
              "      <td>humbl</td>\n",
              "    </tr>\n",
              "    <tr>\n",
              "      <th>9</th>\n",
              "      <td>sized</td>\n",
              "      <td>size</td>\n",
              "    </tr>\n",
              "    <tr>\n",
              "      <th>10</th>\n",
              "      <td>meeting</td>\n",
              "      <td>meet</td>\n",
              "    </tr>\n",
              "    <tr>\n",
              "      <th>11</th>\n",
              "      <td>stating</td>\n",
              "      <td>state</td>\n",
              "    </tr>\n",
              "    <tr>\n",
              "      <th>12</th>\n",
              "      <td>siezing</td>\n",
              "      <td>siez</td>\n",
              "    </tr>\n",
              "    <tr>\n",
              "      <th>13</th>\n",
              "      <td>itemization</td>\n",
              "      <td>item</td>\n",
              "    </tr>\n",
              "    <tr>\n",
              "      <th>14</th>\n",
              "      <td>sensational</td>\n",
              "      <td>sensat</td>\n",
              "    </tr>\n",
              "    <tr>\n",
              "      <th>15</th>\n",
              "      <td>traditional</td>\n",
              "      <td>tradit</td>\n",
              "    </tr>\n",
              "    <tr>\n",
              "      <th>16</th>\n",
              "      <td>reference</td>\n",
              "      <td>refer</td>\n",
              "    </tr>\n",
              "    <tr>\n",
              "      <th>17</th>\n",
              "      <td>colonizer</td>\n",
              "      <td>colon</td>\n",
              "    </tr>\n",
              "    <tr>\n",
              "      <th>18</th>\n",
              "      <td>plotted</td>\n",
              "      <td>plot</td>\n",
              "    </tr>\n",
              "  </tbody>\n",
              "</table>\n",
              "</div>"
            ],
            "text/plain": [
              "   original word stemmed\n",
              "0       caresses  caress\n",
              "1          flies     fli\n",
              "2           dies     die\n",
              "3          mules    mule\n",
              "4         denied    deni\n",
              "5           died     die\n",
              "6         agreed    agre\n",
              "7          owned     own\n",
              "8        humbled   humbl\n",
              "9          sized    size\n",
              "10       meeting    meet\n",
              "11       stating   state\n",
              "12       siezing    siez\n",
              "13   itemization    item\n",
              "14   sensational  sensat\n",
              "15   traditional  tradit\n",
              "16     reference   refer\n",
              "17     colonizer   colon\n",
              "18       plotted    plot"
            ]
          },
          "metadata": {
            "tags": []
          },
          "execution_count": 15
        }
      ]
    },
    {
      "cell_type": "code",
      "metadata": {
        "id": "CbktQK50QMet",
        "colab_type": "code",
        "colab": {}
      },
      "source": [
        "stemmer = SnowballStemmer('english')\n",
        "\n",
        "def lemmatize_stemming(text):\n",
        "    return stemmer.stem(WordNetLemmatizer().lemmatize(text, pos='v'))\n",
        "    \n",
        "\n",
        "def preprocess(text):\n",
        "  result = []\n",
        "  for token in gensim.utils.simple_preprocess(text):\n",
        "    if token not in gensim.parsing.preprocessing.STOPWORDS and len(token) > 3:\n",
        "      result.append(lemmatize_stemming(token))\n",
        "  return result\n"
      ],
      "execution_count": 0,
      "outputs": []
    },
    {
      "cell_type": "code",
      "metadata": {
        "id": "VVQDPReZRH7-",
        "colab_type": "code",
        "outputId": "014bca24-acee-49e7-9f3c-90da92e94feb",
        "colab": {
          "base_uri": "https://localhost:8080/",
          "height": 119
        }
      },
      "source": [
        "\n",
        "doc_sample = documents[documents['index'] == 4310].values[0][0]\n",
        "print('original document: ')\n",
        "\n",
        "words = []\n",
        "for word in doc_sample.split(' '):\n",
        "    words.append(word)\n",
        "print(words)\n",
        "\n",
        "print('\\n\\n tokenized and lemmatized document: ')\n",
        "print(preprocess(doc_sample))"
      ],
      "execution_count": 17,
      "outputs": [
        {
          "output_type": "stream",
          "text": [
            "original document: \n",
            "['ratepayers', 'group', 'wants', 'compulsory', 'local', 'govt', 'voting']\n",
            "\n",
            "\n",
            " tokenized and lemmatized document: \n",
            "['ratepay', 'group', 'want', 'compulsori', 'local', 'govt', 'vote']\n"
          ],
          "name": "stdout"
        }
      ]
    },
    {
      "cell_type": "code",
      "metadata": {
        "id": "C5ApH_bwUmxC",
        "colab_type": "code",
        "colab": {
          "base_uri": "https://localhost:8080/",
          "height": 204
        },
        "outputId": "8d23dbcd-ab78-473d-ec86-c3d5a9be4e97"
      },
      "source": [
        "processed_docs = documents['headline_text'].map(preprocess)\n",
        "processed_docs[:10]"
      ],
      "execution_count": 18,
      "outputs": [
        {
          "output_type": "execute_result",
          "data": {
            "text/plain": [
              "0            [decid, communiti, broadcast, licenc]\n",
              "1                               [wit, awar, defam]\n",
              "2           [call, infrastructur, protect, summit]\n",
              "3                      [staff, aust, strike, rise]\n",
              "4             [strike, affect, australian, travel]\n",
              "5               [ambiti, olsson, win, tripl, jump]\n",
              "6           [antic, delight, record, break, barca]\n",
              "7    [aussi, qualifi, stosur, wast, memphi, match]\n",
              "8            [aust, address, secur, council, iraq]\n",
              "9                         [australia, lock, timet]\n",
              "Name: headline_text, dtype: object"
            ]
          },
          "metadata": {
            "tags": []
          },
          "execution_count": 18
        }
      ]
    },
    {
      "cell_type": "code",
      "metadata": {
        "id": "6KFy59bOUnZc",
        "colab_type": "code",
        "colab": {
          "base_uri": "https://localhost:8080/",
          "height": 204
        },
        "outputId": "a781f557-4ad1-4449-c938-f42c74c18f69"
      },
      "source": [
        "dictionary = gensim.corpora.Dictionary(processed_docs)\n",
        "\n",
        "count = 0\n",
        "for k, v in dictionary.iteritems():\n",
        "    print(k, v)\n",
        "    count += 1\n",
        "    if count > 10:\n",
        "        break"
      ],
      "execution_count": 19,
      "outputs": [
        {
          "output_type": "stream",
          "text": [
            "0 broadcast\n",
            "1 communiti\n",
            "2 decid\n",
            "3 licenc\n",
            "4 awar\n",
            "5 defam\n",
            "6 wit\n",
            "7 call\n",
            "8 infrastructur\n",
            "9 protect\n",
            "10 summit\n"
          ],
          "name": "stdout"
        }
      ]
    },
    {
      "cell_type": "code",
      "metadata": {
        "id": "zFdLTF8eUlhn",
        "colab_type": "code",
        "colab": {}
      },
      "source": [
        "dictionary.filter_extremes(no_below=15, no_above=0.5, keep_n=100000)"
      ],
      "execution_count": 0,
      "outputs": []
    },
    {
      "cell_type": "code",
      "metadata": {
        "id": "3Fide-A5WZtr",
        "colab_type": "code",
        "colab": {
          "base_uri": "https://localhost:8080/",
          "height": 34
        },
        "outputId": "e4e2fb93-25b8-4c5d-c330-6d714e2aaa58"
      },
      "source": [
        "bow_corpus = [dictionary.doc2bow(doc) for doc in processed_docs]\n",
        "bow_corpus[4310]"
      ],
      "execution_count": 22,
      "outputs": [
        {
          "output_type": "execute_result",
          "data": {
            "text/plain": [
              "[(162, 1), (240, 1), (292, 1), (589, 1), (838, 1), (3567, 1), (3568, 1)]"
            ]
          },
          "metadata": {
            "tags": []
          },
          "execution_count": 22
        }
      ]
    },
    {
      "cell_type": "code",
      "metadata": {
        "id": "6Zw5UHubWO7N",
        "colab_type": "code",
        "colab": {
          "base_uri": "https://localhost:8080/",
          "height": 136
        },
        "outputId": "43563abc-3018-410f-9840-34a725f676ff"
      },
      "source": [
        "bow_doc_4310 = bow_corpus[4310]\n",
        "\n",
        "for i in range(len(bow_doc_4310)):\n",
        "    print(\"Word {} (\\\"{}\\\") appears {} time.\".format(bow_doc_4310[i][0], dictionary[bow_doc_4310[i][0]],bow_doc_4310[i][1]))"
      ],
      "execution_count": 23,
      "outputs": [
        {
          "output_type": "stream",
          "text": [
            "Word 162 (\"govt\") appears 1 time.\n",
            "Word 240 (\"group\") appears 1 time.\n",
            "Word 292 (\"vote\") appears 1 time.\n",
            "Word 589 (\"local\") appears 1 time.\n",
            "Word 838 (\"want\") appears 1 time.\n",
            "Word 3567 (\"compulsori\") appears 1 time.\n",
            "Word 3568 (\"ratepay\") appears 1 time.\n"
          ],
          "name": "stdout"
        }
      ]
    },
    {
      "cell_type": "code",
      "metadata": {
        "id": "ygmvv-NlWgWz",
        "colab_type": "code",
        "colab": {
          "base_uri": "https://localhost:8080/",
          "height": 85
        },
        "outputId": "5098f145-0112-4da6-968b-fc437ad0cab2"
      },
      "source": [
        "from gensim import corpora, models\n",
        "from pprint import pprint\n",
        "\n",
        "tfidf = models.TfidfModel(bow_corpus)\n",
        "corpus_tfidf = tfidf[bow_corpus]\n",
        "\n",
        "for doc in corpus_tfidf:\n",
        "    pprint(doc)\n",
        "    break"
      ],
      "execution_count": 24,
      "outputs": [
        {
          "output_type": "stream",
          "text": [
            "[(0, 0.5850076620505259),\n",
            " (1, 0.38947256567331934),\n",
            " (2, 0.4997099083387053),\n",
            " (3, 0.5063271308533074)]\n"
          ],
          "name": "stdout"
        }
      ]
    },
    {
      "cell_type": "code",
      "metadata": {
        "id": "aBrcyHlKWviu",
        "colab_type": "code",
        "colab": {}
      },
      "source": [
        "lda_model = gensim.models.LdaMulticore(bow_corpus, num_topics=10, id2word=dictionary, passes=2, workers=2)"
      ],
      "execution_count": 0,
      "outputs": []
    },
    {
      "cell_type": "code",
      "metadata": {
        "id": "AvHokXYyW1kw",
        "colab_type": "code",
        "colab": {
          "base_uri": "https://localhost:8080/",
          "height": 377
        },
        "outputId": "8757a0e8-acd6-4c4d-bd9c-4e879bbcbecc"
      },
      "source": [
        "for idx, topic in lda_model.print_topics(-1):\n",
        "    print('Topic: {} \\nWords: {}'.format(idx, topic))"
      ],
      "execution_count": 27,
      "outputs": [
        {
          "output_type": "stream",
          "text": [
            "Topic: 0 \n",
            "Words: 0.030*\"charg\" + 0.027*\"court\" + 0.025*\"murder\" + 0.020*\"woman\" + 0.019*\"news\" + 0.018*\"face\" + 0.017*\"alleg\" + 0.016*\"jail\" + 0.016*\"polic\" + 0.015*\"accus\"\n",
            "Topic: 1 \n",
            "Words: 0.030*\"australia\" + 0.020*\"home\" + 0.019*\"queensland\" + 0.016*\"world\" + 0.014*\"record\" + 0.013*\"rise\" + 0.012*\"price\" + 0.012*\"break\" + 0.009*\"scott\" + 0.009*\"high\"\n",
            "Topic: 2 \n",
            "Words: 0.040*\"polic\" + 0.024*\"melbourn\" + 0.019*\"live\" + 0.017*\"death\" + 0.016*\"brisban\" + 0.015*\"royal\" + 0.014*\"bushfir\" + 0.014*\"investig\" + 0.013*\"interview\" + 0.012*\"commiss\"\n",
            "Topic: 3 \n",
            "Words: 0.015*\"chang\" + 0.015*\"govern\" + 0.014*\"say\" + 0.013*\"tasmanian\" + 0.012*\"countri\" + 0.012*\"minist\" + 0.012*\"state\" + 0.011*\"deal\" + 0.010*\"talk\" + 0.009*\"climat\"\n",
            "Topic: 4 \n",
            "Words: 0.019*\"nation\" + 0.013*\"farmer\" + 0.013*\"plan\" + 0.012*\"rural\" + 0.012*\"health\" + 0.012*\"fund\" + 0.012*\"council\" + 0.012*\"indigen\" + 0.010*\"govern\" + 0.010*\"work\"\n",
            "Topic: 5 \n",
            "Words: 0.039*\"trump\" + 0.019*\"elect\" + 0.015*\"tasmania\" + 0.013*\"fight\" + 0.012*\"speak\" + 0.012*\"australia\" + 0.011*\"game\" + 0.010*\"world\" + 0.009*\"want\" + 0.009*\"liber\"\n",
            "Topic: 6 \n",
            "Words: 0.025*\"south\" + 0.022*\"north\" + 0.021*\"coast\" + 0.016*\"adelaid\" + 0.015*\"power\" + 0.014*\"west\" + 0.014*\"gold\" + 0.014*\"worker\" + 0.011*\"presid\" + 0.011*\"forc\"\n",
            "Topic: 7 \n",
            "Words: 0.025*\"kill\" + 0.025*\"attack\" + 0.023*\"report\" + 0.022*\"donald\" + 0.019*\"die\" + 0.018*\"crash\" + 0.017*\"dead\" + 0.017*\"protest\" + 0.015*\"peopl\" + 0.014*\"arrest\"\n",
            "Topic: 8 \n",
            "Words: 0.022*\"call\" + 0.022*\"canberra\" + 0.016*\"busi\" + 0.014*\"victoria\" + 0.014*\"farm\" + 0.013*\"drum\" + 0.012*\"bank\" + 0.010*\"turn\" + 0.010*\"labor\" + 0.010*\"parliament\"\n",
            "Topic: 9 \n",
            "Words: 0.017*\"open\" + 0.016*\"australian\" + 0.015*\"final\" + 0.014*\"australia\" + 0.011*\"street\" + 0.011*\"fall\" + 0.009*\"sydney\" + 0.009*\"stori\" + 0.009*\"beat\" + 0.009*\"wall\"\n"
          ],
          "name": "stdout"
        }
      ]
    },
    {
      "cell_type": "code",
      "metadata": {
        "id": "f5lwZOvSXkkW",
        "colab_type": "code",
        "colab": {}
      },
      "source": [
        "lda_model_tfidf = gensim.models.LdaMulticore(corpus_tfidf, num_topics=10, id2word=dictionary, passes=2, workers=4)"
      ],
      "execution_count": 0,
      "outputs": []
    },
    {
      "cell_type": "code",
      "metadata": {
        "id": "V1o4MmfZdSp1",
        "colab_type": "code",
        "colab": {
          "base_uri": "https://localhost:8080/",
          "height": 207
        },
        "outputId": "8bff1032-148d-4285-e148-9821c8ce4f22"
      },
      "source": [
        "for idx, topic in lda_model_tfidf.print_topics(-1):\n",
        "    print('Topic: {} Word: {}'.format(idx, topic))"
      ],
      "execution_count": 30,
      "outputs": [
        {
          "output_type": "stream",
          "text": [
            "Topic: 0 Word: 0.009*\"tuesday\" + 0.007*\"care\" + 0.007*\"korea\" + 0.007*\"morrison\" + 0.006*\"scott\" + 0.006*\"john\" + 0.006*\"age\" + 0.006*\"say\" + 0.005*\"north\" + 0.005*\"hong\"\n",
            "Topic: 1 Word: 0.027*\"trump\" + 0.009*\"climat\" + 0.008*\"grandstand\" + 0.006*\"june\" + 0.005*\"brief\" + 0.005*\"chang\" + 0.004*\"creek\" + 0.004*\"univers\" + 0.004*\"johnson\" + 0.004*\"financ\"\n",
            "Topic: 2 Word: 0.009*\"guilti\" + 0.008*\"turnbul\" + 0.007*\"elect\" + 0.007*\"sexual\" + 0.006*\"plead\" + 0.006*\"liber\" + 0.006*\"abus\" + 0.006*\"assault\" + 0.005*\"commiss\" + 0.005*\"insid\"\n",
            "Topic: 3 Word: 0.014*\"news\" + 0.012*\"rural\" + 0.011*\"market\" + 0.009*\"govern\" + 0.007*\"farmer\" + 0.006*\"price\" + 0.006*\"nation\" + 0.006*\"drought\" + 0.005*\"wednesday\" + 0.005*\"fund\"\n",
            "Topic: 4 Word: 0.008*\"monday\" + 0.007*\"cattl\" + 0.006*\"septemb\" + 0.006*\"festiv\" + 0.006*\"outback\" + 0.005*\"cancer\" + 0.004*\"firefight\" + 0.004*\"music\" + 0.004*\"hobart\" + 0.004*\"solar\"\n",
            "Topic: 5 Word: 0.012*\"murder\" + 0.012*\"drum\" + 0.011*\"charg\" + 0.008*\"court\" + 0.008*\"woman\" + 0.008*\"polic\" + 0.007*\"search\" + 0.007*\"miss\" + 0.007*\"accus\" + 0.006*\"mental\"\n",
            "Topic: 6 Word: 0.010*\"stori\" + 0.008*\"live\" + 0.007*\"australia\" + 0.006*\"leagu\" + 0.006*\"rugbi\" + 0.006*\"zealand\" + 0.005*\"august\" + 0.005*\"david\" + 0.005*\"world\" + 0.004*\"rise\"\n",
            "Topic: 7 Word: 0.012*\"donald\" + 0.010*\"interview\" + 0.008*\"weather\" + 0.008*\"street\" + 0.007*\"queensland\" + 0.007*\"island\" + 0.006*\"christma\" + 0.006*\"cyclon\" + 0.006*\"andrew\" + 0.005*\"violenc\"\n",
            "Topic: 8 Word: 0.016*\"crash\" + 0.012*\"kill\" + 0.012*\"polic\" + 0.009*\"dead\" + 0.008*\"shoot\" + 0.008*\"driver\" + 0.007*\"death\" + 0.007*\"michael\" + 0.007*\"fatal\" + 0.006*\"attack\"\n",
            "Topic: 9 Word: 0.018*\"countri\" + 0.014*\"hour\" + 0.008*\"thursday\" + 0.007*\"final\" + 0.007*\"juli\" + 0.006*\"australia\" + 0.005*\"ash\" + 0.005*\"grand\" + 0.004*\"shark\" + 0.004*\"cricket\"\n"
          ],
          "name": "stdout"
        }
      ]
    },
    {
      "cell_type": "code",
      "metadata": {
        "id": "E9__2ClhblDD",
        "colab_type": "code",
        "colab": {
          "base_uri": "https://localhost:8080/",
          "height": 34
        },
        "outputId": "44d25c6d-cb3a-4802-88db-7fed922f3c8e"
      },
      "source": [
        "processed_docs[4310]"
      ],
      "execution_count": 31,
      "outputs": [
        {
          "output_type": "execute_result",
          "data": {
            "text/plain": [
              "['ratepay', 'group', 'want', 'compulsori', 'local', 'govt', 'vote']"
            ]
          },
          "metadata": {
            "tags": []
          },
          "execution_count": 31
        }
      ]
    },
    {
      "cell_type": "code",
      "metadata": {
        "id": "9OJepfQDblqn",
        "colab_type": "code",
        "colab": {
          "base_uri": "https://localhost:8080/",
          "height": 547
        },
        "outputId": "f74c5720-09e9-4e9a-a812-3c3e2b54ac33"
      },
      "source": [
        "for index, score in sorted(lda_model[bow_corpus[4310]], key=lambda tup: -1*tup[1]):\n",
        "    print(\"\\nScore: {}\\t \\nTopic: {}\".format(score, lda_model.print_topic(index, 10)))"
      ],
      "execution_count": 32,
      "outputs": [
        {
          "output_type": "stream",
          "text": [
            "\n",
            "Score: 0.5028274655342102\t \n",
            "Topic: 0.019*\"nation\" + 0.013*\"farmer\" + 0.013*\"plan\" + 0.012*\"rural\" + 0.012*\"health\" + 0.012*\"fund\" + 0.012*\"council\" + 0.012*\"indigen\" + 0.010*\"govern\" + 0.010*\"work\"\n",
            "\n",
            "Score: 0.26249995827674866\t \n",
            "Topic: 0.039*\"trump\" + 0.019*\"elect\" + 0.015*\"tasmania\" + 0.013*\"fight\" + 0.012*\"speak\" + 0.012*\"australia\" + 0.011*\"game\" + 0.010*\"world\" + 0.009*\"want\" + 0.009*\"liber\"\n",
            "\n",
            "Score: 0.14717194437980652\t \n",
            "Topic: 0.022*\"call\" + 0.022*\"canberra\" + 0.016*\"busi\" + 0.014*\"victoria\" + 0.014*\"farm\" + 0.013*\"drum\" + 0.012*\"bank\" + 0.010*\"turn\" + 0.010*\"labor\" + 0.010*\"parliament\"\n",
            "\n",
            "Score: 0.012500617653131485\t \n",
            "Topic: 0.015*\"chang\" + 0.015*\"govern\" + 0.014*\"say\" + 0.013*\"tasmanian\" + 0.012*\"countri\" + 0.012*\"minist\" + 0.012*\"state\" + 0.011*\"deal\" + 0.010*\"talk\" + 0.009*\"climat\"\n",
            "\n",
            "Score: 0.012500000186264515\t \n",
            "Topic: 0.030*\"charg\" + 0.027*\"court\" + 0.025*\"murder\" + 0.020*\"woman\" + 0.019*\"news\" + 0.018*\"face\" + 0.017*\"alleg\" + 0.016*\"jail\" + 0.016*\"polic\" + 0.015*\"accus\"\n",
            "\n",
            "Score: 0.012500000186264515\t \n",
            "Topic: 0.030*\"australia\" + 0.020*\"home\" + 0.019*\"queensland\" + 0.016*\"world\" + 0.014*\"record\" + 0.013*\"rise\" + 0.012*\"price\" + 0.012*\"break\" + 0.009*\"scott\" + 0.009*\"high\"\n",
            "\n",
            "Score: 0.012500000186264515\t \n",
            "Topic: 0.040*\"polic\" + 0.024*\"melbourn\" + 0.019*\"live\" + 0.017*\"death\" + 0.016*\"brisban\" + 0.015*\"royal\" + 0.014*\"bushfir\" + 0.014*\"investig\" + 0.013*\"interview\" + 0.012*\"commiss\"\n",
            "\n",
            "Score: 0.012500000186264515\t \n",
            "Topic: 0.025*\"south\" + 0.022*\"north\" + 0.021*\"coast\" + 0.016*\"adelaid\" + 0.015*\"power\" + 0.014*\"west\" + 0.014*\"gold\" + 0.014*\"worker\" + 0.011*\"presid\" + 0.011*\"forc\"\n",
            "\n",
            "Score: 0.012500000186264515\t \n",
            "Topic: 0.025*\"kill\" + 0.025*\"attack\" + 0.023*\"report\" + 0.022*\"donald\" + 0.019*\"die\" + 0.018*\"crash\" + 0.017*\"dead\" + 0.017*\"protest\" + 0.015*\"peopl\" + 0.014*\"arrest\"\n",
            "\n",
            "Score: 0.012500000186264515\t \n",
            "Topic: 0.017*\"open\" + 0.016*\"australian\" + 0.015*\"final\" + 0.014*\"australia\" + 0.011*\"street\" + 0.011*\"fall\" + 0.009*\"sydney\" + 0.009*\"stori\" + 0.009*\"beat\" + 0.009*\"wall\"\n"
          ],
          "name": "stdout"
        }
      ]
    },
    {
      "cell_type": "code",
      "metadata": {
        "id": "_ZIUBNALbpCh",
        "colab_type": "code",
        "colab": {
          "base_uri": "https://localhost:8080/",
          "height": 547
        },
        "outputId": "97ee6743-87cb-4476-d7a1-9702eb59942b"
      },
      "source": [
        "for index, score in sorted(lda_model_tfidf[bow_corpus[4310]], key=lambda tup: -1*tup[1]):\n",
        "    print(\"\\nScore: {}\\t \\nTopic: {}\".format(score, lda_model_tfidf.print_topic(index, 10)))"
      ],
      "execution_count": 33,
      "outputs": [
        {
          "output_type": "stream",
          "text": [
            "\n",
            "Score: 0.5561744570732117\t \n",
            "Topic: 0.014*\"news\" + 0.012*\"rural\" + 0.011*\"market\" + 0.009*\"govern\" + 0.007*\"farmer\" + 0.006*\"price\" + 0.006*\"nation\" + 0.006*\"drought\" + 0.005*\"wednesday\" + 0.005*\"fund\"\n",
            "\n",
            "Score: 0.19375298917293549\t \n",
            "Topic: 0.010*\"stori\" + 0.008*\"live\" + 0.007*\"australia\" + 0.006*\"leagu\" + 0.006*\"rugbi\" + 0.006*\"zealand\" + 0.005*\"august\" + 0.005*\"david\" + 0.005*\"world\" + 0.004*\"rise\"\n",
            "\n",
            "Score: 0.16256174445152283\t \n",
            "Topic: 0.012*\"donald\" + 0.010*\"interview\" + 0.008*\"weather\" + 0.008*\"street\" + 0.007*\"queensland\" + 0.007*\"island\" + 0.006*\"christma\" + 0.006*\"cyclon\" + 0.006*\"andrew\" + 0.005*\"violenc\"\n",
            "\n",
            "Score: 0.01250272337347269\t \n",
            "Topic: 0.009*\"guilti\" + 0.008*\"turnbul\" + 0.007*\"elect\" + 0.007*\"sexual\" + 0.006*\"plead\" + 0.006*\"liber\" + 0.006*\"abus\" + 0.006*\"assault\" + 0.005*\"commiss\" + 0.005*\"insid\"\n",
            "\n",
            "Score: 0.012502199970185757\t \n",
            "Topic: 0.009*\"tuesday\" + 0.007*\"care\" + 0.007*\"korea\" + 0.007*\"morrison\" + 0.006*\"scott\" + 0.006*\"john\" + 0.006*\"age\" + 0.006*\"say\" + 0.005*\"north\" + 0.005*\"hong\"\n",
            "\n",
            "Score: 0.012501862831413746\t \n",
            "Topic: 0.018*\"countri\" + 0.014*\"hour\" + 0.008*\"thursday\" + 0.007*\"final\" + 0.007*\"juli\" + 0.006*\"australia\" + 0.005*\"ash\" + 0.005*\"grand\" + 0.004*\"shark\" + 0.004*\"cricket\"\n",
            "\n",
            "Score: 0.0125014903023839\t \n",
            "Topic: 0.008*\"monday\" + 0.007*\"cattl\" + 0.006*\"septemb\" + 0.006*\"festiv\" + 0.006*\"outback\" + 0.005*\"cancer\" + 0.004*\"firefight\" + 0.004*\"music\" + 0.004*\"hobart\" + 0.004*\"solar\"\n",
            "\n",
            "Score: 0.012501174584031105\t \n",
            "Topic: 0.027*\"trump\" + 0.009*\"climat\" + 0.008*\"grandstand\" + 0.006*\"june\" + 0.005*\"brief\" + 0.005*\"chang\" + 0.004*\"creek\" + 0.004*\"univers\" + 0.004*\"johnson\" + 0.004*\"financ\"\n",
            "\n",
            "Score: 0.012500707991421223\t \n",
            "Topic: 0.016*\"crash\" + 0.012*\"kill\" + 0.012*\"polic\" + 0.009*\"dead\" + 0.008*\"shoot\" + 0.008*\"driver\" + 0.007*\"death\" + 0.007*\"michael\" + 0.007*\"fatal\" + 0.006*\"attack\"\n",
            "\n",
            "Score: 0.012500690296292305\t \n",
            "Topic: 0.012*\"murder\" + 0.012*\"drum\" + 0.011*\"charg\" + 0.008*\"court\" + 0.008*\"woman\" + 0.008*\"polic\" + 0.007*\"search\" + 0.007*\"miss\" + 0.007*\"accus\" + 0.006*\"mental\"\n"
          ],
          "name": "stdout"
        }
      ]
    },
    {
      "cell_type": "code",
      "metadata": {
        "id": "yFMINqG4btnZ",
        "colab_type": "code",
        "colab": {
          "base_uri": "https://localhost:8080/",
          "height": 187
        },
        "outputId": "88e676f4-31cc-484b-c13f-431976eb030b"
      },
      "source": [
        "unseen_document = 'How a Pentagon deal became an identity crisis for Google'\n",
        "bow_vector = dictionary.doc2bow(preprocess(unseen_document))\n",
        "\n",
        "for index, score in sorted(lda_model[bow_vector], key=lambda tup: -1*tup[1]):\n",
        "    print(\"Score: {}\\t Topic: {}\".format(score, lda_model.print_topic(index, 5)))"
      ],
      "execution_count": 34,
      "outputs": [
        {
          "output_type": "stream",
          "text": [
            "Score: 0.3500000238418579\t Topic: 0.015*\"chang\" + 0.015*\"govern\" + 0.014*\"say\" + 0.013*\"tasmanian\" + 0.012*\"countri\"\n",
            "Score: 0.3499999940395355\t Topic: 0.039*\"trump\" + 0.019*\"elect\" + 0.015*\"tasmania\" + 0.013*\"fight\" + 0.012*\"speak\"\n",
            "Score: 0.18333329260349274\t Topic: 0.030*\"charg\" + 0.027*\"court\" + 0.025*\"murder\" + 0.020*\"woman\" + 0.019*\"news\"\n",
            "Score: 0.01666666753590107\t Topic: 0.030*\"australia\" + 0.020*\"home\" + 0.019*\"queensland\" + 0.016*\"world\" + 0.014*\"record\"\n",
            "Score: 0.01666666753590107\t Topic: 0.040*\"polic\" + 0.024*\"melbourn\" + 0.019*\"live\" + 0.017*\"death\" + 0.016*\"brisban\"\n",
            "Score: 0.01666666753590107\t Topic: 0.019*\"nation\" + 0.013*\"farmer\" + 0.013*\"plan\" + 0.012*\"rural\" + 0.012*\"health\"\n",
            "Score: 0.01666666753590107\t Topic: 0.025*\"south\" + 0.022*\"north\" + 0.021*\"coast\" + 0.016*\"adelaid\" + 0.015*\"power\"\n",
            "Score: 0.01666666753590107\t Topic: 0.025*\"kill\" + 0.025*\"attack\" + 0.023*\"report\" + 0.022*\"donald\" + 0.019*\"die\"\n",
            "Score: 0.01666666753590107\t Topic: 0.022*\"call\" + 0.022*\"canberra\" + 0.016*\"busi\" + 0.014*\"victoria\" + 0.014*\"farm\"\n",
            "Score: 0.01666666753590107\t Topic: 0.017*\"open\" + 0.016*\"australian\" + 0.015*\"final\" + 0.014*\"australia\" + 0.011*\"street\"\n"
          ],
          "name": "stdout"
        }
      ]
    }
  ]
}