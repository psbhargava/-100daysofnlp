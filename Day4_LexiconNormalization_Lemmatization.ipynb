{
  "nbformat": 4,
  "nbformat_minor": 0,
  "metadata": {
    "colab": {
      "name": "Day4_LexiconNormalization:Lemmatization.ipynb",
      "provenance": [],
      "collapsed_sections": [],
      "toc_visible": true,
      "mount_file_id": "1p-ALSbFrkxDLbY4q6mhVWyqDYqzc_u3-",
      "authorship_tag": "ABX9TyPj7nImJMxXo0HNg8piGbIE",
      "include_colab_link": true
    },
    "kernelspec": {
      "name": "python3",
      "display_name": "Python 3"
    },
    "accelerator": "GPU"
  },
  "cells": [
    {
      "cell_type": "markdown",
      "metadata": {
        "id": "view-in-github",
        "colab_type": "text"
      },
      "source": [
        "<a href=\"https://colab.research.google.com/github/psbhargava/100daysofnlp/blob/master/Day4_LexiconNormalization_Lemmatization.ipynb\" target=\"_parent\"><img src=\"https://colab.research.google.com/assets/colab-badge.svg\" alt=\"Open In Colab\"/></a>"
      ]
    },
    {
      "cell_type": "markdown",
      "metadata": {
        "id": "NQLxhEbL5CUY",
        "colab_type": "text"
      },
      "source": [
        "## Downloading Wordnet"
      ]
    },
    {
      "cell_type": "code",
      "metadata": {
        "id": "mLk98Xfl5BG8",
        "colab_type": "code",
        "outputId": "3f030271-b8a2-4f6d-95f7-942eac90e54e",
        "colab": {
          "base_uri": "https://localhost:8080/",
          "height": 109
        }
      },
      "source": [
        "import nltk\n",
        "nltk.download('punkt')\n",
        "nltk.download('wordnet')"
      ],
      "execution_count": 1,
      "outputs": [
        {
          "output_type": "stream",
          "text": [
            "[nltk_data] Downloading package punkt to /root/nltk_data...\n",
            "[nltk_data]   Unzipping tokenizers/punkt.zip.\n",
            "[nltk_data] Downloading package wordnet to /root/nltk_data...\n",
            "[nltk_data]   Unzipping corpora/wordnet.zip.\n"
          ],
          "name": "stdout"
        },
        {
          "output_type": "execute_result",
          "data": {
            "text/plain": [
              "True"
            ]
          },
          "metadata": {
            "tags": []
          },
          "execution_count": 1
        }
      ]
    },
    {
      "cell_type": "markdown",
      "metadata": {
        "id": "0EuWaN335LuJ",
        "colab_type": "text"
      },
      "source": [
        "## Wordnet Lemmatizer"
      ]
    },
    {
      "cell_type": "code",
      "metadata": {
        "id": "YBWgKH_Q5MuX",
        "colab_type": "code",
        "colab": {}
      },
      "source": [
        "from nltk.stem import WordNetLemmatizer \n",
        "lemmatizer = WordNetLemmatizer()"
      ],
      "execution_count": 0,
      "outputs": []
    },
    {
      "cell_type": "code",
      "metadata": {
        "id": "-LwZ7HID5Tdo",
        "colab_type": "code",
        "outputId": "f9166c51-ffba-4eed-f781-d286205bc20b",
        "colab": {
          "base_uri": "https://localhost:8080/",
          "height": 55
        }
      },
      "source": [
        "sentence = \"the boy's cars are different colors, best go went gone going run runs ran and running\"\n",
        "word_list = nltk.word_tokenize(sentence)\n",
        "print(word_list)"
      ],
      "execution_count": 3,
      "outputs": [
        {
          "output_type": "stream",
          "text": [
            "['the', 'boy', \"'s\", 'cars', 'are', 'different', 'colors', ',', 'best', 'go', 'went', 'gone', 'going', 'run', 'runs', 'ran', 'and', 'running']\n"
          ],
          "name": "stdout"
        }
      ]
    },
    {
      "cell_type": "code",
      "metadata": {
        "id": "ajuUKR4G5Xg-",
        "colab_type": "code",
        "outputId": "73978490-6bb1-4ac6-8e5f-f4fadecbfb1b",
        "colab": {
          "base_uri": "https://localhost:8080/",
          "height": 35
        }
      },
      "source": [
        "lemmatized_output = ' '.join([lemmatizer.lemmatize(w) for w in word_list])\n",
        "print(lemmatized_output)"
      ],
      "execution_count": 4,
      "outputs": [
        {
          "output_type": "stream",
          "text": [
            "the boy 's car are different color , best go went gone going run run ran and running\n"
          ],
          "name": "stdout"
        }
      ]
    },
    {
      "cell_type": "markdown",
      "metadata": {
        "id": "orGoNMxe9Ub5",
        "colab_type": "text"
      },
      "source": [
        "1.   run and runs came into same root word but ran and running did’nt.\n",
        "2.   go, went gone going were from same root word but unfortunately they were not lemmatize to root word."
      ]
    },
    {
      "cell_type": "markdown",
      "metadata": {
        "id": "OFABpxi15eD4",
        "colab_type": "text"
      },
      "source": [
        "## Spacy Lemmatizer"
      ]
    },
    {
      "cell_type": "code",
      "metadata": {
        "id": "eK6ADYsf5g6n",
        "colab_type": "code",
        "colab": {}
      },
      "source": [
        "import spacy\n",
        "nlp = spacy.load('en_core_web_sm', disable=['parser', 'ner'])"
      ],
      "execution_count": 0,
      "outputs": []
    },
    {
      "cell_type": "code",
      "metadata": {
        "id": "StuSeqKD5l9A",
        "colab_type": "code",
        "colab": {}
      },
      "source": [
        "sentence = \"the boy's cars are different colors, best go went gone going run runs ran and running\"\n",
        "doc = nlp(sentence)"
      ],
      "execution_count": 0,
      "outputs": []
    },
    {
      "cell_type": "code",
      "metadata": {
        "id": "ZLIMArZX5qJe",
        "colab_type": "code",
        "outputId": "7713d525-cffc-443b-ebea-1aecdfce17d4",
        "colab": {
          "base_uri": "https://localhost:8080/",
          "height": 35
        }
      },
      "source": [
        "lemma_output = \" \".join([token.lemma_ for token in doc])\n",
        "print(lemma_output)"
      ],
      "execution_count": 7,
      "outputs": [
        {
          "output_type": "stream",
          "text": [
            "the boy 's car be different color , good go go go go run run run and run\n"
          ],
          "name": "stdout"
        }
      ]
    }
  ]
}