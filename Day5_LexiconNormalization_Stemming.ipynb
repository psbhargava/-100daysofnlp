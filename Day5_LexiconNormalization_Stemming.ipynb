{
  "nbformat": 4,
  "nbformat_minor": 0,
  "metadata": {
    "colab": {
      "name": "Day5_LexiconNormalization:Stemming.ipynb",
      "provenance": [],
      "collapsed_sections": [],
      "toc_visible": true,
      "authorship_tag": "ABX9TyNLqX2ilXlkvX889NINylMt",
      "include_colab_link": true
    },
    "kernelspec": {
      "name": "python3",
      "display_name": "Python 3"
    }
  },
  "cells": [
    {
      "cell_type": "markdown",
      "metadata": {
        "id": "view-in-github",
        "colab_type": "text"
      },
      "source": [
        "<a href=\"https://colab.research.google.com/github/psbhargava/100daysofnlp/blob/master/Day5_LexiconNormalization_Stemming.ipynb\" target=\"_parent\"><img src=\"https://colab.research.google.com/assets/colab-badge.svg\" alt=\"Open In Colab\"/></a>"
      ]
    },
    {
      "cell_type": "markdown",
      "metadata": {
        "id": "qauv8AuzAIgp",
        "colab_type": "text"
      },
      "source": [
        "## For implementation purposes i have added 3 stemmers below"
      ]
    },
    {
      "cell_type": "markdown",
      "metadata": {
        "id": "VLyVGD0kAL43",
        "colab_type": "text"
      },
      "source": [
        "## Porter Stemmer"
      ]
    },
    {
      "cell_type": "code",
      "metadata": {
        "id": "T9J0TZhK_uBg",
        "colab_type": "code",
        "outputId": "9d1cff62-14c5-4abd-cd34-eae5b126319c",
        "colab": {
          "base_uri": "https://localhost:8080/",
          "height": 54
        }
      },
      "source": [
        "import nltk\n",
        "nltk.download('punkt')\n",
        "from nltk.stem.porter import *\n",
        "porterStemmer = PorterStemmer()"
      ],
      "execution_count": 1,
      "outputs": [
        {
          "output_type": "stream",
          "text": [
            "[nltk_data] Downloading package punkt to /root/nltk_data...\n",
            "[nltk_data]   Unzipping tokenizers/punkt.zip.\n"
          ],
          "name": "stdout"
        }
      ]
    },
    {
      "cell_type": "code",
      "metadata": {
        "id": "WXj9MHkRATy3",
        "colab_type": "code",
        "colab": {}
      },
      "source": [
        "sentence = \"Provision Maximum multiply owed caring on go gone going was this\"\n",
        "wordList = nltk.word_tokenize(sentence)"
      ],
      "execution_count": 0,
      "outputs": []
    },
    {
      "cell_type": "code",
      "metadata": {
        "id": "fhcz-gvvAaTQ",
        "colab_type": "code",
        "outputId": "8d4c8d4b-b950-4201-b7bd-1c312bc4f66d",
        "colab": {
          "base_uri": "https://localhost:8080/",
          "height": 35
        }
      },
      "source": [
        "stemWords = [porterStemmer.stem(word) for word in wordList]\n",
        "print(' '.join(stemWords))"
      ],
      "execution_count": 3,
      "outputs": [
        {
          "output_type": "stream",
          "text": [
            "provis maximum multipli owe care on go gone go wa thi\n"
          ],
          "name": "stdout"
        }
      ]
    },
    {
      "cell_type": "markdown",
      "metadata": {
        "id": "zX5e3CfIAf_H",
        "colab_type": "text"
      },
      "source": [
        "## SnowBall Stemmer (English Stemmer or Porter2 Stemmer)"
      ]
    },
    {
      "cell_type": "code",
      "metadata": {
        "id": "_WhcJdulAih3",
        "colab_type": "code",
        "colab": {}
      },
      "source": [
        "from nltk.stem.snowball import SnowballStemmer\n",
        "snowBallStemmer = SnowballStemmer(\"english\")"
      ],
      "execution_count": 0,
      "outputs": []
    },
    {
      "cell_type": "code",
      "metadata": {
        "id": "B4gAsLYsAqLe",
        "colab_type": "code",
        "colab": {}
      },
      "source": [
        "sentence = \"Provision Maximum multiply owed caring on go gone going was this\"\n",
        "wordList = nltk.word_tokenize(sentence)"
      ],
      "execution_count": 0,
      "outputs": []
    },
    {
      "cell_type": "code",
      "metadata": {
        "id": "QoKOOa0aAsQ0",
        "colab_type": "code",
        "outputId": "bd503a6c-ae3a-48aa-8cde-729ba72f9784",
        "colab": {
          "base_uri": "https://localhost:8080/",
          "height": 35
        }
      },
      "source": [
        "stemWords = [snowBallStemmer.stem(word) for word in wordList]\n",
        "print(' '.join(stemWords))"
      ],
      "execution_count": 6,
      "outputs": [
        {
          "output_type": "stream",
          "text": [
            "provis maximum multipli owe care on go gone go was this\n"
          ],
          "name": "stdout"
        }
      ]
    },
    {
      "cell_type": "markdown",
      "metadata": {
        "id": "tPQE4T4pAx14",
        "colab_type": "text"
      },
      "source": [
        "## Lancaster Stemmer"
      ]
    },
    {
      "cell_type": "code",
      "metadata": {
        "id": "Xhpa-DQgA2QW",
        "colab_type": "code",
        "colab": {}
      },
      "source": [
        "from nltk.stem.lancaster import *\n",
        "lancasterStemmer = LancasterStemmer()"
      ],
      "execution_count": 0,
      "outputs": []
    },
    {
      "cell_type": "code",
      "metadata": {
        "id": "d3AtLeEKA8MY",
        "colab_type": "code",
        "colab": {}
      },
      "source": [
        "sentence = \"Provision Maximum multiply owed caring on go gone going was this\"\n",
        "wordList = nltk.word_tokenize(sentence)"
      ],
      "execution_count": 0,
      "outputs": []
    },
    {
      "cell_type": "code",
      "metadata": {
        "id": "PcMX9MTLA-KY",
        "colab_type": "code",
        "outputId": "d9eda0dd-e3c4-476e-c4e0-94396266b030",
        "colab": {
          "base_uri": "https://localhost:8080/",
          "height": 35
        }
      },
      "source": [
        "stemWords = [lancasterStemmer.stem(word) for word in wordList]\n",
        "print(' '.join(stemWords))"
      ],
      "execution_count": 9,
      "outputs": [
        {
          "output_type": "stream",
          "text": [
            "provid maxim multiply ow car on go gon going was thi\n"
          ],
          "name": "stdout"
        }
      ]
    }
  ]
}