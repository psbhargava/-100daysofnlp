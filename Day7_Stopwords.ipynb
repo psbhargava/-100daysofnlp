{
  "nbformat": 4,
  "nbformat_minor": 0,
  "metadata": {
    "colab": {
      "name": "Day7_Stopwords.ipynb",
      "provenance": [],
      "collapsed_sections": [],
      "toc_visible": true,
      "authorship_tag": "ABX9TyM2ssjw7BdBpRcF0PXbchbD",
      "include_colab_link": true
    },
    "kernelspec": {
      "name": "python3",
      "display_name": "Python 3"
    }
  },
  "cells": [
    {
      "cell_type": "markdown",
      "metadata": {
        "id": "view-in-github",
        "colab_type": "text"
      },
      "source": [
        "<a href=\"https://colab.research.google.com/github/psbhargava/100daysofnlp/blob/master/Day7_Stopwords.ipynb\" target=\"_parent\"><img src=\"https://colab.research.google.com/assets/colab-badge.svg\" alt=\"Open In Colab\"/></a>"
      ]
    },
    {
      "cell_type": "markdown",
      "metadata": {
        "id": "dYYc5uXUEJF2",
        "colab_type": "text"
      },
      "source": [
        "## StopWords from SpaCy Library"
      ]
    },
    {
      "cell_type": "code",
      "metadata": {
        "id": "YJfTCa7_DpFR",
        "colab_type": "code",
        "outputId": "c6c78b84-15ad-464e-89c2-e2bd0ff52e34",
        "colab": {
          "base_uri": "https://localhost:8080/",
          "height": 74
        }
      },
      "source": [
        "import spacy \n",
        "from spacy.lang.en.stop_words import STOP_WORDS\n",
        "print(len(STOP_WORDS))\n",
        "print(STOP_WORDS)"
      ],
      "execution_count": 1,
      "outputs": [
        {
          "output_type": "stream",
          "text": [
            "326\n",
            "{'anyway', 'seemed', 'fifteen', 'hence', 'yet', 'alone', 'any', 'however', '’ll', 'than', \"'m\", 'yours', 'while', 'moreover', 'move', 'ourselves', 'but', 'various', 'here', 'say', 'the', 'up', 'once', 'each', 'six', 'to', 'only', 'formerly', 'thus', 'another', 'a', 'whose', 'you', 'used', 'why', 'even', 'no', 'after', 'mine', 'several', 'own', 'almost', 'has', 'seem', 'rather', 'therein', 'nor', 'sometimes', 'wherever', 'all', 'forty', 'was', '‘re', 'over', '‘ll', 'around', 'will', 'five', 'show', 'though', 'ca', 'empty', 'keep', 'of', 'such', 'nine', 'nobody', 'anyone', 'throughout', 'is', 'i', \"'d\", 'some', 'without', '‘ve', 'together', 'n’t', 'it', 'with', 'my', 'other', 'am', 'somehow', '’ve', 'hers', 'could', 'whoever', 'whole', 'must', 'latterly', 'those', 'three', 'became', 'from', \"n't\", 'if', '’s', 'before', 'does', 'former', 'whenever', 'full', 'above', 'nevertheless', 'also', '’d', 'ten', 'few', 'in', 'should', 'back', 'into', 'thence', 'towards', 'just', 'per', 'he', 'well', 'anything', 'meanwhile', 'most', 'they', 'how', 'by', 'yourselves', 'none', 'thereafter', 'hundred', 'because', 'often', 'two', 'his', 'thru', 'we', 'against', 'would', 'eight', 'becoming', 'becomes', 'first', 'upon', 'had', 'someone', 'been', \"'s\", 'both', 'between', 'at', 'everyone', 'ours', 'then', '‘s', 'cannot', 'within', 'third', 'except', 'were', 'else', 'call', 'toward', 'perhaps', 'since', '’re', 'herein', 'either', 'bottom', 'really', 'off', 'unless', 'name', 'thereupon', 'our', 'somewhere', 'which', 'behind', 'their', 'via', '‘m', 'below', 'eleven', 'do', 'did', 'otherwise', 'and', 'noone', 'onto', 'still', 'can', 'your', \"'ve\", 'amount', 'never', 'themselves', 'too', 'every', 'although', 'amongst', 'are', 'more', 'seems', \"'re\", 'there', 'among', 'thereby', 'give', 'him', 'beforehand', 'whither', 'already', 'part', 'whereafter', 'again', 'beside', 'ever', 'get', 'afterwards', 'have', 'less', 'made', 'may', 'same', 'what', 'now', 'as', 'during', 'an', 'much', 'quite', 'not', 'on', 'everything', 'others', 'become', 'further', 'therefore', 'her', 'these', 'top', 'please', 'four', 'nothing', 'one', 'side', 'twenty', 'something', 'many', 'whether', 'besides', 'across', 'beyond', 'least', 'under', 'enough', 'hereafter', 'out', 'anyhow', 'down', 'always', 'hereby', 'put', 'when', '‘d', 'for', 'namely', 'herself', 'see', 'done', 'this', 'its', 'me', 'itself', 'whereas', 'through', 'next', 'sometime', 'hereupon', 'twelve', 'whatever', 'being', 'latter', 'who', 'along', 'whom', 'go', 'might', 'indeed', 'where', \"'ll\", 'anywhere', 'whence', 'whereby', 'neither', 'mostly', 'myself', 'front', 'serious', 'she', 'due', 'take', 'doing', 'wherein', 'seeming', 'or', '’m', 'us', 're', 'everywhere', 'elsewhere', 'make', 'nowhere', 'them', 'about', 'whereupon', 'regarding', 'last', 'that', 'be', 'fifty', 'sixty', 'until', 'himself', 'very', 'yourself', 'n‘t', 'so', 'using'}\n"
          ],
          "name": "stdout"
        }
      ]
    },
    {
      "cell_type": "markdown",
      "metadata": {
        "id": "BlQ3_lfjERGg",
        "colab_type": "text"
      },
      "source": [
        "## Removing Stop Words from a sentence by SpaCy"
      ]
    },
    {
      "cell_type": "code",
      "metadata": {
        "id": "UROrz72TENzY",
        "colab_type": "code",
        "outputId": "db70b3ce-ddf0-4cd0-ba01-b062fdafbdc7",
        "colab": {
          "base_uri": "https://localhost:8080/",
          "height": 35
        }
      },
      "source": [
        "nlp = spacy.load('en_core_web_sm')\n",
        "sentence = nlp(\"We will go to movie after the dinner\")\n",
        "print(sentence)"
      ],
      "execution_count": 2,
      "outputs": [
        {
          "output_type": "stream",
          "text": [
            "We will go to movie after the dinner\n"
          ],
          "name": "stdout"
        }
      ]
    },
    {
      "cell_type": "code",
      "metadata": {
        "id": "6in1Px-uEV1H",
        "colab_type": "code",
        "outputId": "19cf1455-0f08-421c-b7fe-97df59f340a3",
        "colab": {
          "base_uri": "https://localhost:8080/",
          "height": 35
        }
      },
      "source": [
        "notStopWords = [notStopWords.text for notStopWords in sentence if not notStopWords.is_stop]\n",
        "print(notStopWords)"
      ],
      "execution_count": 3,
      "outputs": [
        {
          "output_type": "stream",
          "text": [
            "['movie', 'dinner']\n"
          ],
          "name": "stdout"
        }
      ]
    },
    {
      "cell_type": "code",
      "metadata": {
        "id": "A1uY1bsNEZJn",
        "colab_type": "code",
        "outputId": "34550e16-febb-4f53-d82c-16ce18eaa3aa",
        "colab": {
          "base_uri": "https://localhost:8080/",
          "height": 35
        }
      },
      "source": [
        "stopWords = [stopWords.text for stopWords in sentence if stopWords.is_stop]\n",
        "print(stopWords)"
      ],
      "execution_count": 4,
      "outputs": [
        {
          "output_type": "stream",
          "text": [
            "['We', 'will', 'go', 'to', 'after', 'the']\n"
          ],
          "name": "stdout"
        }
      ]
    },
    {
      "cell_type": "markdown",
      "metadata": {
        "id": "kSCNlWmKEun0",
        "colab_type": "text"
      },
      "source": [
        "## Adding a list of new StopWords to SpaCy StopWord List"
      ]
    },
    {
      "cell_type": "code",
      "metadata": {
        "colab_type": "code",
        "outputId": "3f68b017-ae76-41e0-a6ee-49922abf68d7",
        "id": "gbX0_SHkF7tP",
        "colab": {
          "base_uri": "https://localhost:8080/",
          "height": 74
        }
      },
      "source": [
        "from spacy.lang.en.stop_words import STOP_WORDS\n",
        "STOP_WORDS |= {\"Test_One\",\"Test_Two\"}\n",
        "\n",
        "print(len(STOP_WORDS))\n",
        "print(STOP_WORDS)"
      ],
      "execution_count": 5,
      "outputs": [
        {
          "output_type": "stream",
          "text": [
            "328\n",
            "{'anyway', 'seemed', 'fifteen', 'hence', 'yet', 'alone', 'any', 'however', '’ll', 'than', \"'m\", 'yours', 'while', 'moreover', 'move', 'ourselves', 'but', 'various', 'here', 'say', 'the', 'up', 'once', 'each', 'six', 'to', 'only', 'formerly', 'thus', 'another', 'a', 'whose', 'you', 'used', 'why', 'even', 'no', 'after', 'mine', 'several', 'own', 'almost', 'has', 'seem', 'rather', 'therein', 'nor', 'sometimes', 'wherever', 'all', 'forty', 'was', '‘re', 'over', '‘ll', 'around', 'will', 'five', 'show', 'though', 'ca', 'empty', 'keep', 'of', 'such', 'nine', 'nobody', 'anyone', 'throughout', 'is', 'i', \"'d\", 'some', 'without', '‘ve', 'together', 'n’t', 'it', 'with', 'my', 'other', 'am', 'somehow', '’ve', 'Test_Two', 'hers', 'could', 'whoever', 'whole', 'must', 'latterly', 'those', 'three', 'became', 'from', \"n't\", 'if', '’s', 'before', 'does', 'former', 'whenever', 'full', 'above', 'nevertheless', 'also', '’d', 'ten', 'few', 'in', 'should', 'back', 'into', 'thence', 'towards', 'just', 'per', 'he', 'well', 'anything', 'meanwhile', 'most', 'they', 'how', 'by', 'yourselves', 'none', 'thereafter', 'hundred', 'because', 'often', 'two', 'his', 'thru', 'we', 'against', 'would', 'eight', 'becoming', 'becomes', 'first', 'upon', 'had', 'someone', 'been', \"'s\", 'both', 'between', 'at', 'everyone', 'ours', 'then', '‘s', 'cannot', 'within', 'third', 'except', 'were', 'else', 'call', 'toward', 'perhaps', 'since', '’re', 'herein', 'either', 'bottom', 'really', 'off', 'unless', 'name', 'thereupon', 'our', 'somewhere', 'which', 'Test_One', 'behind', 'their', 'via', '‘m', 'below', 'eleven', 'do', 'did', 'otherwise', 'and', 'noone', 'onto', 'still', 'can', 'your', \"'ve\", 'amount', 'never', 'themselves', 'too', 'every', 'although', 'amongst', 'are', 'more', 'seems', \"'re\", 'there', 'among', 'thereby', 'give', 'him', 'beforehand', 'whither', 'already', 'part', 'whereafter', 'again', 'beside', 'ever', 'get', 'afterwards', 'have', 'less', 'made', 'may', 'same', 'what', 'now', 'as', 'during', 'an', 'much', 'quite', 'not', 'on', 'everything', 'others', 'become', 'further', 'therefore', 'her', 'these', 'top', 'please', 'four', 'nothing', 'one', 'side', 'twenty', 'something', 'many', 'whether', 'besides', 'across', 'beyond', 'least', 'under', 'enough', 'hereafter', 'out', 'anyhow', 'down', 'always', 'hereby', 'put', 'when', '‘d', 'for', 'namely', 'herself', 'see', 'done', 'this', 'its', 'me', 'itself', 'whereas', 'through', 'next', 'sometime', 'hereupon', 'twelve', 'whatever', 'being', 'latter', 'who', 'along', 'whom', 'go', 'might', 'indeed', 'where', \"'ll\", 'anywhere', 'whence', 'whereby', 'neither', 'mostly', 'myself', 'front', 'serious', 'she', 'due', 'take', 'doing', 'wherein', 'seeming', 'or', '’m', 'us', 're', 'everywhere', 'elsewhere', 'make', 'nowhere', 'them', 'about', 'whereupon', 'regarding', 'last', 'that', 'be', 'fifty', 'sixty', 'until', 'himself', 'very', 'yourself', 'n‘t', 'so', 'using'}\n"
          ],
          "name": "stdout"
        }
      ]
    },
    {
      "cell_type": "markdown",
      "metadata": {
        "colab_type": "text",
        "id": "yqS3jpvCF6C5"
      },
      "source": [
        "## Removing a list of new StopWords from SpaCy StopWord List"
      ]
    },
    {
      "cell_type": "code",
      "metadata": {
        "id": "4UC76UmJExz9",
        "colab_type": "code",
        "outputId": "61635bc9-28e1-4d64-9e7a-9ddce973c4f3",
        "colab": {
          "base_uri": "https://localhost:8080/",
          "height": 74
        }
      },
      "source": [
        "from spacy.lang.en.stop_words import STOP_WORDS\n",
        "STOP_WORDS -= {\"Test_One\",\"Test_Two\"}\n",
        "\n",
        "print(len(STOP_WORDS))\n",
        "print(STOP_WORDS)"
      ],
      "execution_count": 6,
      "outputs": [
        {
          "output_type": "stream",
          "text": [
            "326\n",
            "{'anyway', 'seemed', 'fifteen', 'hence', 'yet', 'alone', 'any', 'however', '’ll', 'than', \"'m\", 'yours', 'while', 'moreover', 'move', 'ourselves', 'but', 'various', 'here', 'say', 'the', 'up', 'once', 'each', 'six', 'to', 'only', 'formerly', 'thus', 'another', 'a', 'whose', 'you', 'used', 'why', 'even', 'no', 'after', 'mine', 'several', 'own', 'almost', 'has', 'seem', 'rather', 'therein', 'nor', 'sometimes', 'wherever', 'all', 'forty', 'was', '‘re', 'over', '‘ll', 'around', 'will', 'five', 'show', 'though', 'ca', 'empty', 'keep', 'of', 'such', 'nine', 'nobody', 'anyone', 'throughout', 'is', 'i', \"'d\", 'some', 'without', '‘ve', 'together', 'n’t', 'it', 'with', 'my', 'other', 'am', 'somehow', '’ve', 'hers', 'could', 'whoever', 'whole', 'must', 'latterly', 'those', 'three', 'became', 'from', \"n't\", 'if', '’s', 'before', 'does', 'former', 'whenever', 'full', 'above', 'nevertheless', 'also', '’d', 'ten', 'few', 'in', 'should', 'back', 'into', 'thence', 'towards', 'just', 'per', 'he', 'well', 'anything', 'meanwhile', 'most', 'they', 'how', 'by', 'yourselves', 'none', 'thereafter', 'hundred', 'because', 'often', 'two', 'his', 'thru', 'we', 'against', 'would', 'eight', 'becoming', 'becomes', 'first', 'upon', 'had', 'someone', 'been', \"'s\", 'both', 'between', 'at', 'everyone', 'ours', 'then', '‘s', 'cannot', 'within', 'third', 'except', 'were', 'else', 'call', 'toward', 'perhaps', 'since', '’re', 'herein', 'either', 'bottom', 'really', 'off', 'unless', 'name', 'thereupon', 'our', 'somewhere', 'which', 'behind', 'their', 'via', '‘m', 'below', 'eleven', 'do', 'did', 'otherwise', 'and', 'noone', 'onto', 'still', 'can', 'your', \"'ve\", 'amount', 'never', 'themselves', 'too', 'every', 'although', 'amongst', 'are', 'more', 'seems', \"'re\", 'there', 'among', 'thereby', 'give', 'him', 'beforehand', 'whither', 'already', 'part', 'whereafter', 'again', 'beside', 'ever', 'get', 'afterwards', 'have', 'less', 'made', 'may', 'same', 'what', 'now', 'as', 'during', 'an', 'much', 'quite', 'not', 'on', 'everything', 'others', 'become', 'further', 'therefore', 'her', 'these', 'top', 'please', 'four', 'nothing', 'one', 'side', 'twenty', 'something', 'many', 'whether', 'besides', 'across', 'beyond', 'least', 'under', 'enough', 'hereafter', 'out', 'anyhow', 'down', 'always', 'hereby', 'put', 'when', '‘d', 'for', 'namely', 'herself', 'see', 'done', 'this', 'its', 'me', 'itself', 'whereas', 'through', 'next', 'sometime', 'hereupon', 'twelve', 'whatever', 'being', 'latter', 'who', 'along', 'whom', 'go', 'might', 'indeed', 'where', \"'ll\", 'anywhere', 'whence', 'whereby', 'neither', 'mostly', 'myself', 'front', 'serious', 'she', 'due', 'take', 'doing', 'wherein', 'seeming', 'or', '’m', 'us', 're', 'everywhere', 'elsewhere', 'make', 'nowhere', 'them', 'about', 'whereupon', 'regarding', 'last', 'that', 'be', 'fifty', 'sixty', 'until', 'himself', 'very', 'yourself', 'n‘t', 'so', 'using'}\n"
          ],
          "name": "stdout"
        }
      ]
    },
    {
      "cell_type": "markdown",
      "metadata": {
        "id": "ZcppnGLME4mY",
        "colab_type": "text"
      },
      "source": [
        "## StopWords from NLTK Library"
      ]
    },
    {
      "cell_type": "code",
      "metadata": {
        "id": "oW-5L-AyE4JE",
        "colab_type": "code",
        "outputId": "30de8621-270b-4593-dc5e-f256ec907eab",
        "colab": {
          "base_uri": "https://localhost:8080/",
          "height": 109
        }
      },
      "source": [
        "import nltk\n",
        "nltk.download('stopwords')\n",
        "nltk.download('punkt')"
      ],
      "execution_count": 7,
      "outputs": [
        {
          "output_type": "stream",
          "text": [
            "[nltk_data] Downloading package stopwords to /root/nltk_data...\n",
            "[nltk_data]   Unzipping corpora/stopwords.zip.\n",
            "[nltk_data] Downloading package punkt to /root/nltk_data...\n",
            "[nltk_data]   Unzipping tokenizers/punkt.zip.\n"
          ],
          "name": "stdout"
        },
        {
          "output_type": "execute_result",
          "data": {
            "text/plain": [
              "True"
            ]
          },
          "metadata": {
            "tags": []
          },
          "execution_count": 7
        }
      ]
    },
    {
      "cell_type": "code",
      "metadata": {
        "id": "6Etz7dKwFUps",
        "colab_type": "code",
        "outputId": "ca25e7b6-ba96-470e-9247-8e51da6f2142",
        "colab": {
          "base_uri": "https://localhost:8080/",
          "height": 74
        }
      },
      "source": [
        "STOP_WORDS = nltk.corpus.stopwords.words('english')\n",
        "print(len(STOP_WORDS))\n",
        "print(STOP_WORDS)"
      ],
      "execution_count": 8,
      "outputs": [
        {
          "output_type": "stream",
          "text": [
            "179\n",
            "['i', 'me', 'my', 'myself', 'we', 'our', 'ours', 'ourselves', 'you', \"you're\", \"you've\", \"you'll\", \"you'd\", 'your', 'yours', 'yourself', 'yourselves', 'he', 'him', 'his', 'himself', 'she', \"she's\", 'her', 'hers', 'herself', 'it', \"it's\", 'its', 'itself', 'they', 'them', 'their', 'theirs', 'themselves', 'what', 'which', 'who', 'whom', 'this', 'that', \"that'll\", 'these', 'those', 'am', 'is', 'are', 'was', 'were', 'be', 'been', 'being', 'have', 'has', 'had', 'having', 'do', 'does', 'did', 'doing', 'a', 'an', 'the', 'and', 'but', 'if', 'or', 'because', 'as', 'until', 'while', 'of', 'at', 'by', 'for', 'with', 'about', 'against', 'between', 'into', 'through', 'during', 'before', 'after', 'above', 'below', 'to', 'from', 'up', 'down', 'in', 'out', 'on', 'off', 'over', 'under', 'again', 'further', 'then', 'once', 'here', 'there', 'when', 'where', 'why', 'how', 'all', 'any', 'both', 'each', 'few', 'more', 'most', 'other', 'some', 'such', 'no', 'nor', 'not', 'only', 'own', 'same', 'so', 'than', 'too', 'very', 's', 't', 'can', 'will', 'just', 'don', \"don't\", 'should', \"should've\", 'now', 'd', 'll', 'm', 'o', 're', 've', 'y', 'ain', 'aren', \"aren't\", 'couldn', \"couldn't\", 'didn', \"didn't\", 'doesn', \"doesn't\", 'hadn', \"hadn't\", 'hasn', \"hasn't\", 'haven', \"haven't\", 'isn', \"isn't\", 'ma', 'mightn', \"mightn't\", 'mustn', \"mustn't\", 'needn', \"needn't\", 'shan', \"shan't\", 'shouldn', \"shouldn't\", 'wasn', \"wasn't\", 'weren', \"weren't\", 'won', \"won't\", 'wouldn', \"wouldn't\"]\n"
          ],
          "name": "stdout"
        }
      ]
    },
    {
      "cell_type": "markdown",
      "metadata": {
        "id": "k3U_USIUE_Zt",
        "colab_type": "text"
      },
      "source": [
        "## Removing Stop Words from a sentence by NLTK"
      ]
    },
    {
      "cell_type": "code",
      "metadata": {
        "id": "xCfkwaAQE8h-",
        "colab_type": "code",
        "outputId": "bb6833bb-b1c3-45a6-bba5-0c3ca05cb61e",
        "colab": {
          "base_uri": "https://localhost:8080/",
          "height": 35
        }
      },
      "source": [
        "sentence = \"We will go to the movie after the dinner\"\n",
        "print(sentence)"
      ],
      "execution_count": 9,
      "outputs": [
        {
          "output_type": "stream",
          "text": [
            "We will go to the movie after the dinner\n"
          ],
          "name": "stdout"
        }
      ]
    },
    {
      "cell_type": "code",
      "metadata": {
        "id": "FkdNEq_aFL7b",
        "colab_type": "code",
        "outputId": "0545e70e-f93a-4522-e771-9328cb7e94cd",
        "colab": {
          "base_uri": "https://localhost:8080/",
          "height": 35
        }
      },
      "source": [
        "sentence = nltk.tokenize.word_tokenize(sentence)\n",
        "print(sentence)"
      ],
      "execution_count": 10,
      "outputs": [
        {
          "output_type": "stream",
          "text": [
            "['We', 'will', 'go', 'to', 'the', 'movie', 'after', 'the', 'dinner']\n"
          ],
          "name": "stdout"
        }
      ]
    },
    {
      "cell_type": "code",
      "metadata": {
        "id": "2Jw4ebDaFPJE",
        "colab_type": "code",
        "outputId": "e1b5a52d-6852-4311-fdaa-5598b0d84046",
        "colab": {
          "base_uri": "https://localhost:8080/",
          "height": 35
        }
      },
      "source": [
        "notStopWords = [notStopWords for notStopWords in sentence if not notStopWords in STOP_WORDS]\n",
        "print(notStopWords)"
      ],
      "execution_count": 11,
      "outputs": [
        {
          "output_type": "stream",
          "text": [
            "['We', 'go', 'movie', 'dinner']\n"
          ],
          "name": "stdout"
        }
      ]
    },
    {
      "cell_type": "code",
      "metadata": {
        "id": "gA7akWu9FYyg",
        "colab_type": "code",
        "outputId": "25cc856d-d032-49ee-d9c4-5c43b6fddc26",
        "colab": {
          "base_uri": "https://localhost:8080/",
          "height": 35
        }
      },
      "source": [
        "stopWords = [stopWords for stopWords in sentence if stopWords in STOP_WORDS]\n",
        "print(stopWords)"
      ],
      "execution_count": 12,
      "outputs": [
        {
          "output_type": "stream",
          "text": [
            "['will', 'to', 'the', 'after', 'the']\n"
          ],
          "name": "stdout"
        }
      ]
    },
    {
      "cell_type": "markdown",
      "metadata": {
        "id": "sritcC__G6GU",
        "colab_type": "text"
      },
      "source": [
        "## Adding a list of new StopWords in NLTK StopWord List"
      ]
    },
    {
      "cell_type": "code",
      "metadata": {
        "id": "E8qDGvyMG-Da",
        "colab_type": "code",
        "outputId": "a68f7ce4-b8de-4865-ba46-413bc6eae396",
        "colab": {
          "base_uri": "https://localhost:8080/",
          "height": 74
        }
      },
      "source": [
        "STOP_WORDS = nltk.corpus.stopwords.words('english')\n",
        "\n",
        "newStopWords = ['Test_One','Test_Two']\n",
        "STOP_WORDS.extend(newStopWords)\n",
        "\n",
        "print(len(STOP_WORDS))\n",
        "print(STOP_WORDS)"
      ],
      "execution_count": 13,
      "outputs": [
        {
          "output_type": "stream",
          "text": [
            "181\n",
            "['i', 'me', 'my', 'myself', 'we', 'our', 'ours', 'ourselves', 'you', \"you're\", \"you've\", \"you'll\", \"you'd\", 'your', 'yours', 'yourself', 'yourselves', 'he', 'him', 'his', 'himself', 'she', \"she's\", 'her', 'hers', 'herself', 'it', \"it's\", 'its', 'itself', 'they', 'them', 'their', 'theirs', 'themselves', 'what', 'which', 'who', 'whom', 'this', 'that', \"that'll\", 'these', 'those', 'am', 'is', 'are', 'was', 'were', 'be', 'been', 'being', 'have', 'has', 'had', 'having', 'do', 'does', 'did', 'doing', 'a', 'an', 'the', 'and', 'but', 'if', 'or', 'because', 'as', 'until', 'while', 'of', 'at', 'by', 'for', 'with', 'about', 'against', 'between', 'into', 'through', 'during', 'before', 'after', 'above', 'below', 'to', 'from', 'up', 'down', 'in', 'out', 'on', 'off', 'over', 'under', 'again', 'further', 'then', 'once', 'here', 'there', 'when', 'where', 'why', 'how', 'all', 'any', 'both', 'each', 'few', 'more', 'most', 'other', 'some', 'such', 'no', 'nor', 'not', 'only', 'own', 'same', 'so', 'than', 'too', 'very', 's', 't', 'can', 'will', 'just', 'don', \"don't\", 'should', \"should've\", 'now', 'd', 'll', 'm', 'o', 're', 've', 'y', 'ain', 'aren', \"aren't\", 'couldn', \"couldn't\", 'didn', \"didn't\", 'doesn', \"doesn't\", 'hadn', \"hadn't\", 'hasn', \"hasn't\", 'haven', \"haven't\", 'isn', \"isn't\", 'ma', 'mightn', \"mightn't\", 'mustn', \"mustn't\", 'needn', \"needn't\", 'shan', \"shan't\", 'shouldn', \"shouldn't\", 'wasn', \"wasn't\", 'weren', \"weren't\", 'won', \"won't\", 'wouldn', \"wouldn't\", 'Test_One', 'Test_Two']\n"
          ],
          "name": "stdout"
        }
      ]
    },
    {
      "cell_type": "markdown",
      "metadata": {
        "id": "0Pd401xwHDmM",
        "colab_type": "text"
      },
      "source": [
        "## Removing a list of new StopWords from NLTK StopWord List"
      ]
    },
    {
      "cell_type": "code",
      "metadata": {
        "id": "w25cReloHBDL",
        "colab_type": "code",
        "outputId": "77972aef-6a8b-4dc9-b569-3290f73ca6b3",
        "colab": {
          "base_uri": "https://localhost:8080/",
          "height": 74
        }
      },
      "source": [
        "STOP_WORDS = nltk.corpus.stopwords.words('english')\n",
        "\n",
        "newStopWords = ['Test_One','Test_Two']\n",
        "\n",
        "OldStopWords = [OldStopWords for OldStopWords in STOP_WORDS if OldStopWords not in newStopWords]\n",
        "\n",
        "print(len(STOP_WORDS))\n",
        "print(STOP_WORDS)"
      ],
      "execution_count": 14,
      "outputs": [
        {
          "output_type": "stream",
          "text": [
            "179\n",
            "['i', 'me', 'my', 'myself', 'we', 'our', 'ours', 'ourselves', 'you', \"you're\", \"you've\", \"you'll\", \"you'd\", 'your', 'yours', 'yourself', 'yourselves', 'he', 'him', 'his', 'himself', 'she', \"she's\", 'her', 'hers', 'herself', 'it', \"it's\", 'its', 'itself', 'they', 'them', 'their', 'theirs', 'themselves', 'what', 'which', 'who', 'whom', 'this', 'that', \"that'll\", 'these', 'those', 'am', 'is', 'are', 'was', 'were', 'be', 'been', 'being', 'have', 'has', 'had', 'having', 'do', 'does', 'did', 'doing', 'a', 'an', 'the', 'and', 'but', 'if', 'or', 'because', 'as', 'until', 'while', 'of', 'at', 'by', 'for', 'with', 'about', 'against', 'between', 'into', 'through', 'during', 'before', 'after', 'above', 'below', 'to', 'from', 'up', 'down', 'in', 'out', 'on', 'off', 'over', 'under', 'again', 'further', 'then', 'once', 'here', 'there', 'when', 'where', 'why', 'how', 'all', 'any', 'both', 'each', 'few', 'more', 'most', 'other', 'some', 'such', 'no', 'nor', 'not', 'only', 'own', 'same', 'so', 'than', 'too', 'very', 's', 't', 'can', 'will', 'just', 'don', \"don't\", 'should', \"should've\", 'now', 'd', 'll', 'm', 'o', 're', 've', 'y', 'ain', 'aren', \"aren't\", 'couldn', \"couldn't\", 'didn', \"didn't\", 'doesn', \"doesn't\", 'hadn', \"hadn't\", 'hasn', \"hasn't\", 'haven', \"haven't\", 'isn', \"isn't\", 'ma', 'mightn', \"mightn't\", 'mustn', \"mustn't\", 'needn', \"needn't\", 'shan', \"shan't\", 'shouldn', \"shouldn't\", 'wasn', \"wasn't\", 'weren', \"weren't\", 'won', \"won't\", 'wouldn', \"wouldn't\"]\n"
          ],
          "name": "stdout"
        }
      ]
    }
  ]
}