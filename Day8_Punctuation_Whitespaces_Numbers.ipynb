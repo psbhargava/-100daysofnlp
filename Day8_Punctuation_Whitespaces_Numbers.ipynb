{
  "nbformat": 4,
  "nbformat_minor": 0,
  "metadata": {
    "colab": {
      "name": "Day8_Punctuation_Whitespaces_Numbers",
      "provenance": [],
      "collapsed_sections": [],
      "toc_visible": true,
      "authorship_tag": "ABX9TyPmu3jC5+7pCmGusTdwJ54W",
      "include_colab_link": true
    },
    "kernelspec": {
      "name": "python3",
      "display_name": "Python 3"
    }
  },
  "cells": [
    {
      "cell_type": "markdown",
      "metadata": {
        "id": "view-in-github",
        "colab_type": "text"
      },
      "source": [
        "<a href=\"https://colab.research.google.com/github/psbhargava/100daysofnlp/blob/master/Day8_Punctuation_Whitespaces_Numbers.ipynb\" target=\"_parent\"><img src=\"https://colab.research.google.com/assets/colab-badge.svg\" alt=\"Open In Colab\"/></a>"
      ]
    },
    {
      "cell_type": "markdown",
      "metadata": {
        "id": "tn0KcULaWViS",
        "colab_type": "text"
      },
      "source": [
        "## Remove Punctuations"
      ]
    },
    {
      "cell_type": "markdown",
      "metadata": {
        "id": "F-gI_T8tWOi4",
        "colab_type": "text"
      },
      "source": [
        "The following code removes this set of symbols [!”#$%&’()*+,-./:;<=>?@[]^_`{|}~]:"
      ]
    },
    {
      "cell_type": "code",
      "metadata": {
        "id": "POJyS7X11Rtb",
        "colab_type": "code",
        "colab": {}
      },
      "source": [
        "def remove_punctuation(string): \n",
        "    # punctuation marks \n",
        "    punctuations = '''!()-[]{};:'\"\\,<>./?@#$%^&*_~'''\n",
        "    # traverse the given string and if any punctuation \n",
        "    # marks occur replace it with null \n",
        "    for x in string.lower(): \n",
        "        if x in punctuations: \n",
        "            string = string.replace(x, \"\") \n",
        "  \n",
        "    # Print string without punctuation \n",
        "    print(string) "
      ],
      "execution_count": 0,
      "outputs": []
    },
    {
      "cell_type": "code",
      "metadata": {
        "id": "4NZ7SqQ82qNJ",
        "colab_type": "code",
        "outputId": "6582592f-16cd-424e-e87b-317c3f876dc7",
        "colab": {
          "base_uri": "https://localhost:8080/",
          "height": 35
        }
      },
      "source": [
        "input_str = \"Hey, did you know that the summer break is coming? Amazing right !! It's only 5 more days !!\"\n",
        "remove_punctuation(input_str) "
      ],
      "execution_count": 2,
      "outputs": [
        {
          "output_type": "stream",
          "text": [
            "Hey did you know that the summer break is coming Amazing right  Its only 5 more days \n"
          ],
          "name": "stdout"
        }
      ]
    },
    {
      "cell_type": "markdown",
      "metadata": {
        "id": "DgXPBvS92w11",
        "colab_type": "text"
      },
      "source": [
        "## Remove Whitespaces\n",
        "We can use the join and split function to remove all the white spaces in a string."
      ]
    },
    {
      "cell_type": "code",
      "metadata": {
        "id": "Od9X9i772x-q",
        "colab_type": "code",
        "colab": {}
      },
      "source": [
        "# remove whitespace from text \n",
        "def remove_whitespace(text): \n",
        "    return  \" \".join(text.split()) "
      ],
      "execution_count": 0,
      "outputs": []
    },
    {
      "cell_type": "code",
      "metadata": {
        "id": "1wz4Ebow20jr",
        "colab_type": "code",
        "outputId": "6add6ad7-f5d7-4ba9-a295-4d4779392242",
        "colab": {
          "base_uri": "https://localhost:8080/",
          "height": 35
        }
      },
      "source": [
        "input_str = \"           we don't           need   the given                        questions\"\n",
        "remove_whitespace(input_str) "
      ],
      "execution_count": 4,
      "outputs": [
        {
          "output_type": "execute_result",
          "data": {
            "text/plain": [
              "\"we don't need the given questions\""
            ]
          },
          "metadata": {
            "tags": []
          },
          "execution_count": 4
        }
      ]
    },
    {
      "cell_type": "markdown",
      "metadata": {
        "id": "eXNggJdG3Cva",
        "colab_type": "text"
      },
      "source": [
        "## Remove Numbers\n",
        "We can either remove numbers or convert the numbers into their textual representations."
      ]
    },
    {
      "cell_type": "code",
      "metadata": {
        "id": "hr6qGKZe23Fy",
        "colab_type": "code",
        "colab": {}
      },
      "source": [
        "# Remove numbers \n",
        "import re \n",
        "def remove_numbers(text): \n",
        "    result = re.sub(r'\\d+', '', text) \n",
        "    return result"
      ],
      "execution_count": 0,
      "outputs": []
    },
    {
      "cell_type": "code",
      "metadata": {
        "id": "inb4wlAE3Gfz",
        "colab_type": "code",
        "outputId": "2a3d9fc5-b677-4e6e-ba61-2ab315537b10",
        "colab": {
          "base_uri": "https://localhost:8080/",
          "height": 35
        }
      },
      "source": [
        "input_str = \"There are 3 balls in this bag, and 12 in the other one.\"\n",
        "remove_numbers(input_str) "
      ],
      "execution_count": 6,
      "outputs": [
        {
          "output_type": "execute_result",
          "data": {
            "text/plain": [
              "'There are  balls in this bag, and  in the other one.'"
            ]
          },
          "metadata": {
            "tags": []
          },
          "execution_count": 6
        }
      ]
    }
  ]
}