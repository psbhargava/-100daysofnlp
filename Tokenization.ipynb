{
  "nbformat": 4,
  "nbformat_minor": 0,
  "metadata": {
    "colab": {
      "name": "Tokenization.ipynb",
      "provenance": [],
      "collapsed_sections": [],
      "toc_visible": true
    },
    "kernelspec": {
      "name": "python3",
      "display_name": "Python 3"
    }
  },
  "cells": [
    {
      "cell_type": "code",
      "metadata": {
        "id": "STUWZAIV3dAr",
        "colab_type": "code",
        "colab": {}
      },
      "source": [
        "import spacy \n",
        "nlp = spacy.load(\"en\") "
      ],
      "execution_count": 0,
      "outputs": []
    },
    {
      "cell_type": "code",
      "metadata": {
        "id": "RhndAH0w3z-d",
        "colab_type": "code",
        "colab": {}
      },
      "source": [
        "doc = nlp(\"The big grey dog ate all of the chocolate, but fortunately he wasn't sick!\")"
      ],
      "execution_count": 0,
      "outputs": []
    },
    {
      "cell_type": "code",
      "metadata": {
        "id": "NJg4qbSK3319",
        "colab_type": "code",
        "outputId": "6c74188a-2a65-430d-d1a0-826584e73cba",
        "colab": {
          "base_uri": "https://localhost:8080/",
          "height": 274
        }
      },
      "source": [
        "doc.text.split()"
      ],
      "execution_count": 3,
      "outputs": [
        {
          "output_type": "execute_result",
          "data": {
            "text/plain": [
              "['The',\n",
              " 'big',\n",
              " 'grey',\n",
              " 'dog',\n",
              " 'ate',\n",
              " 'all',\n",
              " 'of',\n",
              " 'the',\n",
              " 'chocolate,',\n",
              " 'but',\n",
              " 'fortunately',\n",
              " 'he',\n",
              " \"wasn't\",\n",
              " 'sick!']"
            ]
          },
          "metadata": {
            "tags": []
          },
          "execution_count": 3
        }
      ]
    },
    {
      "cell_type": "code",
      "metadata": {
        "id": "AdnRql7935Vs",
        "colab_type": "code",
        "outputId": "f6406c0c-62d1-4903-d92e-00c7ca85bc1a",
        "colab": {
          "base_uri": "https://localhost:8080/",
          "height": 329
        }
      },
      "source": [
        "[token.orth_ for token in doc]"
      ],
      "execution_count": 4,
      "outputs": [
        {
          "output_type": "execute_result",
          "data": {
            "text/plain": [
              "['The',\n",
              " 'big',\n",
              " 'grey',\n",
              " 'dog',\n",
              " 'ate',\n",
              " 'all',\n",
              " 'of',\n",
              " 'the',\n",
              " 'chocolate',\n",
              " ',',\n",
              " 'but',\n",
              " 'fortunately',\n",
              " 'he',\n",
              " 'was',\n",
              " \"n't\",\n",
              " 'sick',\n",
              " '!']"
            ]
          },
          "metadata": {
            "tags": []
          },
          "execution_count": 4
        }
      ]
    },
    {
      "cell_type": "code",
      "metadata": {
        "id": "w_CSG0Sr3-Ev",
        "colab_type": "code",
        "outputId": "fef046f0-32cb-4175-9b59-c8409816336b",
        "colab": {
          "base_uri": "https://localhost:8080/",
          "height": 329
        }
      },
      "source": [
        "[(token, token.orth_, token.orth) for token in doc]"
      ],
      "execution_count": 5,
      "outputs": [
        {
          "output_type": "execute_result",
          "data": {
            "text/plain": [
              "[(The, 'The', 5059648917813135842),\n",
              " (big, 'big', 15511632813958231649),\n",
              " (grey, 'grey', 10475807793332549289),\n",
              " (dog, 'dog', 7562983679033046312),\n",
              " (ate, 'ate', 10806788082624814911),\n",
              " (all, 'all', 13409319323822384369),\n",
              " (of, 'of', 886050111519832510),\n",
              " (the, 'the', 7425985699627899538),\n",
              " (chocolate, 'chocolate', 10946593968795032542),\n",
              " (,, ',', 2593208677638477497),\n",
              " (but, 'but', 14560795576765492085),\n",
              " (fortunately, 'fortunately', 13851269277375979931),\n",
              " (he, 'he', 1655312771067108281),\n",
              " (was, 'was', 9921686513378912864),\n",
              " (n't, \"n't\", 2043519015752540944),\n",
              " (sick, 'sick', 14841597609857081305),\n",
              " (!, '!', 17494803046312582752)]"
            ]
          },
          "metadata": {
            "tags": []
          },
          "execution_count": 5
        }
      ]
    },
    {
      "cell_type": "code",
      "metadata": {
        "id": "o6_ESWcA4A-E",
        "colab_type": "code",
        "outputId": "1a3e0f89-a7de-4bae-9641-b64d6e51b31b",
        "colab": {
          "base_uri": "https://localhost:8080/",
          "height": 293
        }
      },
      "source": [
        "[token.orth_ for token in doc if not token.is_punct | token.is_space]"
      ],
      "execution_count": 6,
      "outputs": [
        {
          "output_type": "execute_result",
          "data": {
            "text/plain": [
              "['The',\n",
              " 'big',\n",
              " 'grey',\n",
              " 'dog',\n",
              " 'ate',\n",
              " 'all',\n",
              " 'of',\n",
              " 'the',\n",
              " 'chocolate',\n",
              " 'but',\n",
              " 'fortunately',\n",
              " 'he',\n",
              " 'was',\n",
              " \"n't\",\n",
              " 'sick']"
            ]
          },
          "metadata": {
            "tags": []
          },
          "execution_count": 6
        }
      ]
    }
  ]
}